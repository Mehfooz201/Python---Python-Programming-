{
 "cells": [
  {
   "cell_type": "code",
   "execution_count": 1,
   "id": "e63d152b",
   "metadata": {},
   "outputs": [
    {
     "data": {
      "text/plain": [
       "16.0"
      ]
     },
     "execution_count": 1,
     "metadata": {},
     "output_type": "execute_result"
    }
   ],
   "source": [
    "#PYthon#  a number can divide a number \n",
    "32/2"
   ]
  },
  {
   "cell_type": "code",
   "execution_count": 2,
   "id": "4446492a",
   "metadata": {},
   "outputs": [
    {
     "data": {
      "text/plain": [
       "4.0"
      ]
     },
     "execution_count": 2,
     "metadata": {},
     "output_type": "execute_result"
    }
   ],
   "source": [
    "12/3\n"
   ]
  },
  {
   "cell_type": "code",
   "execution_count": 5,
   "id": "52d17914",
   "metadata": {},
   "outputs": [
    {
     "ename": "ZeroDivisionError",
     "evalue": "division by zero",
     "output_type": "error",
     "traceback": [
      "\u001b[1;31m---------------------------------------\u001b[0m",
      "\u001b[1;31mZeroDivisionError\u001b[0mTraceback (most recent call last)",
      "\u001b[1;32m<ipython-input-5-898e9759c56e>\u001b[0m in \u001b[0;36m<module>\u001b[1;34m\u001b[0m\n\u001b[1;32m----> 1\u001b[1;33m \u001b[1;36m12\u001b[0m\u001b[1;33m/\u001b[0m\u001b[1;36m0\u001b[0m\u001b[1;33m\u001b[0m\u001b[1;33m\u001b[0m\u001b[0m\n\u001b[0m",
      "\u001b[1;31mZeroDivisionError\u001b[0m: division by zero"
     ]
    }
   ],
   "source": [
    "12/0"
   ]
  },
  {
   "cell_type": "code",
   "execution_count": 6,
   "id": "a63caa1f",
   "metadata": {},
   "outputs": [
    {
     "ename": "TypeError",
     "evalue": "unsupported operand type(s) for /: 'int' and 'str'",
     "output_type": "error",
     "traceback": [
      "\u001b[1;31m---------------------------------------\u001b[0m",
      "\u001b[1;31mTypeError\u001b[0mTraceback (most recent call last)",
      "\u001b[1;32m<ipython-input-6-516f8802638a>\u001b[0m in \u001b[0;36m<module>\u001b[1;34m\u001b[0m\n\u001b[1;32m----> 1\u001b[1;33m \u001b[1;36m34\u001b[0m\u001b[1;33m/\u001b[0m\u001b[1;34m\"r\"\u001b[0m\u001b[1;33m\u001b[0m\u001b[1;33m\u001b[0m\u001b[0m\n\u001b[0m",
      "\u001b[1;31mTypeError\u001b[0m: unsupported operand type(s) for /: 'int' and 'str'"
     ]
    }
   ],
   "source": [
    "34/\"r\""
   ]
  },
  {
   "cell_type": "code",
   "execution_count": 12,
   "id": "8c115ecf",
   "metadata": {},
   "outputs": [
    {
     "name": "stdout",
     "output_type": "stream",
     "text": [
      "Enter a number0\n",
      "Enter a number5\n",
      "0.0\n"
     ]
    }
   ],
   "source": [
    "# Syntax error & logical/Runtime error\n",
    "a = int(input(\"Enter a number\")) \n",
    "b =int(input(\"Enter a number\")) \n",
    "c =a/b\n",
    "print(c)\n",
    "# >>input 0\n",
    "# >>input string value \n",
    "# >>> empty string"
   ]
  },
  {
   "cell_type": "code",
   "execution_count": 28,
   "id": "8320287d",
   "metadata": {},
   "outputs": [
    {
     "name": "stdout",
     "output_type": "stream",
     "text": [
      "Enter a number5\n",
      "Enter a number3\n",
      "1.6666666666666667\n"
     ]
    }
   ],
   "source": [
    "\n",
    "try:\n",
    "    a =int(input(\"Enter a number\")) \n",
    "    b =int(input(\"Enter a number\"))    \n",
    "    e= a/b\n",
    "except ZeroDivisionError:\n",
    "    print(\"You cannot divide a number by 0\")\n",
    "except ValueError:\n",
    "    print(\"Please supply a valid integer value\")\n",
    "else: print(e)    "
   ]
  },
  {
   "cell_type": "code",
   "execution_count": 26,
   "id": "00dde76b",
   "metadata": {},
   "outputs": [
    {
     "name": "stdout",
     "output_type": "stream",
     "text": [
      "Enter a number4\n",
      "Enter a number6\n",
      "You have a short list\n"
     ]
    }
   ],
   "source": [
    "aa=[2,3]\n",
    "try:\n",
    "    a =int(input(\"Enter a number\")) \n",
    "    b =int(input(\"Enter a number\"))\n",
    "    c = a/b   \n",
    "    s = aa[4]\n",
    "    # value error\n",
    "    # zeero div\n",
    "except ZeroDivisionError:\n",
    "    print(\"Zeero Division Error generated and caught\")\n",
    "except ValueError:\n",
    "    print('Value error generated and caught')\n",
    "except IndexError:\n",
    "    print(\"You have a short list\")\n",
    "\n",
    "else:\n",
    "    print(\"Code ahead...\", s)"
   ]
  },
  {
   "cell_type": "code",
   "execution_count": 30,
   "id": "509cd2ad",
   "metadata": {},
   "outputs": [
    {
     "name": "stdout",
     "output_type": "stream",
     "text": [
      "Enter a number5\n",
      "Enter a number0\n",
      "Handled ZeroDivisionError\n",
      "hello\n"
     ]
    }
   ],
   "source": [
    "a =int(input(\"Enter a number\")) \n",
    "b =int(input(\"Enter a number\")) \n",
    "try:\n",
    "    c = a/b\n",
    "except ZeroDivisionError:\n",
    "    print(\"Handled ZeroDivisionError\")\n",
    "else:\n",
    "    print(\"Else \" +str(c))\n",
    "print(\"hello\")"
   ]
  },
  {
   "cell_type": "code",
   "execution_count": 32,
   "id": "86e116c0",
   "metadata": {},
   "outputs": [
    {
     "name": "stdout",
     "output_type": "stream",
     "text": [
      "First\n",
      "Enter a number5\n",
      "Enter a number4\n",
      "Enter a index2\n",
      "1.25 3\n"
     ]
    }
   ],
   "source": [
    "print(\"First\")\n",
    "d = [1,2,3,4,5,6,7,9]\n",
    "try:\n",
    "    a =int(input(\"Enter a number\")) \n",
    "    b =int(input(\"Enter a number\"))\n",
    "    index = int(input(\"Enter a index\"))\n",
    "    c = a/b\n",
    "    e = d[index]\n",
    "except ZeroDivisionError:\n",
    "    print(\"Handled ZeroDivisionError\")\n",
    "except ValueError:\n",
    "    print(\"Value eror reported\")\n",
    "except IndexError:\n",
    "    print(\"INdex error reported\")\n",
    "except:\n",
    "    print(\"Caught\")\n",
    "else:\n",
    "    print(c, e )"
   ]
  },
  {
   "cell_type": "code",
   "execution_count": 36,
   "id": "0150fc7e",
   "metadata": {},
   "outputs": [
    {
     "name": "stdout",
     "output_type": "stream",
     "text": [
      "Enter a number5\n",
      "Enter a number4\n",
      "Exception is caught\n"
     ]
    }
   ],
   "source": [
    "d = []\n",
    "try:\n",
    "    a =int(input(\"Enter a number\")) # to except null value and value tpye errors\n",
    "    b =int(input(\"Enter a number\")) # we kept these inputs also in try block\n",
    "    c = a/b\n",
    "    e = d\n",
    "except:           # here we did not explain the type of exception. Genral exception will\n",
    "                  # be used. means it will catch every kind of exception\n",
    "    print(\"Exception is caught\")\n",
    "else:\n",
    "    print(c)\n",
    "    "
   ]
  },
  {
   "cell_type": "code",
   "execution_count": 45,
   "id": "e2553549",
   "metadata": {},
   "outputs": [
    {
     "name": "stdout",
     "output_type": "stream",
     "text": [
      "Enter a number0\n",
      "Enter a number2\n",
      "Handle Error == list index out of range\n",
      "HelloWorld\n"
     ]
    }
   ],
   "source": [
    "d = []\n",
    "try:\n",
    "    a =int(input(\"Enter a number\")) \n",
    "    b =int(input(\"Enter a number\")) \n",
    "    '''built in message print karna hy exception ka to {except Exception as e:}\n",
    "    is me jistrah ki acception aegi wo uska message khud he utha k laega or print karega\n",
    "    is code ko khud se run kare or exception raise kar k dekhen'''\n",
    "    c = a/b\n",
    "    ee = d[5]\n",
    "except Exception as e:# handler>>> e >>handler object of exception class \n",
    "    print(\"Handle Error == \" +str(e))\n",
    "else:\n",
    "    print(c)\n",
    "\n",
    "print('HelloWorld')"
   ]
  },
  {
   "cell_type": "code",
   "execution_count": 52,
   "id": "227c8b7f",
   "metadata": {},
   "outputs": [
    {
     "ename": "SyntaxError",
     "evalue": "invalid syntax (<ipython-input-52-f2cea29677b5>, line 16)",
     "output_type": "error",
     "traceback": [
      "\u001b[1;36m  File \u001b[1;32m\"<ipython-input-52-f2cea29677b5>\"\u001b[1;36m, line \u001b[1;32m16\u001b[0m\n\u001b[1;33m    finally:\u001b[0m\n\u001b[1;37m          ^\u001b[0m\n\u001b[1;31mSyntaxError\u001b[0m\u001b[1;31m:\u001b[0m invalid syntax\n"
     ]
    }
   ],
   "source": [
    "d = []\n",
    "try:\n",
    "    a =int(input(\"Enter a number\")) \n",
    "    b =int(input(\"Enter a number\")) \n",
    "    c = a/b\n",
    "    e = d[5]\n",
    "except ZeroDivisionError:\n",
    "    \n",
    "    print(\"Handel ZeroDivisionError\")\n",
    "\n",
    "else:\n",
    "    print(c)\n",
    "\n",
    "\n",
    "finally:\n",
    "    print(\"Finally will always run\")\n",
    "finally:\n",
    "    print(\"I am also finally\")"
   ]
  },
  {
   "cell_type": "code",
   "execution_count": 1,
   "id": "e534eafb",
   "metadata": {},
   "outputs": [
    {
     "name": "stdout",
     "output_type": "stream",
     "text": [
      "Enter num1\n",
      "[1]\n",
      "Enter num2\n",
      "[1, 2]\n",
      "Enter num3\n",
      "[1, 2, 3]\n",
      "Enter num4\n",
      "[1, 2, 3, 4]\n",
      "Enter num10\n",
      "[1, 2, 3, 4, 10]\n",
      "Enter numds\n",
      "Error\n",
      "[1, 2, 3, 4, 10]\n",
      "Enter num\n",
      "Error\n",
      "[1, 2, 3, 4, 10]\n",
      "Enter num\n",
      "Error\n",
      "[1, 2, 3, 4, 10]\n",
      "Enter num\n",
      "Error\n",
      "[1, 2, 3, 4, 10]\n",
      "Enter num\n",
      "Error\n",
      "[1, 2, 3, 4, 10]\n"
     ]
    }
   ],
   "source": [
    "lst = []\n",
    "for a in range(10):\n",
    "    try:\n",
    "        num = int(input(\"Enter num\"))\n",
    "        # 10 \n",
    "        lst.append(num)\n",
    "    except:\n",
    "        print(\"Error\")\n",
    "    finally:\n",
    "        print(lst)"
   ]
  },
  {
   "cell_type": "markdown",
   "id": "1dc0e6db",
   "metadata": {},
   "source": [
    "# Rasing our own exceptions\n",
    "\n",
    "We can rasie exception by ourselves. ony any condition we defined like if a>10 raise exception\n",
    "like if user inputs value 10 raise exception bla bla bla bla......"
   ]
  },
  {
   "cell_type": "code",
   "execution_count": 2,
   "id": "4e70a31e",
   "metadata": {},
   "outputs": [],
   "source": [
    "class Student():\n",
    "    def __init__(self,name,age):\n",
    "        if age > 80 or age <16:\n",
    "            raise Exception(\"Age can not be greater then 80 and less then 16\")\n",
    "        self.name = name\n",
    "        self.age = age"
   ]
  },
  {
   "cell_type": "code",
   "execution_count": 5,
   "id": "0a528f3d",
   "metadata": {},
   "outputs": [
    {
     "name": "stdout",
     "output_type": "stream",
     "text": [
      "Enter students age: 100\n"
     ]
    },
    {
     "ename": "Exception",
     "evalue": "Age can not be greater then 80 and less then 16",
     "output_type": "error",
     "traceback": [
      "\u001b[1;31m---------------------------------------\u001b[0m",
      "\u001b[1;31mException\u001b[0mTraceback (most recent call last)",
      "\u001b[1;32m<ipython-input-5-e9489b4176a9>\u001b[0m in \u001b[0;36m<module>\u001b[1;34m\u001b[0m\n\u001b[0;32m      1\u001b[0m \u001b[0mage\u001b[0m \u001b[1;33m=\u001b[0m \u001b[0mint\u001b[0m\u001b[1;33m(\u001b[0m\u001b[0minput\u001b[0m\u001b[1;33m(\u001b[0m\u001b[1;34m\"Enter students age: \"\u001b[0m\u001b[1;33m)\u001b[0m\u001b[1;33m)\u001b[0m\u001b[1;33m\u001b[0m\u001b[1;33m\u001b[0m\u001b[0m\n\u001b[0;32m      2\u001b[0m \u001b[1;33m\u001b[0m\u001b[0m\n\u001b[1;32m----> 3\u001b[1;33m \u001b[0mst\u001b[0m \u001b[1;33m=\u001b[0m \u001b[0mStudent\u001b[0m\u001b[1;33m(\u001b[0m\u001b[1;34m\"Nasir\"\u001b[0m\u001b[1;33m,\u001b[0m\u001b[0mage\u001b[0m\u001b[1;33m)\u001b[0m\u001b[1;33m\u001b[0m\u001b[1;33m\u001b[0m\u001b[0m\n\u001b[0m\u001b[0;32m      4\u001b[0m \u001b[1;33m\u001b[0m\u001b[0m\n\u001b[0;32m      5\u001b[0m \u001b[0mprint\u001b[0m\u001b[1;33m(\u001b[0m\u001b[0mst\u001b[0m\u001b[1;33m.\u001b[0m\u001b[0mage\u001b[0m\u001b[1;33m)\u001b[0m\u001b[1;33m\u001b[0m\u001b[1;33m\u001b[0m\u001b[0m\n",
      "\u001b[1;32m<ipython-input-2-b067c15d8f3e>\u001b[0m in \u001b[0;36m__init__\u001b[1;34m(self, name, age)\u001b[0m\n\u001b[0;32m      2\u001b[0m     \u001b[1;32mdef\u001b[0m \u001b[0m__init__\u001b[0m\u001b[1;33m(\u001b[0m\u001b[0mself\u001b[0m\u001b[1;33m,\u001b[0m\u001b[0mname\u001b[0m\u001b[1;33m,\u001b[0m\u001b[0mage\u001b[0m\u001b[1;33m)\u001b[0m\u001b[1;33m:\u001b[0m\u001b[1;33m\u001b[0m\u001b[1;33m\u001b[0m\u001b[0m\n\u001b[0;32m      3\u001b[0m         \u001b[1;32mif\u001b[0m \u001b[0mage\u001b[0m \u001b[1;33m>\u001b[0m \u001b[1;36m80\u001b[0m \u001b[1;32mor\u001b[0m \u001b[0mage\u001b[0m \u001b[1;33m<\u001b[0m\u001b[1;36m16\u001b[0m\u001b[1;33m:\u001b[0m\u001b[1;33m\u001b[0m\u001b[1;33m\u001b[0m\u001b[0m\n\u001b[1;32m----> 4\u001b[1;33m             \u001b[1;32mraise\u001b[0m \u001b[0mException\u001b[0m\u001b[1;33m(\u001b[0m\u001b[1;34m\"Age can not be greater then 80 and less then 16\"\u001b[0m\u001b[1;33m)\u001b[0m\u001b[1;33m\u001b[0m\u001b[1;33m\u001b[0m\u001b[0m\n\u001b[0m\u001b[0;32m      5\u001b[0m         \u001b[0mself\u001b[0m\u001b[1;33m.\u001b[0m\u001b[0mname\u001b[0m \u001b[1;33m=\u001b[0m \u001b[0mname\u001b[0m\u001b[1;33m\u001b[0m\u001b[1;33m\u001b[0m\u001b[0m\n\u001b[0;32m      6\u001b[0m         \u001b[0mself\u001b[0m\u001b[1;33m.\u001b[0m\u001b[0mage\u001b[0m \u001b[1;33m=\u001b[0m \u001b[0mage\u001b[0m\u001b[1;33m\u001b[0m\u001b[1;33m\u001b[0m\u001b[0m\n",
      "\u001b[1;31mException\u001b[0m: Age can not be greater then 80 and less then 16"
     ]
    }
   ],
   "source": [
    "age = int(input(\"Enter students age: \"))\n",
    "\n",
    "st = Student(\"Nasir\",age)\n",
    "\n",
    "print(st.age)\n"
   ]
  },
  {
   "cell_type": "code",
   "execution_count": 7,
   "id": "e16e88ae",
   "metadata": {},
   "outputs": [
    {
     "name": "stdout",
     "output_type": "stream",
     "text": [
      "Enter students age: 15\n",
      "Exception Age can not be greater then 80 or less than 16\n"
     ]
    }
   ],
   "source": [
    "class Student():\n",
    "    def __init__(self,name,age):\n",
    "        if age > 80 or age<16:\n",
    "            raise Exception(\"Age can not be greater then 80 or less than 16\")\n",
    "        self.name = name\n",
    "        self.age = age\n",
    "\n",
    "\n",
    "'''ab humen try except laga diya hy code crash nahi hoga '''\n",
    "try:\n",
    "    age = int(input(\"Enter students age: \"))\n",
    "    st = Student(\"Hello\",age)   # send different ages and see the result\n",
    "except Exception as e:\n",
    "    print(\"Exception \"+str(e))\n",
    "else :\n",
    "    print(st.age)\n",
    "\n"
   ]
  },
  {
   "cell_type": "markdown",
   "id": "7fb2c99e",
   "metadata": {},
   "source": [
    "# File Handling "
   ]
  },
  {
   "cell_type": "markdown",
   "id": "fc23430a",
   "metadata": {},
   "source": [
    "Read mode: file must be present on the location\n",
    "Open must be closed in every mode "
   ]
  },
  {
   "cell_type": "code",
   "execution_count": 20,
   "id": "97873058",
   "metadata": {},
   "outputs": [
    {
     "name": "stdout",
     "output_type": "stream",
     "text": [
      "sir open file for random bhi krskte h??\n",
      "sir open file for random bhi \n",
      "data \n",
      "From Infinix HOT 11 Play to Me (Direct Message) 03:02 PM\n",
      "sir open file for random bhi krskte h??\n",
      "From Infinix HOT 11 Play to Me (Direct Message) 03:13 PM\n",
      "sir open file for random bhi krskte h??\n",
      "\n"
     ]
    }
   ],
   "source": [
    "\n",
    "try:\n",
    "    f = open(\"questions.txt\",'r')  # f is handler \n",
    "    print(f.read())\n",
    "    \n",
    "except FileNotFoundError:\n",
    "    print(\"The file you are looking for is not at location\")\n",
    "finally:\n",
    "    f.close()\n",
    "    "
   ]
  },
  {
   "cell_type": "markdown",
   "id": "df78005b",
   "metadata": {},
   "source": [
    "Write mode :\n",
    " if i write in existing file. It will override all prevoius data. \n",
    " if in writing mode i try to write in non existing, it will first create file and then write in it. "
   ]
  },
  {
   "cell_type": "code",
   "execution_count": 24,
   "id": "d0b4e7e7",
   "metadata": {},
   "outputs": [],
   "source": [
    "# context manager\n",
    "with open(\"G:/Misc/myfile.txt\", 'w') as f:\n",
    "    f.write(\"Hello welcome to my file \\n\")\n",
    "    f.write(\"Hello welcome to my file\\n\")\n",
    "    f.write(\"Hello welcome to my file\\n\")\n",
    "    f.write(\"Hello welcome to my file\\n\")\n",
    "    f.write(\"Hello welcome to my file\")\n",
    "\n",
    "# context manager closes file iteself as soon as indent gets out.   "
   ]
  },
  {
   "cell_type": "code",
   "execution_count": 26,
   "id": "194a2cc2",
   "metadata": {},
   "outputs": [
    {
     "name": "stdout",
     "output_type": "stream",
     "text": [
      "Hello welcome to my file \n",
      "Hello welcome to my file\n",
      "Hello welcome to my file\n",
      "Hello welcome to my file\n",
      "Hello welcome to my file\n"
     ]
    }
   ],
   "source": [
    "with open(\"myfile.txt\",'r') as f:\n",
    "    print(f.read())"
   ]
  },
  {
   "cell_type": "code",
   "execution_count": 27,
   "id": "d23afde5",
   "metadata": {},
   "outputs": [],
   "source": [
    "with open(\"G:/Misc/myfile.txt\", 'w') as f:\n",
    "    f.write(\"Now i have written in existing file \\nso prev data is gone\")\n",
    "    \n",
    "    "
   ]
  },
  {
   "cell_type": "code",
   "execution_count": 28,
   "id": "8aa3b9ff",
   "metadata": {},
   "outputs": [],
   "source": [
    "with open(\"myfile.txt\", \"a\") as f:\n",
    "    f.write(\"\\nHllo this is append mode  \")"
   ]
  },
  {
   "cell_type": "raw",
   "id": "5979435a",
   "metadata": {},
   "source": [
    "r+ >>>> read and write both >> file must be needed it will crrate file itself if not present\n",
    "w+ >>>>> read and write both >>file must be present "
   ]
  },
  {
   "cell_type": "code",
   "execution_count": null,
   "id": "fdc84ddc",
   "metadata": {},
   "outputs": [],
   "source": []
  }
 ],
 "metadata": {
  "kernelspec": {
   "display_name": "Python 3",
   "language": "python",
   "name": "python3"
  },
  "language_info": {
   "codemirror_mode": {
    "name": "ipython",
    "version": 3
   },
   "file_extension": ".py",
   "mimetype": "text/x-python",
   "name": "python",
   "nbconvert_exporter": "python",
   "pygments_lexer": "ipython3",
   "version": "3.7.4"
  }
 },
 "nbformat": 4,
 "nbformat_minor": 5
}
