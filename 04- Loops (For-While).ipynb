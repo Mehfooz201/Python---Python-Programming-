{
 "cells": [
  {
   "cell_type": "markdown",
   "id": "ba1a8090",
   "metadata": {},
   "source": [
    "# LOOPs\n",
    "   - For Loop\n",
    "   - While Loop"
   ]
  },
  {
   "cell_type": "code",
   "execution_count": 7,
   "id": "95fa003e",
   "metadata": {},
   "outputs": [
    {
     "name": "stdout",
     "output_type": "stream",
     "text": [
      "1 Mehfooz Ali\n",
      "2 Mehfooz Ali\n",
      "3 Mehfooz Ali\n",
      "4 Mehfooz Ali\n",
      "5 Mehfooz Ali\n",
      "6 Mehfooz Ali\n",
      "7 Mehfooz Ali\n",
      "8 Mehfooz Ali\n",
      "9 Mehfooz Ali\n"
     ]
    }
   ],
   "source": [
    "#To print your ten times\n",
    "for i in range(1,10):\n",
    "    print(i, \"Mehfooz Ali\")"
   ]
  },
  {
   "cell_type": "code",
   "execution_count": 8,
   "id": "d3527ff0",
   "metadata": {},
   "outputs": [],
   "source": [
    "#list \n",
    "students = ['Asad', 'Ali', 'Daad', 'Hassan']"
   ]
  },
  {
   "cell_type": "code",
   "execution_count": 9,
   "id": "02c79e0c",
   "metadata": {},
   "outputs": [
    {
     "name": "stdout",
     "output_type": "stream",
     "text": [
      "asad\n",
      "ali\n",
      "daad\n",
      "hassan\n"
     ]
    }
   ],
   "source": [
    "#items se variable uthayenge to single krenge jese students ko student \n",
    "#iterable : one by one accesible value\n",
    "for student in students:\n",
    "    print(student.lower())"
   ]
  },
  {
   "cell_type": "code",
   "execution_count": 10,
   "id": "d5666734",
   "metadata": {},
   "outputs": [
    {
     "name": "stdout",
     "output_type": "stream",
     "text": [
      "P\n",
      "a\n",
      "k\n",
      "i\n",
      "s\n",
      "t\n",
      "a\n",
      "n\n"
     ]
    }
   ],
   "source": [
    "for char in 'Pakistan':\n",
    "    print(char)"
   ]
  },
  {
   "cell_type": "code",
   "execution_count": 13,
   "id": "0937ca01",
   "metadata": {},
   "outputs": [
    {
     "ename": "TypeError",
     "evalue": "'int' object is not iterable",
     "output_type": "error",
     "traceback": [
      "\u001b[1;31m---------------------------------------------------------------------------\u001b[0m",
      "\u001b[1;31mTypeError\u001b[0m                                 Traceback (most recent call last)",
      "\u001b[1;32m~\\AppData\\Local\\Temp/ipykernel_7920/2759236282.py\u001b[0m in \u001b[0;36m<module>\u001b[1;34m\u001b[0m\n\u001b[1;32m----> 1\u001b[1;33m \u001b[1;32mfor\u001b[0m \u001b[0mnum\u001b[0m \u001b[1;32min\u001b[0m \u001b[1;36m5001\u001b[0m\u001b[1;33m:\u001b[0m\u001b[1;33m\u001b[0m\u001b[1;33m\u001b[0m\u001b[0m\n\u001b[0m\u001b[0;32m      2\u001b[0m     \u001b[0mprint\u001b[0m\u001b[1;33m(\u001b[0m\u001b[0mnum\u001b[0m\u001b[1;33m)\u001b[0m  \u001b[1;31m#Numbers ki alg alg value iterate ny ho skti error dega.\u001b[0m\u001b[1;33m\u001b[0m\u001b[1;33m\u001b[0m\u001b[0m\n",
      "\u001b[1;31mTypeError\u001b[0m: 'int' object is not iterable"
     ]
    }
   ],
   "source": [
    "for num in 5001:\n",
    "    print(num)  #Numbers ki alg alg value iterate ny ho skti error dega."
   ]
  },
  {
   "cell_type": "code",
   "execution_count": 14,
   "id": "fda33911",
   "metadata": {},
   "outputs": [
    {
     "name": "stdout",
     "output_type": "stream",
     "text": [
      "0 Hello\n",
      "1 Hello\n",
      "2 Hello\n",
      "3 Hello\n",
      "4 Hello\n",
      "5 Hello\n",
      "6 Hello\n",
      "7 Hello\n",
      "8 Hello\n",
      "9 Hello\n"
     ]
    }
   ],
   "source": [
    "#Series of number geneerate \n",
    "#Range: Range is a generator function\n",
    "\n",
    "for a in range(10):\n",
    "    print(a, 'Hello')"
   ]
  },
  {
   "cell_type": "code",
   "execution_count": 16,
   "id": "35e1ba6c",
   "metadata": {},
   "outputs": [
    {
     "name": "stdout",
     "output_type": "stream",
     "text": [
      "1 Python\n",
      "2 Python\n",
      "3 Python\n",
      "4 Python\n"
     ]
    }
   ],
   "source": [
    "for a in range(1,5):\n",
    "    print(a, \"Python\")"
   ]
  },
  {
   "cell_type": "code",
   "execution_count": 18,
   "id": "34197337",
   "metadata": {},
   "outputs": [
    {
     "name": "stdout",
     "output_type": "stream",
     "text": [
      "0\n",
      "2\n",
      "4\n",
      "6\n",
      "8\n",
      "10\n",
      "12\n",
      "14\n",
      "16\n",
      "18\n"
     ]
    }
   ],
   "source": [
    "for a in range(0,20,2):#Three parameters (Starting, Ending-1, Step)\n",
    "    print(a)"
   ]
  },
  {
   "cell_type": "code",
   "execution_count": 23,
   "id": "215c26e7",
   "metadata": {},
   "outputs": [
    {
     "name": "stdout",
     "output_type": "stream",
     "text": [
      "10\n",
      "9\n",
      "8\n",
      "7\n",
      "6\n",
      "5\n",
      "4\n",
      "3\n",
      "2\n",
      "1\n"
     ]
    }
   ],
   "source": [
    "for a in range(10,0,-1):\n",
    "    print(a)"
   ]
  },
  {
   "cell_type": "markdown",
   "id": "d249b734",
   "metadata": {},
   "source": [
    "# Break and Continue\n",
    "  - me apne loop ko kaheen rok skon"
   ]
  },
  {
   "cell_type": "code",
   "execution_count": 24,
   "id": "4e991643",
   "metadata": {},
   "outputs": [
    {
     "name": "stdout",
     "output_type": "stream",
     "text": [
      "asad\n"
     ]
    }
   ],
   "source": [
    "for student in students:\n",
    "    if student.endswith('i'):\n",
    "        break\n",
    "    else:\n",
    "        pass\n",
    "    print(student.lower())"
   ]
  },
  {
   "cell_type": "code",
   "execution_count": 25,
   "id": "e318f1dd",
   "metadata": {},
   "outputs": [
    {
     "name": "stdout",
     "output_type": "stream",
     "text": [
      "1 Python\n",
      "2 Python\n"
     ]
    }
   ],
   "source": [
    "for a in range(1,5):\n",
    "    if a == 3:\n",
    "        break\n",
    "    print(a, \"Python\")"
   ]
  },
  {
   "cell_type": "code",
   "execution_count": 26,
   "id": "1003a3e1",
   "metadata": {},
   "outputs": [
    {
     "name": "stdout",
     "output_type": "stream",
     "text": [
      "asad\n"
     ]
    }
   ],
   "source": [
    "for student in students:\n",
    "    if student.endswith('i'):\n",
    "        break\n",
    "    else:\n",
    "        pass\n",
    "    print(student.lower())"
   ]
  },
  {
   "cell_type": "code",
   "execution_count": 27,
   "id": "d11576a1",
   "metadata": {},
   "outputs": [
    {
     "name": "stdout",
     "output_type": "stream",
     "text": [
      "1\n",
      "2\n",
      "3\n",
      "4\n",
      "5\n",
      "6\n",
      "8\n",
      "9\n"
     ]
    }
   ],
   "source": [
    "#continue sirf condition wali value ko skip krta he\n",
    "for a in range(1,10):\n",
    "    if a%7 == 0:\n",
    "        continue\n",
    "    print(a)"
   ]
  },
  {
   "cell_type": "code",
   "execution_count": 36,
   "id": "aa6452bb",
   "metadata": {},
   "outputs": [
    {
     "name": "stdout",
     "output_type": "stream",
     "text": [
      "1 * 2 = 2\n",
      "2 * 2 = 4\n",
      "3 * 2 = 6\n",
      "4 * 2 = 8\n",
      "5 * 2 = 10\n",
      "6 * 2 = 12\n",
      "7 * 2 = 14\n",
      "8 * 2 = 16\n",
      "9 * 2 = 18\n",
      "10 * 2 = 20\n"
     ]
    }
   ],
   "source": [
    "# Table 2 \n",
    "for i in range(1,11):\n",
    "    print(i,\"*\",\"2\",\"=\", 2*i)"
   ]
  },
  {
   "cell_type": "code",
   "execution_count": 53,
   "id": "4d33db21",
   "metadata": {},
   "outputs": [
    {
     "name": "stdout",
     "output_type": "stream",
     "text": [
      "**\n",
      "8\n",
      "**\n",
      "8\n",
      "**\n",
      "8\n",
      "**\n",
      "8\n",
      "**\n",
      "8\n"
     ]
    }
   ],
   "source": [
    "for i in range(0, 5):\n",
    "    \n",
    "    \n",
    "    print(a*b)\n",
    "    \n",
    "    \n",
    "    "
   ]
  },
  {
   "cell_type": "markdown",
   "id": "3ffe7d40",
   "metadata": {},
   "source": [
    "#Write a program that takes 5 value from user and classify them as odds and even in odds\n",
    "evens list"
   ]
  },
  {
   "cell_type": "code",
   "execution_count": 67,
   "id": "7143625c",
   "metadata": {},
   "outputs": [
    {
     "name": "stdout",
     "output_type": "stream",
     "text": [
      "Enter a value : 2\n",
      "Enter a value : 3\n",
      "Enter a value : 5\n",
      "Enter a value : 6\n",
      "Enter a value : 7\n",
      "This is even list : [2, 6] and this is Odd list [3, 5, 7]\n"
     ]
    }
   ],
   "source": [
    "eveList = []\n",
    "oddList = []\n",
    "\n",
    "for a in range(5):\n",
    "    userValue = int(input(\"Enter a value : \"))\n",
    "    if userValue %2 == 0: \n",
    "        eveList.append(userValue)\n",
    "\n",
    "    else: \n",
    "        oddList.append(userValue)\n",
    "        \n",
    "print(f\"This is even list : {eveList} and this is Odd list {oddList}\")\n",
    "    "
   ]
  },
  {
   "cell_type": "code",
   "execution_count": 66,
   "id": "6a15dee5",
   "metadata": {},
   "outputs": [
    {
     "name": "stdout",
     "output_type": "stream",
     "text": [
      "Enter a value : 2\n",
      "Enter a value : 3\n",
      "Enter a value : 4\n",
      "Enter a value : 5\n",
      "Enter a value : 6\n",
      "[2, 4, 6] [3, 5]\n"
     ]
    }
   ],
   "source": [
    "evenList = []\n",
    "oddList = []\n",
    "result = None\n",
    "\n",
    "for a in range(5):\n",
    "    userValue = int(input(\"Enter a value : \"))\n",
    "    if userValue %2 == 0: \n",
    "        evenList.append(userValue)\n",
    "#         print(?userValue)\n",
    "    else: \n",
    "        oddList.append(userValue)\n",
    "#         print(userValue)\n",
    "\n",
    "print(evenList, oddList)\n",
    "    "
   ]
  },
  {
   "cell_type": "markdown",
   "id": "5a1c33bc",
   "metadata": {},
   "source": [
    "# List Comprehension\n"
   ]
  },
  {
   "cell_type": "code",
   "execution_count": 69,
   "id": "14507a43",
   "metadata": {},
   "outputs": [
    {
     "name": "stdout",
     "output_type": "stream",
     "text": [
      "[1, 3, 5, 7, 9, 11, 13, 15, 17, 19]\n"
     ]
    }
   ],
   "source": [
    "#need a list of odd numbers between 1,20\n",
    "\n",
    "odd = []\n",
    "for num in range(1,21):\n",
    "    if num%2!=0:\n",
    "        odd.append(num)\n",
    "print(odd)"
   ]
  },
  {
   "cell_type": "code",
   "execution_count": 71,
   "id": "c4c11950",
   "metadata": {},
   "outputs": [
    {
     "data": {
      "text/plain": [
       "[1, 3, 5, 7, 9, 11, 13, 15, 17, 19]"
      ]
     },
     "execution_count": 71,
     "metadata": {},
     "output_type": "execute_result"
    }
   ],
   "source": [
    "[a for a in range(1,21) if a%2!=0]"
   ]
  },
  {
   "cell_type": "code",
   "execution_count": 75,
   "id": "f6d84718",
   "metadata": {},
   "outputs": [
    {
     "name": "stdout",
     "output_type": "stream",
     "text": [
      "[2, 4, 6, 8, 10, 12, 14, 16, 18, 20]\n"
     ]
    }
   ],
   "source": [
    "#Even List\n",
    "\n",
    "#need a list of odd numbers between 1,20\n",
    "\n",
    "even = []\n",
    "for num in range(1,21):\n",
    "    if num%2 == 0:\n",
    "        even.append(num)\n",
    "print(even)"
   ]
  },
  {
   "cell_type": "code",
   "execution_count": 80,
   "id": "60cc4f3a",
   "metadata": {},
   "outputs": [
    {
     "data": {
      "text/plain": [
       "[2, 4, 6, 8, 10, 12, 14, 16, 18, 20]"
      ]
     },
     "execution_count": 80,
     "metadata": {},
     "output_type": "execute_result"
    }
   ],
   "source": [
    "[a for a in range(1,21) if a%2==0 ]"
   ]
  },
  {
   "cell_type": "code",
   "execution_count": 89,
   "id": "b8df1edb",
   "metadata": {},
   "outputs": [],
   "source": [
    "#others\n",
    "evens=[]\n",
    "odds=[]"
   ]
  },
  {
   "cell_type": "code",
   "execution_count": 90,
   "id": "2ef42abf",
   "metadata": {},
   "outputs": [
    {
     "data": {
      "text/plain": [
       "[None,\n",
       " None,\n",
       " None,\n",
       " None,\n",
       " None,\n",
       " None,\n",
       " None,\n",
       " None,\n",
       " None,\n",
       " None,\n",
       " None,\n",
       " None,\n",
       " None,\n",
       " None,\n",
       " None,\n",
       " None,\n",
       " None,\n",
       " None,\n",
       " None,\n",
       " None]"
      ]
     },
     "execution_count": 90,
     "metadata": {},
     "output_type": "execute_result"
    }
   ],
   "source": [
    "[evens.append(a) if a%2==0 else odds.append(a) for a in range(1,21)]"
   ]
  },
  {
   "cell_type": "code",
   "execution_count": 91,
   "id": "90d81d15",
   "metadata": {},
   "outputs": [
    {
     "data": {
      "text/plain": [
       "[2, 4, 6, 8, 10, 12, 14, 16, 18, 20]"
      ]
     },
     "execution_count": 91,
     "metadata": {},
     "output_type": "execute_result"
    }
   ],
   "source": [
    "evens"
   ]
  },
  {
   "cell_type": "code",
   "execution_count": 92,
   "id": "b3d6cbc2",
   "metadata": {},
   "outputs": [
    {
     "data": {
      "text/plain": [
       "[1, 3, 5, 7, 9, 11, 13, 15, 17, 19]"
      ]
     },
     "execution_count": 92,
     "metadata": {},
     "output_type": "execute_result"
    }
   ],
   "source": [
    "odds"
   ]
  },
  {
   "cell_type": "code",
   "execution_count": 117,
   "id": "78f815b5",
   "metadata": {},
   "outputs": [
    {
     "name": "stdout",
     "output_type": "stream",
     "text": [
      "Enter a value : \n",
      "Sudhar Jaa\n"
     ]
    }
   ],
   "source": [
    "evenList = []\n",
    "oddList = []\n",
    "nums = input(\"Enter a value : \").split(',')\n",
    "\n",
    "if len(nums[0])==0:\n",
    "    print(\"Sudhar Jaa\")\n",
    "\n",
    "else:\n",
    "    for num in nums:\n",
    "        num = int(num)\n",
    "\n",
    "        if (num)%2==0: \n",
    "            evenList.append(nums)\n",
    "            \n",
    "        else: \n",
    "            oddList.append(nums)\n",
    "        #         print(userValue)\n",
    "\n",
    "# print(evenList, oddList)\n",
    "    "
   ]
  },
  {
   "cell_type": "code",
   "execution_count": 101,
   "id": "3750c4cd",
   "metadata": {},
   "outputs": [
    {
     "name": "stdout",
     "output_type": "stream",
     "text": [
      "2,3,4,1,4,5,\n"
     ]
    }
   ],
   "source": [
    "nums = input().split(',')"
   ]
  },
  {
   "cell_type": "code",
   "execution_count": 102,
   "id": "7802f841",
   "metadata": {},
   "outputs": [
    {
     "data": {
      "text/plain": [
       "['2', '3', '4', '1', '4', '5', '']"
      ]
     },
     "execution_count": 102,
     "metadata": {},
     "output_type": "execute_result"
    }
   ],
   "source": [
    "nums"
   ]
  },
  {
   "cell_type": "code",
   "execution_count": 100,
   "id": "15566e1d",
   "metadata": {},
   "outputs": [
    {
     "data": {
      "text/plain": [
       "['P', 'kist', 'n']"
      ]
     },
     "execution_count": 100,
     "metadata": {},
     "output_type": "execute_result"
    }
   ],
   "source": [
    "'Pakistan'.split('a')"
   ]
  },
  {
   "cell_type": "code",
   "execution_count": 122,
   "id": "45b283ce",
   "metadata": {},
   "outputs": [
    {
     "name": "stdout",
     "output_type": "stream",
     "text": [
      "Enter a value : cc\n",
      "Please don't play with us \n"
     ]
    }
   ],
   "source": [
    "evenList = []\n",
    "oddList = []\n",
    "nums = input(\"Enter a value : \").split(',')\n",
    "\n",
    "for val in nums:\n",
    "    \n",
    "    if val.isnumeric():\n",
    "        for num in nums:\n",
    "            num = int(val)\n",
    "\n",
    "            if (num)%2==0: \n",
    "                evenList.append(nums)\n",
    "\n",
    "            else: \n",
    "                oddList.append(nums)\n",
    "    else:\n",
    "        print(\"Please don't play with us \")\n",
    "\n",
    "# print(evenList, oddList)\n",
    "    "
   ]
  },
  {
   "cell_type": "markdown",
   "id": "002f0d54",
   "metadata": {},
   "source": [
    "# While"
   ]
  },
  {
   "cell_type": "code",
   "execution_count": 127,
   "id": "d04ebb83",
   "metadata": {},
   "outputs": [
    {
     "name": "stdout",
     "output_type": "stream",
     "text": [
      "0\n",
      "2\n",
      "4\n",
      "6\n",
      "8\n"
     ]
    }
   ],
   "source": [
    "#While is condition based limit and for lop is not condition based.\n",
    "#For loop aik defined range tk chlta he\n",
    "\n",
    "a=0\n",
    "while a<10:\n",
    "    print(a)\n",
    "    a += 2  # a -= 2 reverse me chalega\n",
    "    "
   ]
  },
  {
   "cell_type": "code",
   "execution_count": 129,
   "id": "23fbb42f",
   "metadata": {},
   "outputs": [
    {
     "name": "stdout",
     "output_type": "stream",
     "text": [
      "Enter a guest name or press q to exit: Hamza\n",
      "Enter a guest name or press q to exit: Nasir\n",
      "Enter a guest name or press q to exit: Mehfooz\n",
      "Enter a guest name or press q to exit: q\n",
      "['Hamza', 'Nasir', 'Mehfooz']\n"
     ]
    }
   ],
   "source": [
    "guestList = []\n",
    "flag = True #boolean\n",
    "\n",
    "while flag:\n",
    "    guestName = input(\"Enter a guest name or press q to exit: \")\n",
    "    if guestName == 'q':\n",
    "        flag = False\n",
    "    else:\n",
    "        guestList.append(guestName)\n",
    "\n",
    "print(guestList)\n",
    "    "
   ]
  },
  {
   "cell_type": "markdown",
   "id": "de0fef64",
   "metadata": {},
   "source": [
    "# Dictionary"
   ]
  },
  {
   "cell_type": "markdown",
   "id": "dafe7726",
   "metadata": {},
   "source": [
    "aList = []\n",
    "aTuple = ()\n",
    "aSet = {1} #\n",
    "aDictionary = {Key : Value} #Key : Value"
   ]
  },
  {
   "cell_type": "code",
   "execution_count": 131,
   "id": "8de0dcb6",
   "metadata": {},
   "outputs": [],
   "source": [
    "aList = []\n",
    "aTuple = ()\n",
    "aSet = {1} \n",
    "aDictionary = {}"
   ]
  },
  {
   "cell_type": "code",
   "execution_count": 132,
   "id": "51a28807",
   "metadata": {},
   "outputs": [
    {
     "data": {
      "text/plain": [
       "(set, dict)"
      ]
     },
     "execution_count": 132,
     "metadata": {},
     "output_type": "execute_result"
    }
   ],
   "source": [
    "type(aSet), type(aDictionary)"
   ]
  },
  {
   "cell_type": "code",
   "execution_count": 3,
   "id": "4fca95d3",
   "metadata": {},
   "outputs": [],
   "source": [
    "#Dicitonary k andar indexin ny hoti ; key se value lete hen\n",
    "student1 = {'roll' : 123, 'name' : \"Mehfooz Ali\", 'course' : \"AI\", 'Status' : True}\n"
   ]
  },
  {
   "cell_type": "code",
   "execution_count": 4,
   "id": "9dff93cd",
   "metadata": {},
   "outputs": [
    {
     "data": {
      "text/plain": [
       "123"
      ]
     },
     "execution_count": 4,
     "metadata": {},
     "output_type": "execute_result"
    }
   ],
   "source": [
    "student1['roll']"
   ]
  },
  {
   "cell_type": "code",
   "execution_count": 5,
   "id": "358398ff",
   "metadata": {},
   "outputs": [
    {
     "data": {
      "text/plain": [
       "'Mehfooz Ali'"
      ]
     },
     "execution_count": 5,
     "metadata": {},
     "output_type": "execute_result"
    }
   ],
   "source": [
    "student1['name']"
   ]
  },
  {
   "cell_type": "code",
   "execution_count": 6,
   "id": "f13ae101",
   "metadata": {},
   "outputs": [],
   "source": [
    "student1['email']='graphicx.mehfooz201@gmail.com'"
   ]
  },
  {
   "cell_type": "code",
   "execution_count": 7,
   "id": "e524551c",
   "metadata": {},
   "outputs": [
    {
     "data": {
      "text/plain": [
       "{'roll': 123,\n",
       " 'name': 'Mehfooz Ali',\n",
       " 'course': 'AI',\n",
       " 'Status': True,\n",
       " 'email': 'graphicx.mehfooz201@gmail.com'}"
      ]
     },
     "execution_count": 7,
     "metadata": {},
     "output_type": "execute_result"
    }
   ],
   "source": [
    "student1"
   ]
  },
  {
   "cell_type": "code",
   "execution_count": 142,
   "id": "1d013120",
   "metadata": {},
   "outputs": [],
   "source": [
    "#delete the value\n",
    "del student1['roll']"
   ]
  },
  {
   "cell_type": "code",
   "execution_count": 8,
   "id": "ca84a3b1",
   "metadata": {},
   "outputs": [
    {
     "data": {
      "text/plain": [
       "{'roll': 123,\n",
       " 'name': 'Mehfooz Ali',\n",
       " 'course': 'AI',\n",
       " 'Status': True,\n",
       " 'email': 'graphicx.mehfooz201@gmail.com'}"
      ]
     },
     "execution_count": 8,
     "metadata": {},
     "output_type": "execute_result"
    }
   ],
   "source": [
    "student1"
   ]
  },
  {
   "cell_type": "code",
   "execution_count": 9,
   "id": "ea3fc720",
   "metadata": {},
   "outputs": [
    {
     "name": "stdout",
     "output_type": "stream",
     "text": [
      "123\n",
      "Mehfooz Ali\n",
      "AI\n",
      "True\n",
      "graphicx.mehfooz201@gmail.com\n"
     ]
    }
   ],
   "source": [
    "for key in student1:\n",
    "    print(student1[key])"
   ]
  },
  {
   "cell_type": "code",
   "execution_count": 147,
   "id": "50e53dd7",
   "metadata": {},
   "outputs": [
    {
     "name": "stdout",
     "output_type": "stream",
     "text": [
      "name\n",
      "course\n",
      "Status\n",
      "email\n"
     ]
    }
   ],
   "source": [
    "for key in student1.keys():\n",
    "    print(key)"
   ]
  },
  {
   "cell_type": "code",
   "execution_count": 148,
   "id": "d9bc3933",
   "metadata": {},
   "outputs": [
    {
     "name": "stdout",
     "output_type": "stream",
     "text": [
      "Mehfooz Ali\n",
      "AI\n",
      "True\n",
      "graphicx.mehfooz201@gmail.com\n"
     ]
    }
   ],
   "source": [
    "for key in student1.keys():\n",
    "    print(student1[key])"
   ]
  },
  {
   "cell_type": "code",
   "execution_count": 149,
   "id": "6a430fc3",
   "metadata": {},
   "outputs": [
    {
     "name": "stdout",
     "output_type": "stream",
     "text": [
      "Mehfooz Ali\n",
      "AI\n",
      "True\n",
      "graphicx.mehfooz201@gmail.com\n"
     ]
    }
   ],
   "source": [
    "for value in student1.values():\n",
    "    print(value)"
   ]
  },
  {
   "cell_type": "code",
   "execution_count": 152,
   "id": "f5afda9f",
   "metadata": {},
   "outputs": [
    {
     "name": "stdout",
     "output_type": "stream",
     "text": [
      "(this is key)== name (this is value)== Mehfooz Ali\n",
      "(this is key)== course (this is value)== AI\n",
      "(this is key)== Status (this is value)== True\n",
      "(this is key)== email (this is value)== graphicx.mehfooz201@gmail.com\n"
     ]
    }
   ],
   "source": [
    "for k,v in student1.items():\n",
    "    print(\"(this is key)==\",k,\"(this is value)==\",v)"
   ]
  },
  {
   "cell_type": "markdown",
   "id": "0b9bc818",
   "metadata": {},
   "source": [
    "# Packing and un-packing"
   ]
  },
  {
   "cell_type": "code",
   "execution_count": 153,
   "id": "6615a6bb",
   "metadata": {},
   "outputs": [],
   "source": [
    "aList = [22,33]"
   ]
  },
  {
   "cell_type": "code",
   "execution_count": 154,
   "id": "5c5e8b8c",
   "metadata": {},
   "outputs": [],
   "source": [
    "asad, mehfooz = aList"
   ]
  },
  {
   "cell_type": "code",
   "execution_count": 155,
   "id": "c49d3cad",
   "metadata": {},
   "outputs": [
    {
     "data": {
      "text/plain": [
       "22"
      ]
     },
     "execution_count": 155,
     "metadata": {},
     "output_type": "execute_result"
    }
   ],
   "source": [
    "asad"
   ]
  },
  {
   "cell_type": "code",
   "execution_count": 156,
   "id": "68241739",
   "metadata": {},
   "outputs": [
    {
     "data": {
      "text/plain": [
       "33"
      ]
     },
     "execution_count": 156,
     "metadata": {},
     "output_type": "execute_result"
    }
   ],
   "source": [
    "mehfooz"
   ]
  },
  {
   "cell_type": "code",
   "execution_count": 157,
   "id": "d6345410",
   "metadata": {},
   "outputs": [],
   "source": [
    "a = 100, 200 #by default tuple\n"
   ]
  },
  {
   "cell_type": "code",
   "execution_count": 158,
   "id": "27f4db64",
   "metadata": {},
   "outputs": [
    {
     "data": {
      "text/plain": [
       "(100, 200)"
      ]
     },
     "execution_count": 158,
     "metadata": {},
     "output_type": "execute_result"
    }
   ],
   "source": [
    "a"
   ]
  },
  {
   "cell_type": "code",
   "execution_count": 159,
   "id": "9a82375a",
   "metadata": {},
   "outputs": [],
   "source": [
    "q,w = a"
   ]
  },
  {
   "cell_type": "code",
   "execution_count": 160,
   "id": "03d5011d",
   "metadata": {},
   "outputs": [
    {
     "data": {
      "text/plain": [
       "100"
      ]
     },
     "execution_count": 160,
     "metadata": {},
     "output_type": "execute_result"
    }
   ],
   "source": [
    "q"
   ]
  },
  {
   "cell_type": "code",
   "execution_count": 161,
   "id": "ccc97c67",
   "metadata": {},
   "outputs": [
    {
     "data": {
      "text/plain": [
       "200"
      ]
     },
     "execution_count": 161,
     "metadata": {},
     "output_type": "execute_result"
    }
   ],
   "source": [
    "w"
   ]
  },
  {
   "cell_type": "code",
   "execution_count": 163,
   "id": "510720f7",
   "metadata": {},
   "outputs": [
    {
     "name": "stdout",
     "output_type": "stream",
     "text": [
      "('name', 'Mehfooz Ali')\n",
      "('course', 'AI')\n",
      "('Status', True)\n",
      "('email', 'graphicx.mehfooz201@gmail.com')\n"
     ]
    }
   ],
   "source": [
    "for a in student1.items():\n",
    "    print(a)"
   ]
  },
  {
   "cell_type": "code",
   "execution_count": null,
   "id": "83f4f646",
   "metadata": {},
   "outputs": [],
   "source": []
  }
 ],
 "metadata": {
  "kernelspec": {
   "display_name": "Python 3 (ipykernel)",
   "language": "python",
   "name": "python3"
  },
  "language_info": {
   "codemirror_mode": {
    "name": "ipython",
    "version": 3
   },
   "file_extension": ".py",
   "mimetype": "text/x-python",
   "name": "python",
   "nbconvert_exporter": "python",
   "pygments_lexer": "ipython3",
   "version": "3.9.7"
  }
 },
 "nbformat": 4,
 "nbformat_minor": 5
}
