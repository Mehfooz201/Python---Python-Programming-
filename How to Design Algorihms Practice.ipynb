{
 "cells": [
  {
   "cell_type": "code",
   "execution_count": 4,
   "id": "71e9daba",
   "metadata": {},
   "outputs": [
    {
     "name": "stdout",
     "output_type": "stream",
     "text": [
      "1 2 3 4 5 6 7 8 9 10 11 12 13 14 15 16 17 18 19 20 21 22 23 24 25 26 27 28 29 30 31 32 33 34 35 36 37 38 39 40 41 42 43 44 45 46 47 48 49 50 "
     ]
    }
   ],
   "source": [
    "# Print number from 1 to 50\n",
    "for a in range(1,51):\n",
    "    print(a, end=\" \")"
   ]
  },
  {
   "cell_type": "code",
   "execution_count": null,
   "id": "2ef2b045",
   "metadata": {},
   "outputs": [],
   "source": []
  },
  {
   "cell_type": "code",
   "execution_count": 15,
   "id": "810e3950",
   "metadata": {},
   "outputs": [],
   "source": [
    "#Odd Numbers\n",
    "\n",
    "for a in range(1,51):\n",
    "    if a%2!=0:\n",
    "        print(a, end=\" \")"
   ]
  },
  {
   "cell_type": "code",
   "execution_count": null,
   "id": "31e95b0c",
   "metadata": {},
   "outputs": [],
   "source": []
  },
  {
   "cell_type": "markdown",
   "id": "8b9163a8",
   "metadata": {},
   "source": [
    "# Algorithms\n",
    "    - Sum of first 10 numbes"
   ]
  },
  {
   "cell_type": "code",
   "execution_count": 85,
   "id": "3b67a41d",
   "metadata": {},
   "outputs": [
    {
     "name": "stdout",
     "output_type": "stream",
     "text": [
      "SUM of first  10 numbers is:  55\n"
     ]
    }
   ],
   "source": [
    "# numbers = [1,2,3,4,5,1,4,5]\n",
    "\n",
    "sum = 0\n",
    "\n",
    "for i in range(0, 11):\n",
    "    sum = sum+i\n",
    "\n",
    "print(\"SUM of first \", n, \"numbers is: \", sum )"
   ]
  },
  {
   "cell_type": "code",
   "execution_count": 86,
   "id": "93869846",
   "metadata": {},
   "outputs": [
    {
     "name": "stdout",
     "output_type": "stream",
     "text": [
      "Sum of odd numbers from 1 tois : 100\n"
     ]
    }
   ],
   "source": [
    "#Sum of first 10 Odd Numbes\n",
    "sum = 0\n",
    "\n",
    "for i in range(1, 20):\n",
    "\n",
    "    #Check for odd or not.\n",
    "    if(not (i % 2) == 0):\n",
    "        sum += i;\n",
    "\n",
    "print(\"Sum of odd numbers from 1 to\" \"is :\", sum)\n",
    "        "
   ]
  },
  {
   "cell_type": "markdown",
   "id": "a228b7a1",
   "metadata": {},
   "source": [
    "# Algorithms:\n",
    "    - fahrenheit to celsius"
   ]
  },
  {
   "cell_type": "code",
   "execution_count": 101,
   "id": "2ffcf245",
   "metadata": {},
   "outputs": [
    {
     "name": "stdout",
     "output_type": "stream",
     "text": [
      "Enter Temperature : 50\n",
      "Convert in C,K,F press given key: f\n",
      "122.0\n"
     ]
    }
   ],
   "source": [
    "#Formula => c = 5/9*(F-32)\n",
    "#Formula => f = (c*5/9)+32\n",
    "#Formula => k = c+273.15\n",
    "\n",
    "temp = float(input(\"Enter Temperature : \"))\n",
    "options = input(\"Convert in C,K,F press given key: \")\n",
    "\n",
    "if options == 'c':\n",
    "    c = ((5/9)*(temp-32))\n",
    "    print(c)\n",
    "    \n",
    "elif options == 'k':\n",
    "    k = temp + 273.15\n",
    "    print(k)\n",
    "\n",
    "elif options == 'f':\n",
    "    f = (temp*9/5) + 32\n",
    "    print(f)\n",
    "else:\n",
    "    print(\"Invalid Number\")\n",
    "\n"
   ]
  },
  {
   "cell_type": "code",
   "execution_count": 96,
   "id": "b1832495",
   "metadata": {},
   "outputs": [
    {
     "name": "stdout",
     "output_type": "stream",
     "text": [
      "Enter f no. : 40\n",
      "4.444444444444445\n"
     ]
    }
   ],
   "source": [
    "f = float(input(\"Enter f no. : \"))\n",
    "c = ((5/9)*(f-32))\n",
    "print(c)\n"
   ]
  },
  {
   "cell_type": "code",
   "execution_count": null,
   "id": "ac1d80e3",
   "metadata": {},
   "outputs": [],
   "source": []
  },
  {
   "cell_type": "code",
   "execution_count": null,
   "id": "55497a59",
   "metadata": {},
   "outputs": [],
   "source": []
  },
  {
   "cell_type": "code",
   "execution_count": null,
   "id": "b3a96a37",
   "metadata": {},
   "outputs": [],
   "source": []
  },
  {
   "cell_type": "code",
   "execution_count": 103,
   "id": "57a0ad73",
   "metadata": {},
   "outputs": [
    {
     "name": "stdout",
     "output_type": "stream",
     "text": [
      "Temperature value in degree Celsius: 4\n",
      "The 4.00 degree Celsius is equal to: 39.20 Fahrenheit\n",
      "----OR----\n",
      "Temperature value in degree Celsius: 4\n",
      "The 4.00 degree Celsius is equal to: 39.20 Fahrenheit\n"
     ]
    }
   ],
   "source": [
    "celsius_1 = float(input(\"Temperature value in degree Celsius: \" ))  \n",
    "  \n",
    "# For Converting the temperature to degree Fahrenheit by using the above  \n",
    "# given formula  \n",
    "Fahrenheit_1 = (celsius_1 * 1.8) + 32  \n",
    "    \n",
    "# print the result  \n",
    "print('The %.2f degree Celsius is equal to: %.2f Fahrenheit'  \n",
    "      %(celsius_1, Fahrenheit_1))  \n",
    "  \n",
    "print(\"----OR----\")  \n",
    "celsius_2 = float (input(\"Temperature value in degree Celsius: \" ))  \n",
    "Fahrenheit_2 = (celsius_2 * 9/5) + 32  \n",
    "    \n",
    "# print the result  \n",
    "print ('The %.2f degree Celsius is equal to: %.2f Fahrenheit'  \n",
    "      %(celsius_2, Fahrenheit_2))  "
   ]
  },
  {
   "cell_type": "code",
   "execution_count": null,
   "id": "bd3bffa7",
   "metadata": {},
   "outputs": [],
   "source": []
  }
 ],
 "metadata": {
  "kernelspec": {
   "display_name": "Python 3 (ipykernel)",
   "language": "python",
   "name": "python3"
  },
  "language_info": {
   "codemirror_mode": {
    "name": "ipython",
    "version": 3
   },
   "file_extension": ".py",
   "mimetype": "text/x-python",
   "name": "python",
   "nbconvert_exporter": "python",
   "pygments_lexer": "ipython3",
   "version": "3.9.7"
  }
 },
 "nbformat": 4,
 "nbformat_minor": 5
}
