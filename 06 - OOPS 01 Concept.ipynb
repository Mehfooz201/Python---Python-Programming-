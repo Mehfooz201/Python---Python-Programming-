{
 "cells": [
  {
   "cell_type": "markdown",
   "id": "04042e24",
   "metadata": {},
   "source": [
    "# OOPS Classes -\n"
   ]
  },
  {
   "cell_type": "markdown",
   "id": "4f3d88ab",
   "metadata": {},
   "source": [
    "- Oject => Anything\n",
    "    - Attributes => Variables\n",
    "    - Functionality => Behaviours\n",
    "\n",
    "Class:\n",
    "    - Jo cheez first time bnai ja rhee he wo class he.\n",
    "        - Second copy is objects, (Copy units)\n",
    "\n",
    "Main things:\n",
    "-Class\n",
    "-Objects\n",
    "-Attributes\n",
    "-Behaviours"
   ]
  },
  {
   "cell_type": "code",
   "execution_count": 1,
   "id": "5d405e39",
   "metadata": {},
   "outputs": [],
   "source": [
    "#Defining the class\n",
    "\n",
    "class Student():\n",
    "    pass"
   ]
  },
  {
   "cell_type": "code",
   "execution_count": 2,
   "id": "2dfa201c",
   "metadata": {},
   "outputs": [],
   "source": [
    "#object creation\n",
    "student1 = Student()"
   ]
  },
  {
   "cell_type": "code",
   "execution_count": 3,
   "id": "82da50df",
   "metadata": {},
   "outputs": [],
   "source": [
    "student2 = Student()"
   ]
  },
  {
   "cell_type": "code",
   "execution_count": 4,
   "id": "e4d0cad0",
   "metadata": {},
   "outputs": [],
   "source": [
    "class Student():\n",
    "    #Attributes\n",
    "    name = \"Ali\"\n",
    "    gender = \"Male\"\n",
    "    age = \"22\"\n",
    "    course = \"AI\"\n",
    "    roll = 123\n",
    "    institute = \"SSUET, Karachi\""
   ]
  },
  {
   "cell_type": "code",
   "execution_count": 5,
   "id": "e18d9668",
   "metadata": {},
   "outputs": [],
   "source": [
    "student1 = Student()"
   ]
  },
  {
   "cell_type": "code",
   "execution_count": 6,
   "id": "7f30667b",
   "metadata": {},
   "outputs": [
    {
     "data": {
      "text/plain": [
       "'Ali'"
      ]
     },
     "execution_count": 6,
     "metadata": {},
     "output_type": "execute_result"
    }
   ],
   "source": [
    "student1.name"
   ]
  },
  {
   "cell_type": "code",
   "execution_count": 7,
   "id": "714480e5",
   "metadata": {},
   "outputs": [],
   "source": [
    "student2 = Student()"
   ]
  },
  {
   "cell_type": "code",
   "execution_count": 8,
   "id": "3e0a9f52",
   "metadata": {},
   "outputs": [
    {
     "data": {
      "text/plain": [
       "'Ali'"
      ]
     },
     "execution_count": 8,
     "metadata": {},
     "output_type": "execute_result"
    }
   ],
   "source": [
    "student2.name"
   ]
  },
  {
   "cell_type": "code",
   "execution_count": 9,
   "id": "2419205d",
   "metadata": {},
   "outputs": [],
   "source": [
    "class Student():\n",
    "    #Attributes\n",
    "    #Self k andar object ka name jayega or reference bnayega\n",
    "    #har new object new copies bnayega\n",
    "    def __init__(self,name,roll,course,institute): #Init is special funciton\n",
    "        self.name = name\n",
    "        self.roll = roll\n",
    "        self.course = course\n",
    "        self.institute = institute"
   ]
  },
  {
   "cell_type": "code",
   "execution_count": 10,
   "id": "515bc89f",
   "metadata": {},
   "outputs": [],
   "source": [
    "s1 = Student(\"Ali\", 123, \"AI\", \"SSUET\")"
   ]
  },
  {
   "cell_type": "code",
   "execution_count": 11,
   "id": "8745b925",
   "metadata": {},
   "outputs": [
    {
     "data": {
      "text/plain": [
       "'Ali'"
      ]
     },
     "execution_count": 11,
     "metadata": {},
     "output_type": "execute_result"
    }
   ],
   "source": [
    "s1.name"
   ]
  },
  {
   "cell_type": "code",
   "execution_count": 12,
   "id": "e4ce20bd",
   "metadata": {},
   "outputs": [
    {
     "data": {
      "text/plain": [
       "123"
      ]
     },
     "execution_count": 12,
     "metadata": {},
     "output_type": "execute_result"
    }
   ],
   "source": [
    "s1.name\n",
    "s1.roll"
   ]
  },
  {
   "cell_type": "code",
   "execution_count": 13,
   "id": "ae78bd9e",
   "metadata": {},
   "outputs": [
    {
     "ename": "TypeError",
     "evalue": "__init__() takes 5 positional arguments but 6 were given",
     "output_type": "error",
     "traceback": [
      "\u001b[1;31m---------------------------------------------------------------------------\u001b[0m",
      "\u001b[1;31mTypeError\u001b[0m                                 Traceback (most recent call last)",
      "\u001b[1;32m~\\AppData\\Local\\Temp/ipykernel_13816/1689820529.py\u001b[0m in \u001b[0;36m<module>\u001b[1;34m\u001b[0m\n\u001b[1;32m----> 1\u001b[1;33m \u001b[0ms2\u001b[0m \u001b[1;33m=\u001b[0m \u001b[0mStudent\u001b[0m\u001b[1;33m(\u001b[0m\u001b[1;34m\"Sana\"\u001b[0m\u001b[1;33m,\u001b[0m \u001b[1;36m123\u001b[0m\u001b[1;33m,\u001b[0m \u001b[1;34m\"AI\"\u001b[0m\u001b[1;33m,\u001b[0m \u001b[1;34m\"SSUET\"\u001b[0m\u001b[1;33m,\u001b[0m \u001b[1;34m\"male\"\u001b[0m\u001b[1;33m)\u001b[0m\u001b[1;33m\u001b[0m\u001b[1;33m\u001b[0m\u001b[0m\n\u001b[0m",
      "\u001b[1;31mTypeError\u001b[0m: __init__() takes 5 positional arguments but 6 were given"
     ]
    }
   ],
   "source": [
    "s2 = Student(\"Sana\", 123, \"AI\", \"SSUET\", \"male\")"
   ]
  },
  {
   "cell_type": "code",
   "execution_count": null,
   "id": "3c73c318",
   "metadata": {},
   "outputs": [],
   "source": [
    "s2.name"
   ]
  },
  {
   "cell_type": "code",
   "execution_count": null,
   "id": "dff906d6",
   "metadata": {},
   "outputs": [],
   "source": [
    "class Laptop():\n",
    "    def __init__(self,lp_company, lp_name_model, lp_generation, lp_core, lp_price, lp_year):\n",
    "        self.lp_company = lp_company\n",
    "        self.lp_name_model = lp_name_model\n",
    "        self.lp_generation = lp_generation\n",
    "        self.lp_core = lp_core\n",
    "        self.lp_price = lp_price\n",
    "        self.lp_year = lp_year"
   ]
  },
  {
   "cell_type": "code",
   "execution_count": null,
   "id": "01aa281c",
   "metadata": {},
   "outputs": [],
   "source": [
    "laptop1 = Laptop('Lenovo', \"ThinkPad T460s\", \"6th Gen..\", \"i6\", 50000, \"2020\")"
   ]
  },
  {
   "cell_type": "code",
   "execution_count": null,
   "id": "1dc9568f",
   "metadata": {},
   "outputs": [],
   "source": [
    "laptop1.lp_name_model"
   ]
  },
  {
   "cell_type": "code",
   "execution_count": null,
   "id": "e3487ae4",
   "metadata": {},
   "outputs": [],
   "source": [
    "print(f\"I have purchased Laptop {laptop1.lp_name_model} of {laptop1.lp_company} Company and Generation is {laptop1.lp_generation}, Total Price = {laptop1.lp_price}\")"
   ]
  },
  {
   "cell_type": "code",
   "execution_count": null,
   "id": "2ad341d9",
   "metadata": {},
   "outputs": [],
   "source": [
    "class Student():\n",
    "    #Attributes\n",
    "\n",
    "    def __init__(self,name,roll,course,institute): #Init is special funciton\n",
    "        self.name = name\n",
    "        self.roll = roll\n",
    "        self.course = course\n",
    "        self.institute = institute\n",
    "    \n",
    "    #Behaviours / Funcitonalities  / Method\n",
    "    def appearExam(self):\n",
    "        print(f\"{self.name} is sitting in the Exam\")\n",
    "    \n",
    "    def studentProfile(self):\n",
    "        print(f\"\"\"\n",
    "                Student Profile\n",
    "                -------------------------\n",
    "                Name : {self.name}\n",
    "                Roll No : {self.roll}\n",
    "                Course : {self.course}\n",
    "                Institute : {self.institute}\n",
    "        \"\"\")"
   ]
  },
  {
   "cell_type": "code",
   "execution_count": null,
   "id": "0e299fb5",
   "metadata": {},
   "outputs": [],
   "source": [
    "s4 = Student(\"Mehfooz Ali\", 1047, \"Machine Learning\", \"SSUET - PIAIC\")"
   ]
  },
  {
   "cell_type": "code",
   "execution_count": 14,
   "id": "3ec2ada5",
   "metadata": {},
   "outputs": [
    {
     "ename": "NameError",
     "evalue": "name 's4' is not defined",
     "output_type": "error",
     "traceback": [
      "\u001b[1;31m---------------------------------------------------------------------------\u001b[0m",
      "\u001b[1;31mNameError\u001b[0m                                 Traceback (most recent call last)",
      "\u001b[1;32m~\\AppData\\Local\\Temp/ipykernel_13816/3042612215.py\u001b[0m in \u001b[0;36m<module>\u001b[1;34m\u001b[0m\n\u001b[1;32m----> 1\u001b[1;33m \u001b[0ms4\u001b[0m\u001b[1;33m.\u001b[0m\u001b[0mappearExam\u001b[0m\u001b[1;33m(\u001b[0m\u001b[1;33m)\u001b[0m\u001b[1;33m\u001b[0m\u001b[1;33m\u001b[0m\u001b[0m\n\u001b[0m",
      "\u001b[1;31mNameError\u001b[0m: name 's4' is not defined"
     ]
    }
   ],
   "source": [
    "s4.appearExam()"
   ]
  },
  {
   "cell_type": "code",
   "execution_count": 15,
   "id": "1b75c980",
   "metadata": {},
   "outputs": [
    {
     "ename": "NameError",
     "evalue": "name 's4' is not defined",
     "output_type": "error",
     "traceback": [
      "\u001b[1;31m---------------------------------------------------------------------------\u001b[0m",
      "\u001b[1;31mNameError\u001b[0m                                 Traceback (most recent call last)",
      "\u001b[1;32m~\\AppData\\Local\\Temp/ipykernel_13816/1767034329.py\u001b[0m in \u001b[0;36m<module>\u001b[1;34m\u001b[0m\n\u001b[1;32m----> 1\u001b[1;33m \u001b[0ms4\u001b[0m\u001b[1;33m.\u001b[0m\u001b[0mstudentProfile\u001b[0m\u001b[1;33m(\u001b[0m\u001b[1;33m)\u001b[0m\u001b[1;33m\u001b[0m\u001b[1;33m\u001b[0m\u001b[0m\n\u001b[0m",
      "\u001b[1;31mNameError\u001b[0m: name 's4' is not defined"
     ]
    }
   ],
   "source": [
    "s4.studentProfile()"
   ]
  },
  {
   "cell_type": "code",
   "execution_count": 16,
   "id": "927eba5a",
   "metadata": {},
   "outputs": [],
   "source": [
    "#Condition with Class\n",
    "class Student():\n",
    "    #Attributes\n",
    "\n",
    "    def __init__(self,name,roll,course,institute): #Init is special funciton\n",
    "        self.name = name\n",
    "        self.roll = roll\n",
    "        self.course = course\n",
    "        self.institute = institute\n",
    "    \n",
    "    #Behaviours / Funcitonalities  / Method\n",
    "    def appearExam(self, attendance, feesPaid):\n",
    "        if attendance >= 70:\n",
    "            if feesPaid == True:\n",
    "                print(f\"{self.name} is allowed to sit in the Exam\")\n",
    "            else:\n",
    "                print(f\"{self.name} is not allowed to sit in the Exam\")\n",
    "        else:\n",
    "            print(f\"{self.name} is not allowed to sit in the Exam\")\n",
    "            \n",
    "    def studentProfile(self):\n",
    "        print(f\"\"\"\n",
    "                Student Profile\n",
    "                -------------------------\n",
    "                Name : {self.name}\n",
    "                Roll No : {self.roll}\n",
    "                Course : {self.course}\n",
    "                Institute : {self.institute}\n",
    "        \"\"\")"
   ]
  },
  {
   "cell_type": "code",
   "execution_count": 17,
   "id": "d843308c",
   "metadata": {},
   "outputs": [],
   "source": [
    "s6 = Student(\"Mehfooz Ali\", 1047, \"Machine Learning\", \"SSUET - PIAIC\")"
   ]
  },
  {
   "cell_type": "code",
   "execution_count": 18,
   "id": "aa74938b",
   "metadata": {},
   "outputs": [
    {
     "name": "stdout",
     "output_type": "stream",
     "text": [
      "Mehfooz Ali is not allowed to sit in the Exam\n"
     ]
    }
   ],
   "source": [
    "s6.appearExam(85, False)"
   ]
  },
  {
   "cell_type": "code",
   "execution_count": 19,
   "id": "d57b0ef5",
   "metadata": {},
   "outputs": [
    {
     "name": "stdout",
     "output_type": "stream",
     "text": [
      "\n",
      "                Student Profile\n",
      "                -------------------------\n",
      "                Name : Mehfooz Ali\n",
      "                Roll No : 1047\n",
      "                Course : Machine Learning\n",
      "                Institute : SSUET - PIAIC\n",
      "        \n"
     ]
    }
   ],
   "source": [
    "s6.studentProfile()"
   ]
  },
  {
   "cell_type": "code",
   "execution_count": 20,
   "id": "536962f7",
   "metadata": {},
   "outputs": [],
   "source": [
    "#Condition with Class\n",
    "class Student():\n",
    "    #class Attribue\n",
    "    center = \"SSUET - PIAIC\"\n",
    "    course = \"AI (Deep Learning)\"\n",
    "    \n",
    "    #Attributes/ Instances / method\n",
    "    def __init__(self,name,roll): \n",
    "        self.name = name\n",
    "        self.roll = roll\n",
    "    \n",
    "    #Behaviours / Funcitonalities  / Method\n",
    "    def appearExam(self, attendance, feesPaid):\n",
    "        if attendance >= 70:\n",
    "            if feesPaid == True:\n",
    "                print(f\"{self.name} is allowed to sit in the Exam\")\n",
    "            else:\n",
    "                print(f\"{self.name} is not allowed to sit in the Exam\")\n",
    "        else:\n",
    "            print(f\"{self.name} is not allowed to sit in the Exam\")\n",
    "            \n",
    "    def studentProfile(self):\n",
    "        print(f\"\"\"\n",
    "                Student Profile\n",
    "                -------------------------\n",
    "                Name : {self.name}\n",
    "                Roll No : {self.roll}\n",
    "                Course : {Student.course}\n",
    "                Institute : {Student.center}\n",
    "        \"\"\")"
   ]
  },
  {
   "cell_type": "code",
   "execution_count": 21,
   "id": "18371adb",
   "metadata": {},
   "outputs": [],
   "source": [
    "s7 = Student(\"Khan\", 1066)"
   ]
  },
  {
   "cell_type": "code",
   "execution_count": 22,
   "id": "2e31e350",
   "metadata": {},
   "outputs": [
    {
     "name": "stdout",
     "output_type": "stream",
     "text": [
      "\n",
      "                Student Profile\n",
      "                -------------------------\n",
      "                Name : Khan\n",
      "                Roll No : 1066\n",
      "                Course : AI (Deep Learning)\n",
      "                Institute : SSUET - PIAIC\n",
      "        \n"
     ]
    }
   ],
   "source": [
    "s7.studentProfile()"
   ]
  },
  {
   "cell_type": "code",
   "execution_count": 23,
   "id": "1d809e18",
   "metadata": {},
   "outputs": [],
   "source": [
    "s7.name = \"Saad\""
   ]
  },
  {
   "cell_type": "code",
   "execution_count": 24,
   "id": "d1051364",
   "metadata": {},
   "outputs": [
    {
     "data": {
      "text/plain": [
       "'Saad'"
      ]
     },
     "execution_count": 24,
     "metadata": {},
     "output_type": "execute_result"
    }
   ],
   "source": [
    "s7.name"
   ]
  },
  {
   "cell_type": "code",
   "execution_count": 25,
   "id": "9cda8c50",
   "metadata": {},
   "outputs": [
    {
     "name": "stdout",
     "output_type": "stream",
     "text": [
      "\n",
      "                Student Profile\n",
      "                -------------------------\n",
      "                Name : Saad\n",
      "                Roll No : 1066\n",
      "                Course : AI (Deep Learning)\n",
      "                Institute : SSUET - PIAIC\n",
      "        \n"
     ]
    }
   ],
   "source": [
    "s7.studentProfile()"
   ]
  },
  {
   "cell_type": "markdown",
   "id": "34c56b44",
   "metadata": {},
   "source": [
    "# Getters & Setters"
   ]
  },
  {
   "cell_type": "markdown",
   "id": "68b13391",
   "metadata": {},
   "source": [
    "Details Hiding\n",
    "User only have interface not coding"
   ]
  },
  {
   "cell_type": "code",
   "execution_count": 26,
   "id": "1d207913",
   "metadata": {},
   "outputs": [],
   "source": [
    "#Condition with Class\n",
    "class Student():\n",
    "    #Attributes\n",
    "\n",
    "    def __init__(self,name,roll,course,institute): #Init is special funciton\n",
    "        self.name = name\n",
    "        self.roll = roll\n",
    "        self.course = course\n",
    "        self.institute = institute\n",
    "    \n",
    "    #Behaviours / Funcitonalities  / Method\n",
    "    def appearExam(self, attendance, feesPaid):\n",
    "        if attendance >= 70:\n",
    "            if feesPaid == True:\n",
    "                print(f\"{self.name} is allowed to sit in the Exam\")\n",
    "            else:\n",
    "                print(f\"{self.name} is not allowed to sit in the Exam\")\n",
    "        else:\n",
    "            print(f\"{self.name} is not allowed to sit in the Exam\")\n",
    "            \n",
    "    def studentProfile(self):\n",
    "        print(f\"\"\"\n",
    "                Student Profile\n",
    "                -------------------------\n",
    "                Name : {self.name}\n",
    "                Roll No : {self.roll}\n",
    "                Course : {self.course}\n",
    "                Institute : {self.institute} \"\"\")\n",
    "    \n",
    "    def getName(self):\n",
    "        print(f\"The student name is {self.name}\")\n",
    "    def setName(self,newName):\n",
    "        self.name = newName"
   ]
  },
  {
   "cell_type": "code",
   "execution_count": 27,
   "id": "4fddf1f0",
   "metadata": {},
   "outputs": [],
   "source": [
    "s8 = Student(\"Hamid\", 1022, \"AI\", \"SSUET\")"
   ]
  },
  {
   "cell_type": "code",
   "execution_count": 28,
   "id": "87a4878a",
   "metadata": {},
   "outputs": [
    {
     "name": "stdout",
     "output_type": "stream",
     "text": [
      "The student name is Hamid\n"
     ]
    }
   ],
   "source": [
    "s8.getName()"
   ]
  },
  {
   "cell_type": "code",
   "execution_count": 29,
   "id": "8fe18303",
   "metadata": {},
   "outputs": [],
   "source": [
    "s8.setName(\"Kashif\")"
   ]
  },
  {
   "cell_type": "code",
   "execution_count": 30,
   "id": "c8d9334a",
   "metadata": {},
   "outputs": [
    {
     "name": "stdout",
     "output_type": "stream",
     "text": [
      "The student name is Kashif\n"
     ]
    }
   ],
   "source": [
    "s8.getName()"
   ]
  },
  {
   "cell_type": "code",
   "execution_count": 31,
   "id": "3ff31af6",
   "metadata": {},
   "outputs": [],
   "source": [
    "#Condition with Class\n",
    "class Railway():\n",
    "    #Attributes\n",
    "    def __init__(self,name,ticket_num,station,timing): \n",
    "        self.name = name\n",
    "        self.ticket_num = ticket_num\n",
    "        self.station = station\n",
    "        self.timing = timing\n",
    "    \n",
    "    #Behaviours / Funcitonalities  / Method\n",
    "    def appearExam(self, feesPaid):\n",
    "        if feesPaid == True:\n",
    "            print(f\"{self.name} is allowed to sit in the Train\")\n",
    "        else:\n",
    "            print(f\"{self.name} is not allowed to sit in the Train\")\n",
    "            \n",
    "    def studentProfile(self):\n",
    "        print(f\"\"\"\n",
    "                Student Profile\n",
    "                -------------------------\n",
    "                Name : {self.name}\n",
    "                Roll No : {self.ticket_num}\n",
    "                Course : {self.station}\n",
    "                Institute : {self.timing} \"\"\")\n",
    "    \n",
    "    def getName(self):\n",
    "        print(f\"The student name is {self.name}\")\n",
    "        \n",
    "    def setName(self,newName):\n",
    "        self.name = newName"
   ]
  },
  {
   "cell_type": "code",
   "execution_count": null,
   "id": "98ad0a31",
   "metadata": {},
   "outputs": [],
   "source": []
  },
  {
   "cell_type": "code",
   "execution_count": 32,
   "id": "d59746af",
   "metadata": {},
   "outputs": [],
   "source": [
    "class Line():\n",
    "    def __init__(self,x1,y1,x2,y2):\n",
    "        self.point_a = (x1,y1)\n",
    "        self.point_b = (x2,y2)\n",
    "    \n",
    "    def length(self):\n",
    "        distance = ((self.point_b[0]-self.point_a[0])**2  + (self.point_b[1]-self.point_a[1])**2)**0.5\n",
    "        return distance\n",
    "\n",
    "    def slope(self):\n",
    "        m = (self.point_b[1]-self.point_a[1])/(self.point_b[0]-self.point_a[0])\n",
    "        return m\n",
    "    \n",
    "    def linesRelation(self,m1,m2):\n",
    "        if m1==m2:\n",
    "            return \"Lines are paralle\"\n",
    "        elif m1*m2==-1:\n",
    "            return \"Lines are perpendicular\"\n",
    "        else:\n",
    "            return \"Lines are Neither nor perpendicular\""
   ]
  },
  {
   "cell_type": "code",
   "execution_count": 33,
   "id": "21bbeaec",
   "metadata": {},
   "outputs": [],
   "source": [
    "l1 = Line(3,7,7,2)"
   ]
  },
  {
   "cell_type": "code",
   "execution_count": 34,
   "id": "658493dc",
   "metadata": {},
   "outputs": [
    {
     "data": {
      "text/plain": [
       "6.4031242374328485"
      ]
     },
     "execution_count": 34,
     "metadata": {},
     "output_type": "execute_result"
    }
   ],
   "source": [
    "l1.length()"
   ]
  },
  {
   "cell_type": "code",
   "execution_count": 35,
   "id": "5bc18c83",
   "metadata": {},
   "outputs": [
    {
     "data": {
      "text/plain": [
       "-1.25"
      ]
     },
     "execution_count": 35,
     "metadata": {},
     "output_type": "execute_result"
    }
   ],
   "source": [
    "l1.slope()"
   ]
  },
  {
   "cell_type": "code",
   "execution_count": null,
   "id": "8009c85f",
   "metadata": {},
   "outputs": [],
   "source": []
  },
  {
   "cell_type": "code",
   "execution_count": null,
   "id": "81780b35",
   "metadata": {},
   "outputs": [],
   "source": []
  },
  {
   "cell_type": "markdown",
   "id": "c40d21c4",
   "metadata": {},
   "source": [
    "# Inheritence"
   ]
  },
  {
   "cell_type": "markdown",
   "id": "0983c945",
   "metadata": {},
   "source": [
    "- Code Reusability\n",
    "- one class i already built we use it modfiy it and create a modifted class from the original version of class\n",
    "\n",
    "- Continue - Class10 (9 Sept 2022)"
   ]
  },
  {
   "cell_type": "code",
   "execution_count": 36,
   "id": "103f2231",
   "metadata": {},
   "outputs": [],
   "source": [
    "class CellPhone():\n",
    "    def __init__(self, model, make, battery):\n",
    "        self.model = model\n",
    "        self.make = make\n",
    "        self.battery = battery\n",
    "        \n",
    "    def makeCall(self):\n",
    "        print(f\"{self.model} is Calling\")\n",
    "    \n",
    "    def recCall(self):\n",
    "        print(f\"{self.model} is Receiving Call\")\n",
    "    \n",
    "    def snakeGame(self):\n",
    "        print(f\"{self.model} is Playing Game\")"
   ]
  },
  {
   "cell_type": "code",
   "execution_count": 37,
   "id": "3798aeae",
   "metadata": {},
   "outputs": [],
   "source": [
    "class Nokia3310(CellPhone):\n",
    "    #Attributes\n",
    "    def __init__(self, make, model, battery, camera, calc, radio):\n",
    "        super().__init__(make,model,battery)\n",
    "        self.camera = camera\n",
    "        self.calc = calc\n",
    "        self.radio = radio\n",
    "    #Method Overriding\n",
    "    #Polymorphism -Like we are.\n",
    "    def Game(self):\n",
    "        print(\"Snake game is running\")"
   ]
  },
  {
   "cell_type": "code",
   "execution_count": 38,
   "id": "873f6876",
   "metadata": {},
   "outputs": [],
   "source": [
    "nokia1 = Nokia3310(\"3310\", \"Nokia\", \"12 AMP\", \"5mpx1\", \"simple\", True)"
   ]
  },
  {
   "cell_type": "code",
   "execution_count": 39,
   "id": "44723ed2",
   "metadata": {},
   "outputs": [
    {
     "data": {
      "text/plain": [
       "'12 AMP'"
      ]
     },
     "execution_count": 39,
     "metadata": {},
     "output_type": "execute_result"
    }
   ],
   "source": [
    "nokia1.battery"
   ]
  },
  {
   "cell_type": "code",
   "execution_count": 40,
   "id": "f8b4963f",
   "metadata": {},
   "outputs": [
    {
     "data": {
      "text/plain": [
       "True"
      ]
     },
     "execution_count": 40,
     "metadata": {},
     "output_type": "execute_result"
    }
   ],
   "source": [
    "nokia1.radio"
   ]
  },
  {
   "cell_type": "code",
   "execution_count": 41,
   "id": "338dfbc8",
   "metadata": {},
   "outputs": [
    {
     "name": "stdout",
     "output_type": "stream",
     "text": [
      "Snake game is running\n"
     ]
    }
   ],
   "source": [
    "nokia1.Game()"
   ]
  },
  {
   "cell_type": "code",
   "execution_count": 42,
   "id": "3eeb433b",
   "metadata": {},
   "outputs": [
    {
     "name": "stdout",
     "output_type": "stream",
     "text": [
      "3310 is Calling\n"
     ]
    }
   ],
   "source": [
    "nokia1.makeCall()"
   ]
  },
  {
   "cell_type": "code",
   "execution_count": 43,
   "id": "bad260e4",
   "metadata": {},
   "outputs": [],
   "source": [
    "c1 = CellPhone(\"Smart\", \"Sony\", \"12amp\")"
   ]
  },
  {
   "cell_type": "code",
   "execution_count": 44,
   "id": "19d5c441",
   "metadata": {},
   "outputs": [
    {
     "name": "stdout",
     "output_type": "stream",
     "text": [
      "Smart is Calling\n"
     ]
    }
   ],
   "source": [
    "c1.makeCall()"
   ]
  },
  {
   "cell_type": "code",
   "execution_count": 45,
   "id": "b6d914d5",
   "metadata": {},
   "outputs": [],
   "source": [
    "class smartPhone(CellPhone):\n",
    "    #Attributes\n",
    "    def __init__(self, make, model, battery, camera, calc, radio):\n",
    "        super().__init__(make,model,battery)\n",
    "        self.camera = camera\n",
    "        self.calc = calc\n",
    "        self.radio = radio\n",
    "    \n",
    "    def Game(self):\n",
    "        print(\"PUBG Game is Playing\")\n",
    "    \n",
    "    \n",
    "    "
   ]
  },
  {
   "cell_type": "code",
   "execution_count": 46,
   "id": "e7a38ed2",
   "metadata": {},
   "outputs": [],
   "source": [
    "sm1 = smartPhone(\"Samsung\", \"Node8\", \"4000mAH\", \"48px1\", \"Scientific\", False)"
   ]
  },
  {
   "cell_type": "code",
   "execution_count": 47,
   "id": "7b387053",
   "metadata": {},
   "outputs": [
    {
     "name": "stdout",
     "output_type": "stream",
     "text": [
      "PUBG Game is Playing\n"
     ]
    }
   ],
   "source": [
    "sm1.Game()"
   ]
  },
  {
   "cell_type": "code",
   "execution_count": 48,
   "id": "543e0240",
   "metadata": {},
   "outputs": [
    {
     "name": "stdout",
     "output_type": "stream",
     "text": [
      "Snake game is running\n"
     ]
    }
   ],
   "source": [
    "nokia1.Game()"
   ]
  },
  {
   "cell_type": "markdown",
   "id": "5078233f",
   "metadata": {},
   "source": [
    "# Object as Attributes"
   ]
  },
  {
   "cell_type": "code",
   "execution_count": 63,
   "id": "93a7c808",
   "metadata": {},
   "outputs": [],
   "source": [
    "class Car():\n",
    "    def __init__(self, make, model, color, engine, wheels=4):\n",
    "        self.make = make\n",
    "        self.model = model\n",
    "        self.color = color\n",
    "        self.engine = engine\n",
    "    \n",
    "    def run(self):\n",
    "        print(f\"Cart{self.make} {self.model} {self.color} {self.engine} is running\")\n",
    "    \n",
    "    def stop(self):    \n",
    "        print(f\"Cart{self.make} {self.model} {self.color} {self.engine} is stop\")\n",
    "    \n",
    "    def fuelTank(self):\n",
    "        print(f\"Cart{self.make} {self.model} {self.color} {self.engine} is filling fuel\")\n"
   ]
  },
  {
   "cell_type": "code",
   "execution_count": 64,
   "id": "708d7608",
   "metadata": {},
   "outputs": [],
   "source": [
    "c1 = Car(\"qwe\",\"err\",\"green\",\"1200\")"
   ]
  },
  {
   "cell_type": "code",
   "execution_count": 69,
   "id": "16ce70e0",
   "metadata": {},
   "outputs": [],
   "source": [
    "class Battery():\n",
    "    def __init__(self, manuf, amp, cell, time):\n",
    "        self.manuf = manuf\n",
    "        self.amp = amp\n",
    "        self.cell = cell\n",
    "        self.time = time\n",
    "    \n",
    "    "
   ]
  },
  {
   "cell_type": "code",
   "execution_count": 70,
   "id": "70f34aa8",
   "metadata": {},
   "outputs": [],
   "source": [
    "class ElectricCar(Car):\n",
    "    def __init__(self, make, model, color, engine, wheels, manuf, amp, cells, time):\n",
    "        self.battery = Battery(manuf, amp, cells, time) #Object as Attribute\n",
    "        super().__init__(make, model, color, engine, wheels)\n",
    "\n",
    "    def fuelTank(self):\n",
    "        print(f\"Cart {self.make} {self.model} {self.color} {self.engine} has no fuel Tank\")\n",
    "   "
   ]
  },
  {
   "cell_type": "code",
   "execution_count": 71,
   "id": "e766db33",
   "metadata": {},
   "outputs": [],
   "source": [
    "e1 = ElectricCar(\"Tesla\", \"Audi\", \"white\", \"1300CC\", 4, \"AGS\", \"400amp\", \"27\", \"2 Days\")"
   ]
  },
  {
   "cell_type": "code",
   "execution_count": 72,
   "id": "d78ecf83",
   "metadata": {},
   "outputs": [
    {
     "data": {
      "text/plain": [
       "'27'"
      ]
     },
     "execution_count": 72,
     "metadata": {},
     "output_type": "execute_result"
    }
   ],
   "source": [
    "e1.battery.cell"
   ]
  },
  {
   "cell_type": "code",
   "execution_count": null,
   "id": "b9dfec1b",
   "metadata": {},
   "outputs": [],
   "source": []
  }
 ],
 "metadata": {
  "kernelspec": {
   "display_name": "Python 3 (ipykernel)",
   "language": "python",
   "name": "python3"
  },
  "language_info": {
   "codemirror_mode": {
    "name": "ipython",
    "version": 3
   },
   "file_extension": ".py",
   "mimetype": "text/x-python",
   "name": "python",
   "nbconvert_exporter": "python",
   "pygments_lexer": "ipython3",
   "version": "3.9.7"
  }
 },
 "nbformat": 4,
 "nbformat_minor": 5
}
