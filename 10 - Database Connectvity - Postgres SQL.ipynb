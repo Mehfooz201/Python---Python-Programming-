{
 "cells": [
  {
   "cell_type": "markdown",
   "id": "fa97d846",
   "metadata": {},
   "source": [
    "# Database Connectivity\n",
    "    - Client (Send request to server)\n",
    "    - Server (Backend, Dbase, Resources) - Give Response\n",
    "    - API's (Application Programming Interface)"
   ]
  },
  {
   "cell_type": "markdown",
   "id": "4e02f9f7",
   "metadata": {},
   "source": [
    "# Postgres SQL"
   ]
  },
  {
   "cell_type": "code",
   "execution_count": null,
   "id": "5684fadd",
   "metadata": {},
   "outputs": [],
   "source": [
    "host_name = 'localhost'\n",
    "data_base = 'postgres'\n",
    "user_name = 'postgres'\n",
    "pwd = \"admin\"\n",
    "pord_id = 5432"
   ]
  },
  {
   "cell_type": "code",
   "execution_count": null,
   "id": "f8381dbd",
   "metadata": {},
   "outputs": [],
   "source": [
    "pip install psycopg2"
   ]
  },
  {
   "cell_type": "code",
   "execution_count": null,
   "id": "25211ac3",
   "metadata": {},
   "outputs": [],
   "source": [
    "import psycopg2 #Connect with Postgresss"
   ]
  },
  {
   "cell_type": "code",
   "execution_count": null,
   "id": "33d89cf0",
   "metadata": {},
   "outputs": [],
   "source": [
    "conn = psycopg2.connect(host=host_name, \n",
    "                        dbname =data_base, \n",
    "                        user = user_name,\n",
    "                        password = pwd,\n",
    "                        port = pord_id)"
   ]
  },
  {
   "cell_type": "code",
   "execution_count": null,
   "id": "74b3b7b6",
   "metadata": {},
   "outputs": [],
   "source": [
    "conn.close()"
   ]
  },
  {
   "cell_type": "code",
   "execution_count": null,
   "id": "0893d0fc",
   "metadata": {},
   "outputs": [],
   "source": []
  },
  {
   "cell_type": "code",
   "execution_count": null,
   "id": "186aeb23",
   "metadata": {},
   "outputs": [],
   "source": [
    "try:\n",
    "    conn = psycopg2.connect(host=host_name, \n",
    "                        dbname =data_base, \n",
    "                        user = user_name,\n",
    "                        password = pwd,\n",
    "                        port = pord_id)\n",
    "    conn.close()\n",
    "\n",
    "except Exception as error:\n",
    "    print(\"Exception\" + str(error))"
   ]
  },
  {
   "cell_type": "code",
   "execution_count": null,
   "id": "91888592",
   "metadata": {},
   "outputs": [],
   "source": []
  },
  {
   "cell_type": "code",
   "execution_count": 1,
   "id": "8fc6ae2b",
   "metadata": {},
   "outputs": [],
   "source": [
    "import psycopg2 #Connect with Postgresss\n",
    "import psycopg2.extras"
   ]
  },
  {
   "cell_type": "code",
   "execution_count": 2,
   "id": "c05c2958",
   "metadata": {},
   "outputs": [],
   "source": [
    "#login Credentials\n",
    "host_name = 'localhost'\n",
    "data_base = 'postgres'\n",
    "user_name = 'postgres'\n",
    "pwd = \"admin\"\n",
    "pord_id = 5432"
   ]
  },
  {
   "cell_type": "code",
   "execution_count": 23,
   "id": "3e05fbe9",
   "metadata": {},
   "outputs": [
    {
     "name": "stdout",
     "output_type": "stream",
     "text": [
      "Kamil 12000\n",
      "Sumair 15000\n",
      "Khan 12000\n",
      "Created \n"
     ]
    }
   ],
   "source": [
    "curr = None\n",
    "conn = None\n",
    "\n",
    "try:\n",
    "    conn = psycopg2.connect(host=host_name, \n",
    "                        dbname =data_base, \n",
    "                        user = user_name,\n",
    "                        password = pwd,\n",
    "                        port = pord_id)\n",
    "    #Creating Cursor\n",
    "    cur = conn.cursor(cursor_factory=psycopg2.extras.DictCursor) #Get all data\n",
    "    \n",
    "    cur.execute(\"DROP TABLE IF EXISTS labour\")\n",
    "    \n",
    "    create_table_script = '''\n",
    "                        CREATE TABLE IF NOT EXISTS labour( \n",
    "                        id INT PRIMARY KEY\n",
    "                        , name VARCHAR(40) NOT NULL\n",
    "                        , salary INT\n",
    "                        , dept_id VARCHAR(30) NOT NULL) \n",
    "                    \n",
    "            '''\n",
    "    cur.execute(create_table_script)\n",
    "    \n",
    "    insert_table_script = ''' INSERT INTO labour(id,name,salary,dept_id) \n",
    "                            VALUES (%s, %s, %s, %s) '''\n",
    "                        \n",
    "    #cur.execute(create_table_script)\n",
    "    \n",
    "    #List of tuples\n",
    "    insert_values =  [(110, 'Kamil', 12000, 'dep1')\n",
    "                    , (111, 'Sumair', 15000, 'dep2')\n",
    "                    , (120, 'Khan', 12000, 'dep3')]\n",
    "   \n",
    "    \n",
    "    for record in insert_values:\n",
    "        cur.execute(insert_table_script,record)\n",
    "        \n",
    "    \n",
    "    fetch_data = 'SELECT * FROM labour'\n",
    "    cur.execute(fetch_data)\n",
    "    \n",
    "    for record in cur.fetchall():\n",
    "        print(record['name'], record['salary'])\n",
    "        \n",
    "    \n",
    "    conn.commit()\n",
    "    \n",
    "    \n",
    "    print(\"Created \")\n",
    "    \n",
    "    \n",
    "    \n",
    "\n",
    "except Exception as error:\n",
    "    print(\"Exception : \" + str(error))\n",
    "    \n",
    "finally:\n",
    "    if curr != None:   \n",
    "        #Close Cursor\n",
    "        cur.close()\n",
    "        \n",
    "    if conn != None:   \n",
    "        #Database Connection Closed\n",
    "        conn.close()"
   ]
  },
  {
   "cell_type": "code",
   "execution_count": null,
   "id": "03685e0b",
   "metadata": {},
   "outputs": [],
   "source": []
  },
  {
   "cell_type": "code",
   "execution_count": null,
   "id": "c103ca96",
   "metadata": {},
   "outputs": [],
   "source": []
  },
  {
   "cell_type": "code",
   "execution_count": null,
   "id": "f600980e",
   "metadata": {},
   "outputs": [],
   "source": []
  }
 ],
 "metadata": {
  "kernelspec": {
   "display_name": "Python 3 (ipykernel)",
   "language": "python",
   "name": "python3"
  },
  "language_info": {
   "codemirror_mode": {
    "name": "ipython",
    "version": 3
   },
   "file_extension": ".py",
   "mimetype": "text/x-python",
   "name": "python",
   "nbconvert_exporter": "python",
   "pygments_lexer": "ipython3",
   "version": "3.9.7"
  }
 },
 "nbformat": 4,
 "nbformat_minor": 5
}
