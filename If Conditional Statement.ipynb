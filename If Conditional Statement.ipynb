{
 "cells": [
  {
   "cell_type": "markdown",
   "id": "ede3471d",
   "metadata": {},
   "source": [
    "# IF Clause \n",
    "    - If statment \n",
    "    - if else\n",
    "    - elif\n",
    "    - multiple if's\n",
    "    - nested if's "
   ]
  },
  {
   "cell_type": "code",
   "execution_count": 1,
   "id": "e3307f3c",
   "metadata": {},
   "outputs": [
    {
     "name": "stdout",
     "output_type": "stream",
     "text": [
      "Enter you name : Mehfooz Ali\n"
     ]
    }
   ],
   "source": [
    "name = input(\"Enter you name : \")"
   ]
  },
  {
   "cell_type": "code",
   "execution_count": 4,
   "id": "b2e9b7b8",
   "metadata": {},
   "outputs": [
    {
     "name": "stdout",
     "output_type": "stream",
     "text": [
      "Is it raining oustide Y/N : y\n",
      "Class Cancel\n"
     ]
    }
   ],
   "source": [
    "status = None #\"\"  we can wrtie empty value or we can put none value\n",
    "isRaining = input(\"Is it raining oustide Y/N : \")\n",
    "\n",
    "if (isRaining == 'y'): #if k baad statement likhte hen . isko statement or clause kehte hen\n",
    "    status = \"Cancel\"  #creating the block after the enter or Indent\n",
    "    \n",
    "else: #no statement\n",
    "    status = \"On Time\"\n",
    "\n",
    "print(f\"Class {status}\")\n"
   ]
  },
  {
   "cell_type": "code",
   "execution_count": 14,
   "id": "32cb5d91",
   "metadata": {},
   "outputs": [
    {
     "name": "stdout",
     "output_type": "stream",
     "text": [
      "Enter your marks : 69\n",
      "Your result is : failed\n"
     ]
    }
   ],
   "source": [
    "result = None\n",
    "ismarks = int(input(\"Enter your marks : \"))\n",
    "\n",
    "if(ismarks >= 70):\n",
    "    result = 'pass'\n",
    "\n",
    "else:\n",
    "    result = 'failed'\n",
    "\n",
    "print(f\"Your result is : {result}\")"
   ]
  },
  {
   "cell_type": "code",
   "execution_count": 1,
   "id": "831412a0",
   "metadata": {},
   "outputs": [],
   "source": [
    "user_id = \"mehfooz201\"\n",
    "password = \"abc12\""
   ]
  },
  {
   "cell_type": "code",
   "execution_count": 4,
   "id": "4ef05f2b",
   "metadata": {},
   "outputs": [
    {
     "name": "stdout",
     "output_type": "stream",
     "text": [
      "Enter you username : mehfooz201\n",
      "Enter you password : abc12\n",
      "Login status : Welcome to the Dashboard \n"
     ]
    }
   ],
   "source": [
    "#nested if for condition\n",
    "login_status= None\n",
    "\n",
    "uid = input(\"Enter you username : \")\n",
    "\n",
    "if (user_id == uid):\n",
    "    pwd = input(\"Enter you password : \")\n",
    "    if(password == pwd):\n",
    "        login_status = \"Welcome to the Dashboard\"\n",
    "    else:\n",
    "        login_status = \"Not allowed\"\n",
    "\n",
    "else:\n",
    "    login_status = \"Not allowed\"\n",
    "\n",
    "print(f\"Login status : {login_status} \")\n"
   ]
  },
  {
   "cell_type": "code",
   "execution_count": 16,
   "id": "02f02621",
   "metadata": {},
   "outputs": [
    {
     "name": "stdout",
     "output_type": "stream",
     "text": [
      "Enter your required brand : polo\n",
      "Enter your color : red\n",
      "Enter your shirt size : m\n",
      "Enter your price : 900\n",
      "You have bought Red Polo Medium Size Shirt \n"
     ]
    }
   ],
   "source": [
    "#nested if => Condition \n",
    "#nested => all condition must be true in (if)\n",
    "\n",
    "brand = input('Enter your required brand : ').lower()\n",
    "cart = None\n",
    "\n",
    "if brand == \"polo\":\n",
    "    \n",
    "    color = input(\"Enter your color : \")\n",
    "    if (color==\"red\"):\n",
    "        \n",
    "        size = input(\"Enter your shirt size : \")\n",
    "        if (size == \"m\"):\n",
    "            \n",
    "            price = int(input(\"Enter your price : \"))\n",
    "            if(price < 1000):\n",
    "                cart = \"Red Polo Medium Size Shirt\"\n",
    "            else:\n",
    "                print(\"Out of range\")\n",
    "                cart = \"Nothing\"\n",
    "        else:\n",
    "            print(\"size not available\")\n",
    "            cart = \"Nothing\"\n",
    "            \n",
    "    else:\n",
    "        print(\"Color not available\")\n",
    "        cart = \"Nothing\"\n",
    "else:\n",
    "    print(\"Brand not available\")\n",
    "    cart = \"Nothing\"\n",
    "    \n",
    "print(f\"You have bought {cart} \")"
   ]
  },
  {
   "cell_type": "code",
   "execution_count": 18,
   "id": "a3854d5e",
   "metadata": {},
   "outputs": [
    {
     "name": "stdout",
     "output_type": "stream",
     "text": [
      "Enter your required brand : polo\n",
      "Enter your color : red\n",
      "Enter your shirt size : m\n",
      "Enter your price : 500\n",
      "You have bought 'Red Polo Medium Size T-Shirt' \n"
     ]
    }
   ],
   "source": [
    "#nested if ka parallel and operator he\n",
    "\n",
    "statusCart = None\n",
    "brand = input('Enter your required brand : ').lower()\n",
    "color = input(\"Enter your color : \")\n",
    "size = input(\"Enter your shirt size : \")\n",
    "price = int(input(\"Enter your price : \"))\n",
    "\n",
    "if ((brand == \"polo\") and (color == \"red\") and (size == \"m\") and (price<1000)):\n",
    "    statusCart = \"You have bought 'Red Polo Medium Size T-Shirt' \"\n",
    "else:\n",
    "    statusCart = \"You have bought Nothing\"\n",
    "\n",
    "print(statusCart)"
   ]
  },
  {
   "cell_type": "markdown",
   "id": "831a77b7",
   "metadata": {},
   "source": [
    "# Multiple If's"
   ]
  },
  {
   "cell_type": "code",
   "execution_count": null,
   "id": "b92d5ef6",
   "metadata": {},
   "outputs": [],
   "source": [
    "#OR Condition => Aik bi condition true hogai to program rin hoga.\n",
    "\n",
    "grade = None\n",
    "\n",
    "python = int(input(\"Enter your Python marks : \"))\n",
    "java = int(input(\"Enter your Java marks : \"))\n",
    "c = int(input(\"Enter your C++ marks : \"))\n",
    "go = int(input(\"Enter your Go marks : \"))\n",
    "js = int(input(\"Enter your Javascript marks : \"))\n",
    "\n",
    "\n",
    "tot_obt  = python + java + c + go + js\n",
    "perc = tot_obt / 500 * 100\n",
    "\n",
    "if (perc >= 90):\n",
    "    grade = \"A+\"\n",
    "\n",
    "elif (perc >= 80):\n",
    "    grade = \"A\"\n",
    "\n",
    "elif (perc >= 70):\n",
    "    grade = \"B\"\n",
    "\n",
    "elif (perc >= 60):\n",
    "    grade = \"C\"\n",
    "\n",
    "else:\n",
    "    grade = \"U Grade\" #Ungrade\n",
    "\n",
    "print(f\"\"\"\n",
    "    Result Card\n",
    "    =====================\n",
    "    \n",
    "    Total Marks : {tot_obt}\n",
    "    Percentage : {perc}\n",
    "    Grade : {grade}\n",
    "    \n",
    "    \n",
    "    \"\"\")\n",
    "\n",
    "\n"
   ]
  },
  {
   "cell_type": "code",
   "execution_count": null,
   "id": "e9189447",
   "metadata": {},
   "outputs": [],
   "source": []
  }
 ],
 "metadata": {
  "kernelspec": {
   "display_name": "Python 3 (ipykernel)",
   "language": "python",
   "name": "python3"
  },
  "language_info": {
   "codemirror_mode": {
    "name": "ipython",
    "version": 3
   },
   "file_extension": ".py",
   "mimetype": "text/x-python",
   "name": "python",
   "nbconvert_exporter": "python",
   "pygments_lexer": "ipython3",
   "version": "3.9.7"
  }
 },
 "nbformat": 4,
 "nbformat_minor": 5
}
