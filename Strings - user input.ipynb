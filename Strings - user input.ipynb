{
 "cells": [
  {
   "cell_type": "markdown",
   "id": "fb579451",
   "metadata": {},
   "source": [
    "# Strings & User Input"
   ]
  },
  {
   "cell_type": "raw",
   "id": "652bd32f",
   "metadata": {},
   "source": [
    "This lecture covers: \n",
    "    - User input\n",
    "    - How to take single and multiple inputs from user using input function\n",
    "    - Type Casting\n",
    "    - String indexing\n",
    "    - String all functions\n",
    "    - String concatenation\n",
    "    - String formatting\n",
    "    - String formatting  using format function\n",
    "    - String formatting using f \n",
    "    - How format a string multiple lines using tripple quoates"
   ]
  },
  {
   "cell_type": "markdown",
   "id": "cb84eb1c",
   "metadata": {},
   "source": [
    "# User Input\n",
    " - input function take input from user on console. \n",
    " - the input given is called console input/ runtime input\n",
    " - The input given from console will always be a string either you input a    \n",
    "   string value or integer value"
   ]
  },
  {
   "cell_type": "code",
   "execution_count": 13,
   "id": "a2853ae0",
   "metadata": {},
   "outputs": [
    {
     "name": "stdout",
     "output_type": "stream",
     "text": [
      "Tell me your good name sir! >>>Nasir Hussain\n"
     ]
    }
   ],
   "source": [
    "name = input(\"Tell me your good name sir! >>>\")"
   ]
  },
  {
   "cell_type": "code",
   "execution_count": 14,
   "id": "d9e48b2c",
   "metadata": {},
   "outputs": [
    {
     "name": "stdout",
     "output_type": "stream",
     "text": [
      "Nasir Hussain\n",
      "<class 'str'>\n"
     ]
    }
   ],
   "source": [
    "print(name)\n",
    "print(type(name))\n",
    "\n",
    "# see the type of name is string"
   ]
  },
  {
   "cell_type": "code",
   "execution_count": 15,
   "id": "7ee8e640",
   "metadata": {},
   "outputs": [
    {
     "name": "stdout",
     "output_type": "stream",
     "text": [
      "Tell me your age>40\n",
      "40\n",
      "<class 'str'>\n"
     ]
    }
   ],
   "source": [
    "age = input(\"Tell me your age>\")\n",
    "print(age)\n",
    "print(type(age))\n",
    "# still the type of age is string even we enter a integer value in input"
   ]
  },
  {
   "cell_type": "markdown",
   "id": "e68bf48a",
   "metadata": {},
   "source": [
    "# Can we give more than one input from console?\n",
    "\n",
    "- No we can not give more than one input from console. \n",
    "- But we can use different techniquues to break single input into more than one input \n",
    "    \n"
   ]
  },
  {
   "cell_type": "code",
   "execution_count": 16,
   "id": "30d4385e",
   "metadata": {},
   "outputs": [
    {
     "name": "stdout",
     "output_type": "stream",
     "text": [
      "Tell me your age30,40\n"
     ]
    }
   ],
   "source": [
    "asad,usman  = input(\"Tell me your age\").split(',')"
   ]
  },
  {
   "cell_type": "raw",
   "id": "75cdb228",
   "metadata": {},
   "source": [
    "23,24 is inputted in a single stringl like '23,24'. But we split this single string on \",\" to break it into two string.\n",
    "\n",
    "since split will break \"23,24\" into  '23','24' and assigned it into \n",
    "asad <<<== 23\n",
    "usman<<===24\n",
    "\n",
    "Note: since our string value will be borken down into 2 values we will need two variables to catch the values. "
   ]
  },
  {
   "cell_type": "code",
   "execution_count": 17,
   "id": "d204d4d7",
   "metadata": {},
   "outputs": [
    {
     "name": "stdout",
     "output_type": "stream",
     "text": [
      "30\n",
      "40\n"
     ]
    }
   ],
   "source": [
    "print(asad)\n",
    "print(usman)"
   ]
  },
  {
   "cell_type": "raw",
   "id": "538903bd",
   "metadata": {},
   "source": [
    "The values are still string values "
   ]
  },
  {
   "cell_type": "code",
   "execution_count": 18,
   "id": "f9e96ddc",
   "metadata": {},
   "outputs": [
    {
     "data": {
      "text/plain": [
       "'30'"
      ]
     },
     "execution_count": 18,
     "metadata": {},
     "output_type": "execute_result"
    }
   ],
   "source": [
    "asad"
   ]
  },
  {
   "cell_type": "code",
   "execution_count": 19,
   "id": "a93e70d3",
   "metadata": {},
   "outputs": [
    {
     "ename": "TypeError",
     "evalue": "can only concatenate str (not \"int\") to str",
     "output_type": "error",
     "traceback": [
      "\u001b[1;31m---------------------------------------\u001b[0m",
      "\u001b[1;31mTypeError\u001b[0mTraceback (most recent call last)",
      "\u001b[1;32m<ipython-input-19-12d74c7f33a3>\u001b[0m in \u001b[0;36m<module>\u001b[1;34m\u001b[0m\n\u001b[1;32m----> 1\u001b[1;33m \u001b[0masad\u001b[0m \u001b[1;33m+\u001b[0m \u001b[1;36m1\u001b[0m\u001b[1;33m\u001b[0m\u001b[1;33m\u001b[0m\u001b[0m\n\u001b[0m\u001b[0;32m      2\u001b[0m \u001b[1;33m\u001b[0m\u001b[0m\n\u001b[0;32m      3\u001b[0m \u001b[1;31m# we can not add a integer to a string.\u001b[0m\u001b[1;33m\u001b[0m\u001b[1;33m\u001b[0m\u001b[1;33m\u001b[0m\u001b[0m\n\u001b[0;32m      4\u001b[0m \u001b[1;31m# a string can not be concatenated in an integer\u001b[0m\u001b[1;33m\u001b[0m\u001b[1;33m\u001b[0m\u001b[1;33m\u001b[0m\u001b[0m\n",
      "\u001b[1;31mTypeError\u001b[0m: can only concatenate str (not \"int\") to str"
     ]
    }
   ],
   "source": [
    "asad + 1 \n",
    "\n",
    "# we can not add a integer to a string. \n",
    "# a string can not be concatenated in an integer"
   ]
  },
  {
   "cell_type": "markdown",
   "id": "e2bb2c08",
   "metadata": {},
   "source": [
    "# Type Casting\n",
    "- changing the data type of a value to another data type is called type casting\n",
    " "
   ]
  },
  {
   "cell_type": "code",
   "execution_count": 20,
   "id": "c3748316",
   "metadata": {},
   "outputs": [
    {
     "data": {
      "text/plain": [
       "int"
      ]
     },
     "execution_count": 20,
     "metadata": {},
     "output_type": "execute_result"
    }
   ],
   "source": [
    "type(100)\n",
    "# type of 100 is integer "
   ]
  },
  {
   "cell_type": "code",
   "execution_count": 21,
   "id": "0147a50b",
   "metadata": {},
   "outputs": [
    {
     "data": {
      "text/plain": [
       "str"
      ]
     },
     "execution_count": 21,
     "metadata": {},
     "output_type": "execute_result"
    }
   ],
   "source": [
    "# changing type of 100 which is integer to string by using str() \n",
    "type(str(100))"
   ]
  },
  {
   "cell_type": "code",
   "execution_count": 22,
   "id": "0411d074",
   "metadata": {},
   "outputs": [
    {
     "data": {
      "text/plain": [
       "int"
      ]
     },
     "execution_count": 22,
     "metadata": {},
     "output_type": "execute_result"
    }
   ],
   "source": [
    "# \"500\" is a string value.\n",
    "# converting string 500 into a integer 500 by int() \n",
    "type(int(\"500\"))"
   ]
  },
  {
   "cell_type": "code",
   "execution_count": 23,
   "id": "288996be",
   "metadata": {},
   "outputs": [
    {
     "ename": "ValueError",
     "evalue": "invalid literal for int() with base 10: 'asad'",
     "output_type": "error",
     "traceback": [
      "\u001b[1;31m---------------------------------------\u001b[0m",
      "\u001b[1;31mValueError\u001b[0mTraceback (most recent call last)",
      "\u001b[1;32m<ipython-input-23-9069dd915aa7>\u001b[0m in \u001b[0;36m<module>\u001b[1;34m\u001b[0m\n\u001b[1;32m----> 1\u001b[1;33m \u001b[0mint\u001b[0m\u001b[1;33m(\u001b[0m\u001b[1;34m\"asad\"\u001b[0m\u001b[1;33m)\u001b[0m\u001b[1;33m\u001b[0m\u001b[1;33m\u001b[0m\u001b[0m\n\u001b[0m\u001b[0;32m      2\u001b[0m \u001b[1;33m\u001b[0m\u001b[0m\n\u001b[0;32m      3\u001b[0m \u001b[1;31m#every string can not be type casted to integer.\u001b[0m\u001b[1;33m\u001b[0m\u001b[1;33m\u001b[0m\u001b[1;33m\u001b[0m\u001b[0m\n\u001b[0;32m      4\u001b[0m \u001b[1;31m#only the string having integer in \"\" can be converted to integer value\u001b[0m\u001b[1;33m\u001b[0m\u001b[1;33m\u001b[0m\u001b[1;33m\u001b[0m\u001b[0m\n",
      "\u001b[1;31mValueError\u001b[0m: invalid literal for int() with base 10: 'asad'"
     ]
    }
   ],
   "source": [
    "int(\"asad\")\n",
    "\n",
    "#every string can not be type casted to integer.\n",
    "#only the string having integer in \"\" can be converted to integer value"
   ]
  },
  {
   "cell_type": "markdown",
   "id": "5cfb6c14",
   "metadata": {},
   "source": [
    "# String \n",
    " - Python has a string class\n",
    " - Every String created in python is an object og string class\n",
    " - Every string has all the string functions of string class"
   ]
  },
  {
   "cell_type": "code",
   "execution_count": 24,
   "id": "2a91c1ce",
   "metadata": {},
   "outputs": [],
   "source": [
    "country = \"Pakistan\""
   ]
  },
  {
   "cell_type": "code",
   "execution_count": 25,
   "id": "545c41de",
   "metadata": {},
   "outputs": [
    {
     "data": {
      "text/plain": [
       "'pakistan'"
      ]
     },
     "execution_count": 25,
     "metadata": {},
     "output_type": "execute_result"
    }
   ],
   "source": [
    "country.lower()"
   ]
  },
  {
   "cell_type": "code",
   "execution_count": 26,
   "id": "1638d823",
   "metadata": {},
   "outputs": [
    {
     "data": {
      "text/plain": [
       "'PAKISTAN'"
      ]
     },
     "execution_count": 26,
     "metadata": {},
     "output_type": "execute_result"
    }
   ],
   "source": [
    "country.upper()"
   ]
  },
  {
   "cell_type": "code",
   "execution_count": 27,
   "id": "2e7a1628",
   "metadata": {},
   "outputs": [
    {
     "data": {
      "text/plain": [
       "'Hi, welcome to python world'"
      ]
     },
     "execution_count": 27,
     "metadata": {},
     "output_type": "execute_result"
    }
   ],
   "source": [
    "sentence  = \"hi, welcome to Python World\"\n",
    "sentence.capitalize()"
   ]
  },
  {
   "cell_type": "code",
   "execution_count": 28,
   "id": "fdeeaaf2",
   "metadata": {},
   "outputs": [
    {
     "data": {
      "text/plain": [
       "1"
      ]
     },
     "execution_count": 28,
     "metadata": {},
     "output_type": "execute_result"
    }
   ],
   "source": [
    "sentence.count('P')"
   ]
  },
  {
   "cell_type": "code",
   "execution_count": 29,
   "id": "6cc4d584",
   "metadata": {},
   "outputs": [
    {
     "data": {
      "text/plain": [
       "False"
      ]
     },
     "execution_count": 29,
     "metadata": {},
     "output_type": "execute_result"
    }
   ],
   "source": [
    "sentence.endswith(\" ld\")"
   ]
  },
  {
   "cell_type": "code",
   "execution_count": 30,
   "id": "38b253d5",
   "metadata": {},
   "outputs": [
    {
     "data": {
      "text/plain": [
       "True"
      ]
     },
     "execution_count": 30,
     "metadata": {},
     "output_type": "execute_result"
    }
   ],
   "source": [
    "sentence.startswith('h')"
   ]
  },
  {
   "cell_type": "code",
   "execution_count": 31,
   "id": "56b0a282",
   "metadata": {},
   "outputs": [
    {
     "data": {
      "text/plain": [
       "4"
      ]
     },
     "execution_count": 31,
     "metadata": {},
     "output_type": "execute_result"
    }
   ],
   "source": [
    "sentence.find('w')"
   ]
  },
  {
   "cell_type": "code",
   "execution_count": 32,
   "id": "3efc695b",
   "metadata": {},
   "outputs": [],
   "source": [
    "#indexing\n",
    "#      -15       -7    -1  \n",
    "text = \"Hello my friends\"\n",
    "#       0123456789012345"
   ]
  },
  {
   "cell_type": "code",
   "execution_count": 33,
   "id": "0bd97f3c",
   "metadata": {},
   "outputs": [
    {
     "data": {
      "text/plain": [
       "'l'"
      ]
     },
     "execution_count": 33,
     "metadata": {},
     "output_type": "execute_result"
    }
   ],
   "source": [
    "text[3]"
   ]
  },
  {
   "cell_type": "code",
   "execution_count": 34,
   "id": "4b5d01e6",
   "metadata": {},
   "outputs": [
    {
     "data": {
      "text/plain": [
       "'e'"
      ]
     },
     "execution_count": 34,
     "metadata": {},
     "output_type": "execute_result"
    }
   ],
   "source": [
    "text[-4]"
   ]
  },
  {
   "cell_type": "code",
   "execution_count": 35,
   "id": "d9a214f0",
   "metadata": {},
   "outputs": [
    {
     "data": {
      "text/plain": [
       "'Hello my friends'"
      ]
     },
     "execution_count": 35,
     "metadata": {},
     "output_type": "execute_result"
    }
   ],
   "source": [
    "text"
   ]
  },
  {
   "cell_type": "code",
   "execution_count": 36,
   "id": "2ad3a40c",
   "metadata": {},
   "outputs": [
    {
     "data": {
      "text/plain": [
       "1"
      ]
     },
     "execution_count": 36,
     "metadata": {},
     "output_type": "execute_result"
    }
   ],
   "source": [
    "text.find('e')"
   ]
  },
  {
   "cell_type": "code",
   "execution_count": 37,
   "id": "a4918c41",
   "metadata": {},
   "outputs": [
    {
     "data": {
      "text/plain": [
       "12"
      ]
     },
     "execution_count": 37,
     "metadata": {},
     "output_type": "execute_result"
    }
   ],
   "source": [
    "text.find('e',2)\n",
    "#find \"e\" in my string value but start your search from index number 2"
   ]
  },
  {
   "cell_type": "code",
   "execution_count": 38,
   "id": "f181aa8f",
   "metadata": {},
   "outputs": [
    {
     "data": {
      "text/plain": [
       "7"
      ]
     },
     "execution_count": 38,
     "metadata": {},
     "output_type": "execute_result"
    }
   ],
   "source": [
    "text.index(\"y\")\n",
    "# returns the position(index) of char y in our string"
   ]
  },
  {
   "cell_type": "code",
   "execution_count": 63,
   "id": "3ca64b34",
   "metadata": {},
   "outputs": [
    {
     "data": {
      "text/plain": [
       "False"
      ]
     },
     "execution_count": 63,
     "metadata": {},
     "output_type": "execute_result"
    }
   ],
   "source": [
    "text.isalnum()\n",
    "text.isalpha()\n",
    "text.isascii()\n",
    "#Note: Implement all other functions of string  "
   ]
  },
  {
   "cell_type": "code",
   "execution_count": 69,
   "id": "d96c602f",
   "metadata": {},
   "outputs": [
    {
     "data": {
      "text/plain": [
       "'N'"
      ]
     },
     "execution_count": 69,
     "metadata": {},
     "output_type": "execute_result"
    }
   ],
   "source": [
    "chr(78)"
   ]
  },
  {
   "cell_type": "markdown",
   "id": "a2ee7c86",
   "metadata": {},
   "source": [
    "# Conacatenation\n",
    " - joining two or more strings together is called concatenation"
   ]
  },
  {
   "cell_type": "code",
   "execution_count": 39,
   "id": "2d9850aa",
   "metadata": {},
   "outputs": [],
   "source": [
    "first_name = \"Nasir\"\n",
    "last_name = \"Hussain\""
   ]
  },
  {
   "cell_type": "code",
   "execution_count": 40,
   "id": "5e57a3be",
   "metadata": {},
   "outputs": [
    {
     "name": "stdout",
     "output_type": "stream",
     "text": [
      "Nasir Hussain 25\n"
     ]
    }
   ],
   "source": [
    "print(first_name+\" \" + last_name +\" \"+ str(25))\n",
    "\n",
    "#first name is string, lastname is string, \n",
    "#but 25 is not string we have type casted 25 to str, \n",
    "#now it will be concatenated"
   ]
  },
  {
   "cell_type": "code",
   "execution_count": 41,
   "id": "33a386ff",
   "metadata": {},
   "outputs": [
    {
     "name": "stdout",
     "output_type": "stream",
     "text": [
      "Enter your nameasad\n",
      "Enter your age34\n",
      "User name is asad and age is 34\n"
     ]
    }
   ],
   "source": [
    "user_name = input(\"Enter your name\")\n",
    "user_age  = int(input(\"Enter your age\")) \n",
    "\n",
    "print(\"User name is \"+user_name+\" and age is \"+str(user_age))"
   ]
  },
  {
   "cell_type": "code",
   "execution_count": 42,
   "id": "03338721",
   "metadata": {},
   "outputs": [],
   "source": [
    "after_10_years = user_age + 10"
   ]
  },
  {
   "cell_type": "code",
   "execution_count": 89,
   "id": "bde36b73",
   "metadata": {},
   "outputs": [
    {
     "data": {
      "text/plain": [
       "44"
      ]
     },
     "execution_count": 89,
     "metadata": {},
     "output_type": "execute_result"
    }
   ],
   "source": [
    "after_10_years"
   ]
  },
  {
   "cell_type": "markdown",
   "id": "9ca6c2de",
   "metadata": {},
   "source": [
    "# Formatting\n",
    "- Concatenation joins two strings where as formatting formatts a string. \n",
    "- We dont need to type cast values in formatting\n",
    "- Formatting is more convenient and easy to handle the values\n"
   ]
  },
  {
   "cell_type": "markdown",
   "id": "92faac20",
   "metadata": {},
   "source": [
    "Fomatting methods: \n",
    "    - format()\n",
    "    - f-method"
   ]
  },
  {
   "cell_type": "markdown",
   "id": "a10d24e5",
   "metadata": {},
   "source": [
    "# Format()"
   ]
  },
  {
   "cell_type": "code",
   "execution_count": 90,
   "id": "d30a880e",
   "metadata": {},
   "outputs": [
    {
     "name": "stdout",
     "output_type": "stream",
     "text": [
      "Enter your nameasad\n",
      "Enter your age25\n"
     ]
    },
    {
     "data": {
      "text/plain": [
       "'User name is asad  and age is 25'"
      ]
     },
     "execution_count": 90,
     "metadata": {},
     "output_type": "execute_result"
    }
   ],
   "source": [
    "user_name = input(\"Enter your name\")\n",
    "user_age  = int(input(\"Enter your age\")) \n",
    "\n",
    "\"User name is {}  and age is {}\".format(user_name,user_age)"
   ]
  },
  {
   "cell_type": "markdown",
   "id": "fb75a48f",
   "metadata": {},
   "source": [
    "- {} are called palace holders\n",
    "- value used in {} will be supplied from format function\n",
    "- format function can have hard coded value or a variable "
   ]
  },
  {
   "cell_type": "code",
   "execution_count": 92,
   "id": "f2ca91ff",
   "metadata": {},
   "outputs": [
    {
     "data": {
      "text/plain": [
       "'User name is 50  and age is Hasan'"
      ]
     },
     "execution_count": 92,
     "metadata": {},
     "output_type": "execute_result"
    }
   ],
   "source": [
    "\"User name is {1}  and age is {0}\".format(\"Hasan\",50)"
   ]
  },
  {
   "cell_type": "raw",
   "id": "567e3b57",
   "metadata": {},
   "source": [
    "- format(value1, value0)\n",
    "           0        1\n",
    "           \n",
    "- In placeholders {} we can also used the index of value."
   ]
  },
  {
   "cell_type": "code",
   "execution_count": 93,
   "id": "117628d9",
   "metadata": {},
   "outputs": [
    {
     "ename": "IndexError",
     "evalue": "tuple index out of range",
     "output_type": "error",
     "traceback": [
      "\u001b[1;31m---------------------------------------\u001b[0m",
      "\u001b[1;31mIndexError\u001b[0mTraceback (most recent call last)",
      "\u001b[1;32m<ipython-input-93-b5da5e31d363>\u001b[0m in \u001b[0;36m<module>\u001b[1;34m\u001b[0m\n\u001b[1;32m----> 1\u001b[1;33m \u001b[1;34m\"User name is {}  and age is {} {}\"\u001b[0m\u001b[1;33m.\u001b[0m\u001b[0mformat\u001b[0m\u001b[1;33m(\u001b[0m\u001b[1;34m\"Hasan\"\u001b[0m\u001b[1;33m,\u001b[0m\u001b[1;36m50\u001b[0m\u001b[1;33m)\u001b[0m\u001b[1;33m\u001b[0m\u001b[1;33m\u001b[0m\u001b[0m\n\u001b[0m",
      "\u001b[1;31mIndexError\u001b[0m: tuple index out of range"
     ]
    }
   ],
   "source": [
    "\"User name is {}  and age is {} {}\".format(\"Hasan\",50)\n",
    "# if we have more place holders than values supplied in format\n",
    "# it will throw error "
   ]
  },
  {
   "cell_type": "raw",
   "id": "21a37242",
   "metadata": {},
   "source": [
    "Using index of values in palce holder allows to reuse of same values in different placeholders in a string"
   ]
  },
  {
   "cell_type": "code",
   "execution_count": 94,
   "id": "63bc328e",
   "metadata": {},
   "outputs": [
    {
     "data": {
      "text/plain": [
       "'User name is Hasan  and age is 50 Hasan'"
      ]
     },
     "execution_count": 94,
     "metadata": {},
     "output_type": "execute_result"
    }
   ],
   "source": [
    "\"User name is {0}  and age is {1} {0}\".format(\"Hasan\",50)"
   ]
  },
  {
   "cell_type": "markdown",
   "id": "c783f63a",
   "metadata": {},
   "source": [
    "# f- method"
   ]
  },
  {
   "cell_type": "raw",
   "id": "b9f60209",
   "metadata": {},
   "source": [
    "\n",
    "In f methods we use a f before starting a string. {}{} place holders can directly take the variables. \n",
    "This allows more flexibility in formatting a string. \n",
    "Easy to handle and easy to use"
   ]
  },
  {
   "cell_type": "code",
   "execution_count": 95,
   "id": "97a15f06",
   "metadata": {},
   "outputs": [
    {
     "name": "stdout",
     "output_type": "stream",
     "text": [
      "Enter your namenasir\n",
      "Enter your age29\n"
     ]
    },
    {
     "data": {
      "text/plain": [
       "'User name is nasir  and age is 29'"
      ]
     },
     "execution_count": 95,
     "metadata": {},
     "output_type": "execute_result"
    }
   ],
   "source": [
    "user_name = input(\"Enter your name\")\n",
    "user_age  = int(input(\"Enter your age\"))\n",
    "\n",
    "f\"User name is {user_name}  and age is {user_age}\"\n",
    "\n"
   ]
  },
  {
   "cell_type": "markdown",
   "id": "54de5e51",
   "metadata": {},
   "source": [
    "# Multiple line strings "
   ]
  },
  {
   "cell_type": "code",
   "execution_count": null,
   "id": "e9051da9",
   "metadata": {},
   "outputs": [],
   "source": [
    "We can use escape characters to format srings in multiple lines \n",
    "Please read afew escape characters from this link "
   ]
  },
  {
   "cell_type": "code",
   "execution_count": 97,
   "id": "939bd4d3",
   "metadata": {},
   "outputs": [
    {
     "name": "stdout",
     "output_type": "stream",
     "text": [
      "I am learning python. \n",
      "We are in Karachi\n"
     ]
    }
   ],
   "source": [
    "print(\"I am learning python. \\nWe are in Karachi\")"
   ]
  },
  {
   "cell_type": "code",
   "execution_count": null,
   "id": "2738450d",
   "metadata": {},
   "outputs": [],
   "source": [
    "#We can make a string using single quotes(' ')\n",
    "a_single_quote_string_value = 'I am single quote string value'"
   ]
  },
  {
   "cell_type": "code",
   "execution_count": 44,
   "id": "9dc81929",
   "metadata": {},
   "outputs": [],
   "source": [
    "#We can make a string using double quotes(' ')\n",
    "a_double_quote_string_value = \"I am double quote string value\""
   ]
  },
  {
   "cell_type": "code",
   "execution_count": null,
   "id": "267e205d",
   "metadata": {},
   "outputs": [],
   "source": [
    "#We can make a string using tripple quotes(''' ''')\n",
    "a_tripple_quote_string_value = '''I am tripple quote string value'''\n",
    "tripple_quote_string_value = \"\"\"I am tripple quote string value\"\"\""
   ]
  },
  {
   "cell_type": "raw",
   "id": "a2a78301",
   "metadata": {},
   "source": [
    "Note: A tripple quote string allows a multiple line string with spaces and line changes as it is as you supply in string"
   ]
  },
  {
   "cell_type": "raw",
   "id": "d59f29fe",
   "metadata": {},
   "source": [
    "         ID Card\n",
    "name: Nasir\n",
    "Father: Hussain\n",
    "Coourse: AI\n",
    "Batch : 2022\n",
    "Sir Syed University\n"
   ]
  },
  {
   "cell_type": "code",
   "execution_count": 52,
   "id": "58bab84f",
   "metadata": {},
   "outputs": [
    {
     "name": "stdout",
     "output_type": "stream",
     "text": [
      "Enter name>>>Nasir Hussain\n",
      "Enter father name>>>Hussain \n",
      "Enter course title>>>Artificial Intelligence\n",
      "Enter batch>>>2022\n",
      "Centre name>>>Sir Syed University of Engg & Technology\n"
     ]
    }
   ],
   "source": [
    "name = input(\"Enter name>>>\")\n",
    "father=input(\"Enter father name>>>\")\n",
    "course=input(\"Enter course title>>>\")\n",
    "batch = input(\"Enter batch>>>\")\n",
    "centre = input(\"Centre name>>>\")"
   ]
  },
  {
   "cell_type": "code",
   "execution_count": 56,
   "id": "1b63533e",
   "metadata": {},
   "outputs": [
    {
     "name": "stdout",
     "output_type": "stream",
     "text": [
      "\n",
      "     ID Card\n",
      "     _______\n",
      "     \n",
      "     PIAIC\n",
      "     \n",
      "name    : Nasir Hussain\n",
      "Father  : Hussain \n",
      "    \n",
      "Coourse : Artificial Intelligence\n",
      "Batch   : 2022\n",
      "Centre  : Sir Syed University of Engg & Technology\n",
      "\n",
      "\n",
      "\n"
     ]
    }
   ],
   "source": [
    "print(f\"\"\"\n",
    "     ID Card\n",
    "     _______\n",
    "     \n",
    "     PIAIC\n",
    "     \n",
    "name    : {name}\n",
    "Father  : {father}\n",
    "    \n",
    "Coourse : {course}\n",
    "Batch   : {batch}\n",
    "Centre  : {centre}\n",
    "\n",
    "\n",
    "\"\"\")"
   ]
  },
  {
   "cell_type": "code",
   "execution_count": null,
   "id": "2413f4dc",
   "metadata": {},
   "outputs": [],
   "source": []
  }
 ],
 "metadata": {
  "kernelspec": {
   "display_name": "Python 3 (ipykernel)",
   "language": "python",
   "name": "python3"
  },
  "language_info": {
   "codemirror_mode": {
    "name": "ipython",
    "version": 3
   },
   "file_extension": ".py",
   "mimetype": "text/x-python",
   "name": "python",
   "nbconvert_exporter": "python",
   "pygments_lexer": "ipython3",
   "version": "3.9.7"
  }
 },
 "nbformat": 4,
 "nbformat_minor": 5
}
