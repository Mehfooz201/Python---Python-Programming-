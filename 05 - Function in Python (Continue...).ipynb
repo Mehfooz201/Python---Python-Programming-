{
 "cells": [
  {
   "cell_type": "markdown",
   "id": "fa2764ec",
   "metadata": {},
   "source": [
    "# Class_8 (27Aug)\n",
    "#Function Continue"
   ]
  },
  {
   "cell_type": "markdown",
   "id": "681e906c",
   "metadata": {},
   "source": [
    "Arbitrary Number of Arguments"
   ]
  },
  {
   "cell_type": "code",
   "execution_count": 1,
   "id": "f9ed5c02",
   "metadata": {},
   "outputs": [],
   "source": [
    "def userDetails():\n",
    "    pass"
   ]
  },
  {
   "cell_type": "code",
   "execution_count": 2,
   "id": "5a220a06",
   "metadata": {},
   "outputs": [],
   "source": [
    "def aFunction(values):\n",
    "    print(values)"
   ]
  },
  {
   "cell_type": "code",
   "execution_count": 3,
   "id": "5187a9e9",
   "metadata": {},
   "outputs": [
    {
     "name": "stdout",
     "output_type": "stream",
     "text": [
      "hello\n"
     ]
    }
   ],
   "source": [
    "aFunction('hello')"
   ]
  },
  {
   "cell_type": "code",
   "execution_count": 4,
   "id": "e036a6fe",
   "metadata": {},
   "outputs": [
    {
     "ename": "TypeError",
     "evalue": "aFunction() takes 1 positional argument but 3 were given",
     "output_type": "error",
     "traceback": [
      "\u001b[1;31m---------------------------------------------------------------------------\u001b[0m",
      "\u001b[1;31mTypeError\u001b[0m                                 Traceback (most recent call last)",
      "\u001b[1;32m~\\AppData\\Local\\Temp/ipykernel_12560/655453307.py\u001b[0m in \u001b[0;36m<module>\u001b[1;34m\u001b[0m\n\u001b[1;32m----> 1\u001b[1;33m \u001b[0maFunction\u001b[0m\u001b[1;33m(\u001b[0m\u001b[1;34m\"Hello\"\u001b[0m\u001b[1;33m,\u001b[0m \u001b[1;34m\"Mr.\"\u001b[0m\u001b[1;33m,\u001b[0m \u001b[1;34m\"Ahmed\"\u001b[0m\u001b[1;33m)\u001b[0m\u001b[1;33m\u001b[0m\u001b[1;33m\u001b[0m\u001b[0m\n\u001b[0m",
      "\u001b[1;31mTypeError\u001b[0m: aFunction() takes 1 positional argument but 3 were given"
     ]
    }
   ],
   "source": [
    "aFunction(\"Hello\", \"Mr.\", \"Ahmed\")"
   ]
  },
  {
   "cell_type": "code",
   "execution_count": 8,
   "id": "8076059b",
   "metadata": {},
   "outputs": [
    {
     "ename": "SyntaxError",
     "evalue": "EOL while scanning string literal (Temp/ipykernel_12560/2608329558.py, line 3)",
     "output_type": "error",
     "traceback": [
      "\u001b[1;36m  File \u001b[1;32m\"C:\\Users\\user\\AppData\\Local\\Temp/ipykernel_12560/2608329558.py\"\u001b[1;36m, line \u001b[1;32m3\u001b[0m\n\u001b[1;33m    print(f\"Hello {name}\"\")\u001b[0m\n\u001b[1;37m                           ^\u001b[0m\n\u001b[1;31mSyntaxError\u001b[0m\u001b[1;31m:\u001b[0m EOL while scanning string literal\n"
     ]
    }
   ],
   "source": [
    "def aFunction(*values):\n",
    "    for name in values:\n",
    "        print(f\"Hello {name}\"\")"
   ]
  },
  {
   "cell_type": "code",
   "execution_count": 6,
   "id": "6a467536",
   "metadata": {},
   "outputs": [
    {
     "name": "stdout",
     "output_type": "stream",
     "text": [
      "('Hello', 'Mr.', 'Ahmed')\n"
     ]
    }
   ],
   "source": [
    "aFunction(\"Hello\", \"Mr.\", \"Ahmed\") #Tuple bnta he by-default"
   ]
  },
  {
   "cell_type": "code",
   "execution_count": 7,
   "id": "fdd1eb9e",
   "metadata": {},
   "outputs": [
    {
     "name": "stdout",
     "output_type": "stream",
     "text": [
      "('Mehfooz', 'Abdullah', 'Ajmal')\n"
     ]
    }
   ],
   "source": [
    "aFunction(\"Mehfooz\", \"Abdullah\", \"Ajmal\")"
   ]
  },
  {
   "cell_type": "code",
   "execution_count": 9,
   "id": "9360d2cc",
   "metadata": {},
   "outputs": [],
   "source": [
    "def userDetails(name, id, *other):\n",
    "    print(name)\n",
    "    print(id)\n",
    "    for d in other:\n",
    "        print(d)\n"
   ]
  },
  {
   "cell_type": "code",
   "execution_count": 10,
   "id": "038a3d7b",
   "metadata": {},
   "outputs": [
    {
     "name": "stdout",
     "output_type": "stream",
     "text": [
      "Mehfooz\n",
      "1047\n",
      "fname\n",
      "email\n",
      "contact\n"
     ]
    }
   ],
   "source": [
    "userDetails(\"Mehfooz\", 1047, \"fname\", \"email\", \"contact\")"
   ]
  },
  {
   "cell_type": "markdown",
   "id": "178a71c5",
   "metadata": {},
   "source": [
    "# Passing a list as agument"
   ]
  },
  {
   "cell_type": "code",
   "execution_count": 36,
   "id": "18d8c0a9",
   "metadata": {},
   "outputs": [],
   "source": [
    "students = [\"Asad\", \"Aqsa\", \"Danish\", \"Fahad\", \"Kiran\"]"
   ]
  },
  {
   "cell_type": "code",
   "execution_count": 37,
   "id": "f4c4dbcf",
   "metadata": {},
   "outputs": [],
   "source": [
    "def promoteStudents(list_of_st):\n",
    "    promotedSt = [] #empty list\n",
    "    print(list_of_st)\n",
    "#     for st in list_of_st:\n",
    "    for a in range(len(list_of_st)):\n",
    "        promotedSt.append(list_of_st.pop())\n",
    "    \n",
    "    print(promotedSt)\n",
    "    "
   ]
  },
  {
   "cell_type": "code",
   "execution_count": 38,
   "id": "da1b3a9b",
   "metadata": {},
   "outputs": [
    {
     "name": "stdout",
     "output_type": "stream",
     "text": [
      "['Asad', 'Aqsa', 'Danish', 'Fahad', 'Kiran']\n",
      "['Kiran', 'Fahad', 'Danish', 'Aqsa', 'Asad']\n"
     ]
    }
   ],
   "source": [
    "promoteStudents(students[:])  #Copying with two method, a) with Funciton .copy and b) slicing[:]"
   ]
  },
  {
   "cell_type": "code",
   "execution_count": 41,
   "id": "0abc14a2",
   "metadata": {},
   "outputs": [
    {
     "data": {
      "text/plain": [
       "['Asad', 'Aqsa', 'Danish', 'Fahad', 'Kiran']"
      ]
     },
     "execution_count": 41,
     "metadata": {},
     "output_type": "execute_result"
    }
   ],
   "source": [
    "#best way of copying to make slice\n",
    "students"
   ]
  },
  {
   "cell_type": "code",
   "execution_count": 49,
   "id": "e1e2763d",
   "metadata": {},
   "outputs": [],
   "source": [
    "def build_profile(first, last, **user_info): #** Dictionary ban jayegi #first, last = positional paramter\n",
    "    profile = {}\n",
    "    profile['first_name'] = first\n",
    "    profile['last_name'] = last\n",
    "    \n",
    "    for key, value in user_info.items():\n",
    "        profile[key] = value\n",
    "    \n",
    "    return profile\n"
   ]
  },
  {
   "cell_type": "code",
   "execution_count": 52,
   "id": "5cdffbc1",
   "metadata": {},
   "outputs": [],
   "source": [
    "user_profile = build_profile('Albert', 'Einstein', location=\"princetion\", field=\"Science\")\n"
   ]
  },
  {
   "cell_type": "code",
   "execution_count": 53,
   "id": "3b373f37",
   "metadata": {},
   "outputs": [
    {
     "data": {
      "text/plain": [
       "{'first_name': 'Albert',\n",
       " 'last_name': 'Einstein',\n",
       " 'location': 'princetion',\n",
       " 'field': 'Science'}"
      ]
     },
     "execution_count": 53,
     "metadata": {},
     "output_type": "execute_result"
    }
   ],
   "source": [
    "user_profile "
   ]
  },
  {
   "cell_type": "code",
   "execution_count": 6,
   "id": "b7d80de2",
   "metadata": {},
   "outputs": [],
   "source": [
    "def makeAlbum(title, artist_name, **othersInfo):\n",
    "    userAlbum = {}\n",
    "    userAlbum['Album Title'] = title\n",
    "    userAlbum['Artist Name'] = artist_name\n",
    "    \n",
    "    for k,v in othersInfo.items():\n",
    "        userAlbum[k]=v\n",
    "    \n",
    "    return userAlbum\n"
   ]
  },
  {
   "cell_type": "code",
   "execution_count": 9,
   "id": "215918d1",
   "metadata": {},
   "outputs": [
    {
     "data": {
      "text/plain": [
       "{'Album Title': 'Jeena Jeena',\n",
       " 'Artist Name': 'Atif Aslam',\n",
       " 'date_of_release': '27-08-2022',\n",
       " 'city': 'Karachi, Pakistan'}"
      ]
     },
     "execution_count": 9,
     "metadata": {},
     "output_type": "execute_result"
    }
   ],
   "source": [
    "makeAlbum(\"Jeena Jeena\", \"Atif Aslam\", date_of_release=\"27-08-2022\", city='Karachi, Pakistan')"
   ]
  },
  {
   "cell_type": "code",
   "execution_count": 19,
   "id": "b1ab7037",
   "metadata": {},
   "outputs": [],
   "source": [
    "def make_album(art_name, al_title, num_tracks=None):\n",
    "    user_Album = {}\n",
    "    user_Album['Artist'] = art_name\n",
    "    user_Album['Title'] = al_title\n",
    "    \n",
    "    if num_tracks:\n",
    "        user_Album['Track'] = num_tracks\n",
    "\n",
    "    return user_Album\n",
    "    "
   ]
  },
  {
   "cell_type": "code",
   "execution_count": 20,
   "id": "4a1818f2",
   "metadata": {},
   "outputs": [
    {
     "data": {
      "text/plain": [
       "{'Artist': 'Mehfooz', 'Title': 'Python', 'Track': 3}"
      ]
     },
     "execution_count": 20,
     "metadata": {},
     "output_type": "execute_result"
    }
   ],
   "source": [
    "make_album(\"Mehfooz\", \"Python\", 3)"
   ]
  },
  {
   "cell_type": "code",
   "execution_count": 21,
   "id": "e99dbcdb",
   "metadata": {},
   "outputs": [],
   "source": [
    "a = [1,2,3,4]"
   ]
  },
  {
   "cell_type": "code",
   "execution_count": 25,
   "id": "8ee25d73",
   "metadata": {},
   "outputs": [
    {
     "name": "stdout",
     "output_type": "stream",
     "text": [
      "1\n"
     ]
    },
    {
     "ename": "AttributeError",
     "evalue": "'int' object has no attribute 'pop'",
     "output_type": "error",
     "traceback": [
      "\u001b[1;31m---------------------------------------------------------------------------\u001b[0m",
      "\u001b[1;31mAttributeError\u001b[0m                            Traceback (most recent call last)",
      "\u001b[1;32m~\\AppData\\Local\\Temp/ipykernel_15044/1604543768.py\u001b[0m in \u001b[0;36m<module>\u001b[1;34m\u001b[0m\n\u001b[0;32m      2\u001b[0m     \u001b[1;32mif\u001b[0m \u001b[0ma\u001b[0m\u001b[1;33m:\u001b[0m\u001b[1;33m\u001b[0m\u001b[1;33m\u001b[0m\u001b[0m\n\u001b[0;32m      3\u001b[0m         \u001b[0mprint\u001b[0m\u001b[1;33m(\u001b[0m\u001b[0ma\u001b[0m\u001b[1;33m)\u001b[0m\u001b[1;33m\u001b[0m\u001b[1;33m\u001b[0m\u001b[0m\n\u001b[1;32m----> 4\u001b[1;33m         \u001b[0ma\u001b[0m\u001b[1;33m.\u001b[0m\u001b[0mpop\u001b[0m\u001b[1;33m(\u001b[0m\u001b[1;33m)\u001b[0m\u001b[1;33m\u001b[0m\u001b[1;33m\u001b[0m\u001b[0m\n\u001b[0m",
      "\u001b[1;31mAttributeError\u001b[0m: 'int' object has no attribute 'pop'"
     ]
    }
   ],
   "source": [
    "for a in a:\n",
    "    if a:\n",
    "        print(a)\n",
    "        a.pop()"
   ]
  },
  {
   "cell_type": "markdown",
   "id": "282be13e",
   "metadata": {},
   "source": [
    "# Modules"
   ]
  },
  {
   "cell_type": "code",
   "execution_count": 26,
   "id": "02d26be9",
   "metadata": {},
   "outputs": [],
   "source": [
    "import math"
   ]
  },
  {
   "cell_type": "code",
   "execution_count": 27,
   "id": "47860e92",
   "metadata": {},
   "outputs": [],
   "source": [
    "import string"
   ]
  },
  {
   "cell_type": "code",
   "execution_count": 28,
   "id": "854c5626",
   "metadata": {},
   "outputs": [
    {
     "ename": "SyntaxError",
     "evalue": "invalid syntax (Temp/ipykernel_15044/1280888391.py, line 1)",
     "output_type": "error",
     "traceback": [
      "\u001b[1;36m  File \u001b[1;32m\"C:\\Users\\user\\AppData\\Local\\Temp/ipykernel_15044/1280888391.py\"\u001b[1;36m, line \u001b[1;32m1\u001b[0m\n\u001b[1;33m    string.\u001b[0m\n\u001b[1;37m           ^\u001b[0m\n\u001b[1;31mSyntaxError\u001b[0m\u001b[1;31m:\u001b[0m invalid syntax\n"
     ]
    }
   ],
   "source": [
    "string."
   ]
  },
  {
   "cell_type": "code",
   "execution_count": 29,
   "id": "1a87df68",
   "metadata": {},
   "outputs": [],
   "source": [
    "import mymodule"
   ]
  },
  {
   "cell_type": "code",
   "execution_count": 30,
   "id": "2ad38260",
   "metadata": {},
   "outputs": [
    {
     "data": {
      "text/plain": [
       "<function mymodule.build_profile(first, last, **user_info)>"
      ]
     },
     "execution_count": 30,
     "metadata": {},
     "output_type": "execute_result"
    }
   ],
   "source": [
    "mymodule.build_profile"
   ]
  },
  {
   "cell_type": "code",
   "execution_count": 32,
   "id": "465cc205",
   "metadata": {},
   "outputs": [
    {
     "data": {
      "text/plain": [
       "{'first_name': 'Mehfooz', 'last_name': 'Ali', 'course': 'Python Programmer'}"
      ]
     },
     "execution_count": 32,
     "metadata": {},
     "output_type": "execute_result"
    }
   ],
   "source": [
    "mymodule.build_profile(\"Mehfooz\", \"Ali\", course = \"Python Programmer\")"
   ]
  },
  {
   "cell_type": "code",
   "execution_count": null,
   "id": "81c6d84c",
   "metadata": {},
   "outputs": [],
   "source": [
    "# %load mymodule\n",
    "def make_album(art_name, al_title, num_tracks=None):\n",
    "    \"\"\" This function is two single paramter and 3rd one with Dictionaries.\"\"\"\n",
    "    user_Album = {}\n",
    "    user_Album['Artist'] = art_name\n",
    "    user_Album['Title'] = al_title\n",
    "    \n",
    "    if num_tracks:\n",
    "        user_Album['Track'] = num_tracks\n",
    "\n",
    "    return user_Album\n",
    "\n",
    "\n",
    "def build_profile(first, last, **user_info): #** Dictionary ban jayegi #first, last = positional paramter\n",
    "    profile = {}\n",
    "    profile['first_name'] = first\n",
    "    profile['last_name'] = last\n",
    "    \n",
    "    for key, value in user_info.items():\n",
    "        profile[key] = value\n",
    "    \n",
    "    return profile\n",
    "\n",
    "    "
   ]
  },
  {
   "cell_type": "code",
   "execution_count": 34,
   "id": "7163b202",
   "metadata": {},
   "outputs": [],
   "source": [
    "%run mymodule"
   ]
  },
  {
   "cell_type": "code",
   "execution_count": 35,
   "id": "5d410b7d",
   "metadata": {},
   "outputs": [
    {
     "ename": "TypeError",
     "evalue": "('math is neither a string nor a macro.', <module 'math' (built-in)>)",
     "output_type": "error",
     "traceback": [
      "\u001b[1;31m---------------------------------------------------------------------------\u001b[0m",
      "\u001b[1;31mTypeError\u001b[0m                                 Traceback (most recent call last)",
      "\u001b[1;32m~\\AppData\\Local\\Temp/ipykernel_15044/2476396960.py\u001b[0m in \u001b[0;36m<module>\u001b[1;34m\u001b[0m\n\u001b[1;32m----> 1\u001b[1;33m \u001b[0mget_ipython\u001b[0m\u001b[1;33m(\u001b[0m\u001b[1;33m)\u001b[0m\u001b[1;33m.\u001b[0m\u001b[0mrun_line_magic\u001b[0m\u001b[1;33m(\u001b[0m\u001b[1;34m'load'\u001b[0m\u001b[1;33m,\u001b[0m \u001b[1;34m'math'\u001b[0m\u001b[1;33m)\u001b[0m\u001b[1;33m\u001b[0m\u001b[1;33m\u001b[0m\u001b[0m\n\u001b[0m",
      "\u001b[1;32m~\\anaconda3\\lib\\site-packages\\IPython\\core\\interactiveshell.py\u001b[0m in \u001b[0;36mrun_line_magic\u001b[1;34m(self, magic_name, line, _stack_depth)\u001b[0m\n\u001b[0;32m   2349\u001b[0m                 \u001b[0mkwargs\u001b[0m\u001b[1;33m[\u001b[0m\u001b[1;34m'local_ns'\u001b[0m\u001b[1;33m]\u001b[0m \u001b[1;33m=\u001b[0m \u001b[0mself\u001b[0m\u001b[1;33m.\u001b[0m\u001b[0mget_local_scope\u001b[0m\u001b[1;33m(\u001b[0m\u001b[0mstack_depth\u001b[0m\u001b[1;33m)\u001b[0m\u001b[1;33m\u001b[0m\u001b[1;33m\u001b[0m\u001b[0m\n\u001b[0;32m   2350\u001b[0m             \u001b[1;32mwith\u001b[0m \u001b[0mself\u001b[0m\u001b[1;33m.\u001b[0m\u001b[0mbuiltin_trap\u001b[0m\u001b[1;33m:\u001b[0m\u001b[1;33m\u001b[0m\u001b[1;33m\u001b[0m\u001b[0m\n\u001b[1;32m-> 2351\u001b[1;33m                 \u001b[0mresult\u001b[0m \u001b[1;33m=\u001b[0m \u001b[0mfn\u001b[0m\u001b[1;33m(\u001b[0m\u001b[1;33m*\u001b[0m\u001b[0margs\u001b[0m\u001b[1;33m,\u001b[0m \u001b[1;33m**\u001b[0m\u001b[0mkwargs\u001b[0m\u001b[1;33m)\u001b[0m\u001b[1;33m\u001b[0m\u001b[1;33m\u001b[0m\u001b[0m\n\u001b[0m\u001b[0;32m   2352\u001b[0m             \u001b[1;32mreturn\u001b[0m \u001b[0mresult\u001b[0m\u001b[1;33m\u001b[0m\u001b[1;33m\u001b[0m\u001b[0m\n\u001b[0;32m   2353\u001b[0m \u001b[1;33m\u001b[0m\u001b[0m\n",
      "\u001b[1;32m~\\anaconda3\\lib\\site-packages\\decorator.py\u001b[0m in \u001b[0;36mfun\u001b[1;34m(*args, **kw)\u001b[0m\n\u001b[0;32m    230\u001b[0m             \u001b[1;32mif\u001b[0m \u001b[1;32mnot\u001b[0m \u001b[0mkwsyntax\u001b[0m\u001b[1;33m:\u001b[0m\u001b[1;33m\u001b[0m\u001b[1;33m\u001b[0m\u001b[0m\n\u001b[0;32m    231\u001b[0m                 \u001b[0margs\u001b[0m\u001b[1;33m,\u001b[0m \u001b[0mkw\u001b[0m \u001b[1;33m=\u001b[0m \u001b[0mfix\u001b[0m\u001b[1;33m(\u001b[0m\u001b[0margs\u001b[0m\u001b[1;33m,\u001b[0m \u001b[0mkw\u001b[0m\u001b[1;33m,\u001b[0m \u001b[0msig\u001b[0m\u001b[1;33m)\u001b[0m\u001b[1;33m\u001b[0m\u001b[1;33m\u001b[0m\u001b[0m\n\u001b[1;32m--> 232\u001b[1;33m             \u001b[1;32mreturn\u001b[0m \u001b[0mcaller\u001b[0m\u001b[1;33m(\u001b[0m\u001b[0mfunc\u001b[0m\u001b[1;33m,\u001b[0m \u001b[1;33m*\u001b[0m\u001b[1;33m(\u001b[0m\u001b[0mextras\u001b[0m \u001b[1;33m+\u001b[0m \u001b[0margs\u001b[0m\u001b[1;33m)\u001b[0m\u001b[1;33m,\u001b[0m \u001b[1;33m**\u001b[0m\u001b[0mkw\u001b[0m\u001b[1;33m)\u001b[0m\u001b[1;33m\u001b[0m\u001b[1;33m\u001b[0m\u001b[0m\n\u001b[0m\u001b[0;32m    233\u001b[0m     \u001b[0mfun\u001b[0m\u001b[1;33m.\u001b[0m\u001b[0m__name__\u001b[0m \u001b[1;33m=\u001b[0m \u001b[0mfunc\u001b[0m\u001b[1;33m.\u001b[0m\u001b[0m__name__\u001b[0m\u001b[1;33m\u001b[0m\u001b[1;33m\u001b[0m\u001b[0m\n\u001b[0;32m    234\u001b[0m     \u001b[0mfun\u001b[0m\u001b[1;33m.\u001b[0m\u001b[0m__doc__\u001b[0m \u001b[1;33m=\u001b[0m \u001b[0mfunc\u001b[0m\u001b[1;33m.\u001b[0m\u001b[0m__doc__\u001b[0m\u001b[1;33m\u001b[0m\u001b[1;33m\u001b[0m\u001b[0m\n",
      "\u001b[1;32m~\\anaconda3\\lib\\site-packages\\IPython\\core\\magic.py\u001b[0m in \u001b[0;36m<lambda>\u001b[1;34m(f, *a, **k)\u001b[0m\n\u001b[0;32m    185\u001b[0m     \u001b[1;31m# but it's overkill for just that one bit of state.\u001b[0m\u001b[1;33m\u001b[0m\u001b[1;33m\u001b[0m\u001b[0m\n\u001b[0;32m    186\u001b[0m     \u001b[1;32mdef\u001b[0m \u001b[0mmagic_deco\u001b[0m\u001b[1;33m(\u001b[0m\u001b[0marg\u001b[0m\u001b[1;33m)\u001b[0m\u001b[1;33m:\u001b[0m\u001b[1;33m\u001b[0m\u001b[1;33m\u001b[0m\u001b[0m\n\u001b[1;32m--> 187\u001b[1;33m         \u001b[0mcall\u001b[0m \u001b[1;33m=\u001b[0m \u001b[1;32mlambda\u001b[0m \u001b[0mf\u001b[0m\u001b[1;33m,\u001b[0m \u001b[1;33m*\u001b[0m\u001b[0ma\u001b[0m\u001b[1;33m,\u001b[0m \u001b[1;33m**\u001b[0m\u001b[0mk\u001b[0m\u001b[1;33m:\u001b[0m \u001b[0mf\u001b[0m\u001b[1;33m(\u001b[0m\u001b[1;33m*\u001b[0m\u001b[0ma\u001b[0m\u001b[1;33m,\u001b[0m \u001b[1;33m**\u001b[0m\u001b[0mk\u001b[0m\u001b[1;33m)\u001b[0m\u001b[1;33m\u001b[0m\u001b[1;33m\u001b[0m\u001b[0m\n\u001b[0m\u001b[0;32m    188\u001b[0m \u001b[1;33m\u001b[0m\u001b[0m\n\u001b[0;32m    189\u001b[0m         \u001b[1;32mif\u001b[0m \u001b[0mcallable\u001b[0m\u001b[1;33m(\u001b[0m\u001b[0marg\u001b[0m\u001b[1;33m)\u001b[0m\u001b[1;33m:\u001b[0m\u001b[1;33m\u001b[0m\u001b[1;33m\u001b[0m\u001b[0m\n",
      "\u001b[1;32m~\\anaconda3\\lib\\site-packages\\IPython\\core\\magics\\code.py\u001b[0m in \u001b[0;36mload\u001b[1;34m(self, arg_s)\u001b[0m\n\u001b[0;32m    351\u001b[0m         \u001b[0msearch_ns\u001b[0m \u001b[1;33m=\u001b[0m \u001b[1;34m'n'\u001b[0m \u001b[1;32min\u001b[0m \u001b[0mopts\u001b[0m\u001b[1;33m\u001b[0m\u001b[1;33m\u001b[0m\u001b[0m\n\u001b[0;32m    352\u001b[0m \u001b[1;33m\u001b[0m\u001b[0m\n\u001b[1;32m--> 353\u001b[1;33m         \u001b[0mcontents\u001b[0m \u001b[1;33m=\u001b[0m \u001b[0mself\u001b[0m\u001b[1;33m.\u001b[0m\u001b[0mshell\u001b[0m\u001b[1;33m.\u001b[0m\u001b[0mfind_user_code\u001b[0m\u001b[1;33m(\u001b[0m\u001b[0margs\u001b[0m\u001b[1;33m,\u001b[0m \u001b[0msearch_ns\u001b[0m\u001b[1;33m=\u001b[0m\u001b[0msearch_ns\u001b[0m\u001b[1;33m)\u001b[0m\u001b[1;33m\u001b[0m\u001b[1;33m\u001b[0m\u001b[0m\n\u001b[0m\u001b[0;32m    354\u001b[0m \u001b[1;33m\u001b[0m\u001b[0m\n\u001b[0;32m    355\u001b[0m         \u001b[1;32mif\u001b[0m \u001b[1;34m's'\u001b[0m \u001b[1;32min\u001b[0m \u001b[0mopts\u001b[0m\u001b[1;33m:\u001b[0m\u001b[1;33m\u001b[0m\u001b[1;33m\u001b[0m\u001b[0m\n",
      "\u001b[1;32m~\\anaconda3\\lib\\site-packages\\IPython\\core\\interactiveshell.py\u001b[0m in \u001b[0;36mfind_user_code\u001b[1;34m(self, target, raw, py_only, skip_encoding_cookie, search_ns)\u001b[0m\n\u001b[0;32m   3772\u001b[0m             \u001b[1;32mreturn\u001b[0m \u001b[0mcodeobj\u001b[0m\u001b[1;33m.\u001b[0m\u001b[0mvalue\u001b[0m\u001b[1;33m\u001b[0m\u001b[1;33m\u001b[0m\u001b[0m\n\u001b[0;32m   3773\u001b[0m \u001b[1;33m\u001b[0m\u001b[0m\n\u001b[1;32m-> 3774\u001b[1;33m         raise TypeError(\"%s is neither a string nor a macro.\" % target,\n\u001b[0m\u001b[0;32m   3775\u001b[0m                         codeobj)\n\u001b[0;32m   3776\u001b[0m \u001b[1;33m\u001b[0m\u001b[0m\n",
      "\u001b[1;31mTypeError\u001b[0m: ('math is neither a string nor a macro.', <module 'math' (built-in)>)"
     ]
    }
   ],
   "source": [
    "%load math"
   ]
  },
  {
   "cell_type": "code",
   "execution_count": 37,
   "id": "fb3cb677",
   "metadata": {},
   "outputs": [],
   "source": [
    "import mymodule"
   ]
  },
  {
   "cell_type": "code",
   "execution_count": 67,
   "id": "5095cdb1",
   "metadata": {},
   "outputs": [],
   "source": [
    "def userTable(val1):\n",
    "    tableList = []\n",
    "    \n",
    "    for a in range(1,11):\n",
    "        for num in range(1,11):       \n",
    "            product = 1\n",
    "            table1 = num*val1\n",
    "            tableList.append(table1)\n",
    "        return tableList"
   ]
  },
  {
   "cell_type": "code",
   "execution_count": 68,
   "id": "1bc22628",
   "metadata": {},
   "outputs": [
    {
     "data": {
      "text/plain": [
       "[3, 6, 9, 12, 15, 18, 21, 24, 27, 30]"
      ]
     },
     "execution_count": 68,
     "metadata": {},
     "output_type": "execute_result"
    }
   ],
   "source": [
    "userTable(3)"
   ]
  },
  {
   "cell_type": "code",
   "execution_count": 69,
   "id": "9a5608b1",
   "metadata": {},
   "outputs": [],
   "source": [
    "from mymodule import build_profile"
   ]
  },
  {
   "cell_type": "code",
   "execution_count": 70,
   "id": "9dc6843f",
   "metadata": {},
   "outputs": [
    {
     "data": {
      "text/plain": [
       "{'first_name': 'Mehfooz', 'last_name': 'Ali', 'Course': 'Python Programming'}"
      ]
     },
     "execution_count": 70,
     "metadata": {},
     "output_type": "execute_result"
    }
   ],
   "source": [
    "build_profile(\"Mehfooz\", \"Ali\", Course=\"Python Programming\")"
   ]
  },
  {
   "cell_type": "code",
   "execution_count": null,
   "id": "126cfd1d",
   "metadata": {},
   "outputs": [],
   "source": []
  }
 ],
 "metadata": {
  "kernelspec": {
   "display_name": "Python 3 (ipykernel)",
   "language": "python",
   "name": "python3"
  },
  "language_info": {
   "codemirror_mode": {
    "name": "ipython",
    "version": 3
   },
   "file_extension": ".py",
   "mimetype": "text/x-python",
   "name": "python",
   "nbconvert_exporter": "python",
   "pygments_lexer": "ipython3",
   "version": "3.9.7"
  }
 },
 "nbformat": 4,
 "nbformat_minor": 5
}
