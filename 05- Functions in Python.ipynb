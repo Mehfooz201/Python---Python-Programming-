{
 "cells": [
  {
   "cell_type": "markdown",
   "id": "518963ec",
   "metadata": {},
   "source": [
    "# Function"
   ]
  },
  {
   "cell_type": "markdown",
   "id": "5453bf81",
   "metadata": {},
   "source": [
    "- Reuseability\n",
    "- Call Function\n",
    "- We use function at different point."
   ]
  },
  {
   "cell_type": "code",
   "execution_count": 7,
   "id": "fe7c2cbf",
   "metadata": {},
   "outputs": [],
   "source": [
    "#Steps\n",
    "# definition - define the function\n",
    "# call - Call the function\n",
    "# result - Result of funciton\n",
    "\n",
    "\n",
    "def nameUpper():\n",
    "    \"\"\"this functions takes input and return the string in uppercase\"\"\"\n",
    "    userName = input(\"Please Tell me your good name !\")\n",
    "    username = userName.upper()\n",
    "    print(username)\n",
    "    "
   ]
  },
  {
   "cell_type": "code",
   "execution_count": 6,
   "id": "9e3a4c18",
   "metadata": {},
   "outputs": [
    {
     "data": {
      "text/plain": [
       "<function __main__.nameUpper()>"
      ]
     },
     "execution_count": 6,
     "metadata": {},
     "output_type": "execute_result"
    }
   ],
   "source": [
    "nameUpper #Function soya rehta he isko call krna prta he"
   ]
  },
  {
   "cell_type": "code",
   "execution_count": 5,
   "id": "3efd228c",
   "metadata": {},
   "outputs": [
    {
     "name": "stdout",
     "output_type": "stream",
     "text": [
      "Please Tell me your good name !mehfooz\n",
      "MEHFOOZ\n"
     ]
    }
   ],
   "source": [
    "nameUpper()"
   ]
  },
  {
   "cell_type": "code",
   "execution_count": 13,
   "id": "cc854372",
   "metadata": {},
   "outputs": [],
   "source": [
    "def calcSqaure(val): #val => is parametr function\n",
    "    sq = val**2 #a*a\n",
    "    print(sq)"
   ]
  },
  {
   "cell_type": "code",
   "execution_count": 16,
   "id": "506ccfd3",
   "metadata": {},
   "outputs": [
    {
     "name": "stdout",
     "output_type": "stream",
     "text": [
      "10000\n"
     ]
    }
   ],
   "source": [
    "calcSqaure(100) #Arguments"
   ]
  },
  {
   "cell_type": "code",
   "execution_count": 17,
   "id": "7b2f7fdd",
   "metadata": {},
   "outputs": [
    {
     "name": "stdout",
     "output_type": "stream",
     "text": [
      "25\n"
     ]
    }
   ],
   "source": [
    "#parameters\n",
    "#arguments\n",
    "\n",
    "#parameter less function is runtime without user input\n",
    "#parameter funtion hmari marzi k mutabik result dega depend un number\n",
    "\n",
    "calcSqaure(5) #Arguments"
   ]
  },
  {
   "cell_type": "code",
   "execution_count": 18,
   "id": "129d9559",
   "metadata": {},
   "outputs": [
    {
     "ename": "TypeError",
     "evalue": "unsupported operand type(s) for ** or pow(): 'str' and 'int'",
     "output_type": "error",
     "traceback": [
      "\u001b[1;31m---------------------------------------------------------------------------\u001b[0m",
      "\u001b[1;31mTypeError\u001b[0m                                 Traceback (most recent call last)",
      "\u001b[1;32m~\\AppData\\Local\\Temp/ipykernel_5052/1815663170.py\u001b[0m in \u001b[0;36m<module>\u001b[1;34m\u001b[0m\n\u001b[0;32m      1\u001b[0m \u001b[1;31m#Code Testing\u001b[0m\u001b[1;33m\u001b[0m\u001b[1;33m\u001b[0m\u001b[0m\n\u001b[1;32m----> 2\u001b[1;33m \u001b[0mcalcSqaure\u001b[0m\u001b[1;33m(\u001b[0m\u001b[1;34m\"hello\"\u001b[0m\u001b[1;33m)\u001b[0m \u001b[1;31m#Arguments\u001b[0m\u001b[1;33m\u001b[0m\u001b[1;33m\u001b[0m\u001b[0m\n\u001b[0m",
      "\u001b[1;32m~\\AppData\\Local\\Temp/ipykernel_5052/1568677913.py\u001b[0m in \u001b[0;36mcalcSqaure\u001b[1;34m(val)\u001b[0m\n\u001b[0;32m      1\u001b[0m \u001b[1;32mdef\u001b[0m \u001b[0mcalcSqaure\u001b[0m\u001b[1;33m(\u001b[0m\u001b[0mval\u001b[0m\u001b[1;33m)\u001b[0m\u001b[1;33m:\u001b[0m \u001b[1;31m#val => is parametr function\u001b[0m\u001b[1;33m\u001b[0m\u001b[1;33m\u001b[0m\u001b[0m\n\u001b[1;32m----> 2\u001b[1;33m     \u001b[0msq\u001b[0m \u001b[1;33m=\u001b[0m \u001b[0mval\u001b[0m\u001b[1;33m**\u001b[0m\u001b[1;36m2\u001b[0m \u001b[1;31m#a*a\u001b[0m\u001b[1;33m\u001b[0m\u001b[1;33m\u001b[0m\u001b[0m\n\u001b[0m\u001b[0;32m      3\u001b[0m     \u001b[0mprint\u001b[0m\u001b[1;33m(\u001b[0m\u001b[0msq\u001b[0m\u001b[1;33m)\u001b[0m\u001b[1;33m\u001b[0m\u001b[1;33m\u001b[0m\u001b[0m\n",
      "\u001b[1;31mTypeError\u001b[0m: unsupported operand type(s) for ** or pow(): 'str' and 'int'"
     ]
    }
   ],
   "source": [
    "#Code Testing\n",
    "\n",
    "#Argument is valid but funciontality is not supporitng the argument.\n",
    "calcSqaure(\"hello\") "
   ]
  },
  {
   "cell_type": "code",
   "execution_count": 19,
   "id": "d3c557b1",
   "metadata": {},
   "outputs": [
    {
     "name": "stdout",
     "output_type": "stream",
     "text": [
      "36\n"
     ]
    }
   ],
   "source": [
    "calcSqaure(6) "
   ]
  },
  {
   "cell_type": "code",
   "execution_count": 25,
   "id": "33b33f20",
   "metadata": {},
   "outputs": [],
   "source": [
    "#Local variable - use in inner funciton, In the domain of the function\n",
    "#Global Variable - user in outer function. Global Function, it will use in anywhere\n",
    "\n",
    "num = 10 #Global Function\n",
    "def calcSqaure(val):\n",
    "    global sq\n",
    "    sq = val**2 #a*a #Local Variable\n"
   ]
  },
  {
   "cell_type": "code",
   "execution_count": 27,
   "id": "431c8649",
   "metadata": {},
   "outputs": [
    {
     "name": "stdout",
     "output_type": "stream",
     "text": [
      "10000\n"
     ]
    }
   ],
   "source": [
    "#First method to print the value\n",
    "            \n",
    "calcSqaure(100) \n",
    "print(sq)"
   ]
  },
  {
   "cell_type": "markdown",
   "id": "0dd86b40",
   "metadata": {},
   "source": [
    "# How to get result/value back fron function"
   ]
  },
  {
   "cell_type": "code",
   "execution_count": 29,
   "id": "d5d82bf3",
   "metadata": {},
   "outputs": [],
   "source": [
    "#If we want to recover we use return keyword\n",
    "    #-Global\n",
    "    #-Return\n",
    "\n",
    "def calcSqaure(val):\n",
    "    s = val**2\n",
    "     "
   ]
  },
  {
   "cell_type": "code",
   "execution_count": 30,
   "id": "debc8c55",
   "metadata": {},
   "outputs": [
    {
     "name": "stdout",
     "output_type": "stream",
     "text": [
      "None\n"
     ]
    }
   ],
   "source": [
    "print(calcSqaure(5)) #None- without keyword "
   ]
  },
  {
   "cell_type": "code",
   "execution_count": 31,
   "id": "1f119e33",
   "metadata": {},
   "outputs": [],
   "source": [
    "#If we want to recover we use return keyword\n",
    "    #-Global\n",
    "    #-Return\n",
    "\n",
    "def calcSqaure(val):\n",
    "    square = val**2\n",
    "    return square #save and return the value\n",
    "    print(\"I am after return\") #it will not run because above return given - wahan se value save ho kr wapas jayegi"
   ]
  },
  {
   "cell_type": "code",
   "execution_count": 33,
   "id": "b1e715de",
   "metadata": {},
   "outputs": [
    {
     "data": {
      "text/plain": [
       "9"
      ]
     },
     "execution_count": 33,
     "metadata": {},
     "output_type": "execute_result"
    }
   ],
   "source": [
    "calcSqaure(3)"
   ]
  },
  {
   "cell_type": "code",
   "execution_count": 34,
   "id": "ee767e94",
   "metadata": {},
   "outputs": [],
   "source": [
    "result = calcSqaure(3)"
   ]
  },
  {
   "cell_type": "code",
   "execution_count": 35,
   "id": "f6db35fb",
   "metadata": {},
   "outputs": [
    {
     "name": "stdout",
     "output_type": "stream",
     "text": [
      "9\n"
     ]
    }
   ],
   "source": [
    "print(result)"
   ]
  },
  {
   "cell_type": "code",
   "execution_count": 42,
   "id": "b9111edb",
   "metadata": {},
   "outputs": [],
   "source": [
    "def areaTriangle(l, h):\n",
    "    area = l*h*0.5\n",
    "    return area, l, h #Three value will be return #Store in tuple form\n",
    "    "
   ]
  },
  {
   "cell_type": "code",
   "execution_count": 44,
   "id": "17b34d04",
   "metadata": {},
   "outputs": [
    {
     "data": {
      "text/plain": [
       "(15.0, 5, 6)"
      ]
     },
     "execution_count": 44,
     "metadata": {},
     "output_type": "execute_result"
    }
   ],
   "source": [
    "areaTriangle(5, 6)"
   ]
  },
  {
   "cell_type": "code",
   "execution_count": 93,
   "id": "bae8cf07",
   "metadata": {},
   "outputs": [
    {
     "data": {
      "text/plain": [
       "(15.0, 6, 5)"
      ]
     },
     "execution_count": 93,
     "metadata": {},
     "output_type": "execute_result"
    }
   ],
   "source": [
    "areaTriangle(h=5, l=6)"
   ]
  },
  {
   "cell_type": "code",
   "execution_count": 45,
   "id": "551ae44d",
   "metadata": {},
   "outputs": [],
   "source": [
    "area,l,h = areaTriangle(5, 6)"
   ]
  },
  {
   "cell_type": "code",
   "execution_count": 48,
   "id": "51349d30",
   "metadata": {},
   "outputs": [
    {
     "name": "stdout",
     "output_type": "stream",
     "text": [
      "15.0\n",
      "5\n",
      "6\n"
     ]
    }
   ],
   "source": [
    "print(area)\n",
    "print(l)\n",
    "print(h)"
   ]
  },
  {
   "cell_type": "code",
   "execution_count": 49,
   "id": "ba5463cf",
   "metadata": {},
   "outputs": [],
   "source": [
    "def ageCal(name, age):\n",
    "    return name, age"
   ]
  },
  {
   "cell_type": "code",
   "execution_count": 50,
   "id": "cf44c2e6",
   "metadata": {},
   "outputs": [
    {
     "data": {
      "text/plain": [
       "('Mehfooz Ali', 21)"
      ]
     },
     "execution_count": 50,
     "metadata": {},
     "output_type": "execute_result"
    }
   ],
   "source": [
    "ageCal(\"Mehfooz Ali\", 21)"
   ]
  },
  {
   "cell_type": "code",
   "execution_count": 53,
   "id": "bddee91a",
   "metadata": {},
   "outputs": [],
   "source": [
    "def sumCal(sum1, sum2):\n",
    "    sumTotal = sum1+sum2\n",
    "    return sumTotal, sum1, sum2"
   ]
  },
  {
   "cell_type": "code",
   "execution_count": 63,
   "id": "b857745c",
   "metadata": {},
   "outputs": [],
   "source": [
    "sumTotal,sum1,sum2 = sumCal(5, 10)\n"
   ]
  },
  {
   "cell_type": "code",
   "execution_count": 64,
   "id": "e0e637ee",
   "metadata": {},
   "outputs": [
    {
     "name": "stdout",
     "output_type": "stream",
     "text": [
      "First No. 15 and Second No. 5 after adding these two number Addition 10\n"
     ]
    }
   ],
   "source": [
    "print(f\"First No. {sum1} and Second No. {sum2} after adding these two number Addition {sumTotal}\")"
   ]
  },
  {
   "cell_type": "code",
   "execution_count": 86,
   "id": "e55c2ea8",
   "metadata": {},
   "outputs": [],
   "source": [
    "def perCal(sub1, sub2, sub3, sub4, sub5):\n",
    "    totalMarks = 500\n",
    "    totalObt = sub1+sub2+sub3+sub4+sub5\n",
    "    percentage = totalObt/totalMarks*100\n",
    "        \n",
    "    return totalObt, totalMarks, percentage "
   ]
  },
  {
   "cell_type": "code",
   "execution_count": 87,
   "id": "69968cd0",
   "metadata": {},
   "outputs": [],
   "source": [
    "percentage = perCal(90, 73, 80, 60, 92)"
   ]
  },
  {
   "cell_type": "code",
   "execution_count": 88,
   "id": "69904a54",
   "metadata": {},
   "outputs": [
    {
     "data": {
      "text/plain": [
       "(395, 500, 79.0)"
      ]
     },
     "execution_count": 88,
     "metadata": {},
     "output_type": "execute_result"
    }
   ],
   "source": [
    "percentage"
   ]
  },
  {
   "cell_type": "code",
   "execution_count": 89,
   "id": "62aabd41",
   "metadata": {},
   "outputs": [],
   "source": [
    "totalObt, totalMarks, percentage =  perCal(90, 73, 80, 60, 92)"
   ]
  },
  {
   "cell_type": "code",
   "execution_count": 92,
   "id": "335b12e7",
   "metadata": {},
   "outputs": [
    {
     "name": "stdout",
     "output_type": "stream",
     "text": [
      "Dear, your otained marks 395 out of 500\n",
      "Your Percentage is : 79.0%\n"
     ]
    }
   ],
   "source": [
    "print(f\"Dear, your otained marks {totalObt} out of {totalMarks}\\nYour Percentage is : {percentage}%\")"
   ]
  },
  {
   "cell_type": "markdown",
   "id": "e69c9c51",
   "metadata": {},
   "source": [
    "# Default parameters"
   ]
  },
  {
   "cell_type": "markdown",
   "id": "78b5b575",
   "metadata": {},
   "source": [
    "Default parameters cannot be in the middle or in the first\n",
    "It will always in the end 0r last"
   ]
  },
  {
   "cell_type": "code",
   "execution_count": 94,
   "id": "948ab09a",
   "metadata": {},
   "outputs": [
    {
     "name": "stdout",
     "output_type": "stream",
     "text": [
      "Pakistan\n"
     ]
    }
   ],
   "source": [
    "print(\"Pakistan\")"
   ]
  },
  {
   "cell_type": "code",
   "execution_count": 104,
   "id": "549e42da",
   "metadata": {},
   "outputs": [],
   "source": [
    "def salCal(basic, allowances, perBonus=0): #perBonus=\"\" or none <= Default  \n",
    "    gross = basic + allowances + perBonus\n",
    "    return gross"
   ]
  },
  {
   "cell_type": "code",
   "execution_count": 105,
   "id": "9ba4627e",
   "metadata": {},
   "outputs": [
    {
     "data": {
      "text/plain": [
       "62000"
      ]
     },
     "execution_count": 105,
     "metadata": {},
     "output_type": "execute_result"
    }
   ],
   "source": [
    "salCal(50000, 12000) #Default third we are not using because be default its 0"
   ]
  },
  {
   "cell_type": "code",
   "execution_count": 106,
   "id": "c02bafe9",
   "metadata": {},
   "outputs": [
    {
     "data": {
      "text/plain": [
       "67000"
      ]
     },
     "execution_count": 106,
     "metadata": {},
     "output_type": "execute_result"
    }
   ],
   "source": [
    "salCal(50000, 12000, 5000)"
   ]
  },
  {
   "cell_type": "code",
   "execution_count": null,
   "id": "695b0115",
   "metadata": {},
   "outputs": [],
   "source": []
  }
 ],
 "metadata": {
  "kernelspec": {
   "display_name": "Python 3 (ipykernel)",
   "language": "python",
   "name": "python3"
  },
  "language_info": {
   "codemirror_mode": {
    "name": "ipython",
    "version": 3
   },
   "file_extension": ".py",
   "mimetype": "text/x-python",
   "name": "python",
   "nbconvert_exporter": "python",
   "pygments_lexer": "ipython3",
   "version": "3.9.7"
  }
 },
 "nbformat": 4,
 "nbformat_minor": 5
}
