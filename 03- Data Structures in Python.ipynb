{
 "cells": [
  {
   "cell_type": "markdown",
   "id": "079d32ca",
   "metadata": {},
   "source": [
    "# Data Structure in Python"
   ]
  },
  {
   "cell_type": "markdown",
   "id": "e34741c6",
   "metadata": {},
   "source": [
    "#Data Structure\n",
    "- List  => Square Brackets []\n",
    "    update, delete, add, or change the list \n",
    "- Set\n",
    "- Tuple\n",
    "- Dictionary"
   ]
  },
  {
   "cell_type": "code",
   "execution_count": 2,
   "id": "f21f67e4",
   "metadata": {},
   "outputs": [],
   "source": [
    "students = [] #square Brackets\n",
    "#List Declare and initilize"
   ]
  },
  {
   "cell_type": "code",
   "execution_count": 3,
   "id": "ece84797",
   "metadata": {},
   "outputs": [
    {
     "name": "stdout",
     "output_type": "stream",
     "text": [
      "<class 'list'>\n"
     ]
    }
   ],
   "source": [
    "print(type(students))"
   ]
  },
  {
   "cell_type": "code",
   "execution_count": 4,
   "id": "72012ede",
   "metadata": {},
   "outputs": [
    {
     "data": {
      "text/plain": [
       "0"
      ]
     },
     "execution_count": 4,
     "metadata": {},
     "output_type": "execute_result"
    }
   ],
   "source": [
    "len(students)"
   ]
  },
  {
   "cell_type": "code",
   "execution_count": 5,
   "id": "2d51ab89",
   "metadata": {},
   "outputs": [],
   "source": [
    "#              -4     -3       -2        -1 (Right to Left)\n",
    "students = [\"Asad\", \"Ali\", \"Mehfooz\", \"Hassan\"] #newlist and Overriding\n",
    "           #  0        1       2          3\n"
   ]
  },
  {
   "cell_type": "code",
   "execution_count": 6,
   "id": "ba26c593",
   "metadata": {},
   "outputs": [
    {
     "name": "stdout",
     "output_type": "stream",
     "text": [
      "Mehfooz\n"
     ]
    }
   ],
   "source": [
    "print(students[2])"
   ]
  },
  {
   "cell_type": "code",
   "execution_count": 7,
   "id": "ba654288",
   "metadata": {},
   "outputs": [
    {
     "name": "stdout",
     "output_type": "stream",
     "text": [
      "Mehfooz\n"
     ]
    }
   ],
   "source": [
    "print(students[-2])"
   ]
  },
  {
   "cell_type": "code",
   "execution_count": 9,
   "id": "f3dbe2f8",
   "metadata": {},
   "outputs": [],
   "source": [
    "miscList = [\"Mehfooz\", 12, True, 232.5, [11,22,34]]  \n",
    "#list can store list inside the list "
   ]
  },
  {
   "cell_type": "code",
   "execution_count": 10,
   "id": "bc0bff9d",
   "metadata": {},
   "outputs": [
    {
     "data": {
      "text/plain": [
       "232.5"
      ]
     },
     "execution_count": 10,
     "metadata": {},
     "output_type": "execute_result"
    }
   ],
   "source": [
    "miscList[3]"
   ]
  },
  {
   "cell_type": "code",
   "execution_count": 11,
   "id": "25e2952f",
   "metadata": {},
   "outputs": [
    {
     "data": {
      "text/plain": [
       "[11, 22, 34]"
      ]
     },
     "execution_count": 11,
     "metadata": {},
     "output_type": "execute_result"
    }
   ],
   "source": [
    "miscList[-1]"
   ]
  },
  {
   "cell_type": "code",
   "execution_count": 14,
   "id": "8b89751e",
   "metadata": {},
   "outputs": [
    {
     "data": {
      "text/plain": [
       "34"
      ]
     },
     "execution_count": 14,
     "metadata": {},
     "output_type": "execute_result"
    }
   ],
   "source": [
    "miscList[-1][2]"
   ]
  },
  {
   "cell_type": "code",
   "execution_count": 15,
   "id": "efd3f985",
   "metadata": {},
   "outputs": [],
   "source": [
    "#CRUD Operation - Creat,Retrieve, Update, Delete\n",
    "miscList[2]=False #Update"
   ]
  },
  {
   "cell_type": "code",
   "execution_count": 16,
   "id": "d7ff90e9",
   "metadata": {},
   "outputs": [
    {
     "data": {
      "text/plain": [
       "['Mehfooz', 12, False, 232.5, [11, 22, 34]]"
      ]
     },
     "execution_count": 16,
     "metadata": {},
     "output_type": "execute_result"
    }
   ],
   "source": [
    "miscList"
   ]
  },
  {
   "cell_type": "code",
   "execution_count": 18,
   "id": "1686e927",
   "metadata": {},
   "outputs": [],
   "source": [
    "miscList[2]= \"Hello World\" "
   ]
  },
  {
   "cell_type": "code",
   "execution_count": 19,
   "id": "81a97055",
   "metadata": {},
   "outputs": [
    {
     "data": {
      "text/plain": [
       "['Mehfooz', 12, 'Hello World', 232.5, [11, 22, 34]]"
      ]
     },
     "execution_count": 19,
     "metadata": {},
     "output_type": "execute_result"
    }
   ],
   "source": [
    "miscList"
   ]
  },
  {
   "cell_type": "code",
   "execution_count": 21,
   "id": "a01b157a",
   "metadata": {},
   "outputs": [
    {
     "data": {
      "text/plain": [
       "['Mehfooz', 12, 232.5, [11, 22, 34]]"
      ]
     },
     "execution_count": 21,
     "metadata": {},
     "output_type": "execute_result"
    }
   ],
   "source": [
    "miscList"
   ]
  },
  {
   "cell_type": "markdown",
   "id": "55ed3760",
   "metadata": {},
   "source": [
    "# Inserting in a list \n",
    "    -Append \n",
    "    -Insert"
   ]
  },
  {
   "cell_type": "code",
   "execution_count": 24,
   "id": "0727a6b5",
   "metadata": {},
   "outputs": [],
   "source": [
    "miscList.append(1000)\n",
    "#append hmesha last me add krega"
   ]
  },
  {
   "cell_type": "code",
   "execution_count": 23,
   "id": "e26b73d9",
   "metadata": {},
   "outputs": [
    {
     "data": {
      "text/plain": [
       "['Mehfooz', 12, 232.5, [11, 22, 34], 1000]"
      ]
     },
     "execution_count": 23,
     "metadata": {},
     "output_type": "execute_result"
    }
   ],
   "source": [
    "miscList"
   ]
  },
  {
   "cell_type": "code",
   "execution_count": 25,
   "id": "2c590961",
   "metadata": {},
   "outputs": [],
   "source": [
    "#insert - jb hme apni marzi se index lga kr value rkhni hogi list me\n",
    "students.insert(2, \"Rehan\")"
   ]
  },
  {
   "cell_type": "code",
   "execution_count": 26,
   "id": "44e1c2ce",
   "metadata": {},
   "outputs": [
    {
     "data": {
      "text/plain": [
       "['Asad', 'Ali', 'Rehan', 'Mehfooz', 'Hassan']"
      ]
     },
     "execution_count": 26,
     "metadata": {},
     "output_type": "execute_result"
    }
   ],
   "source": [
    "students"
   ]
  },
  {
   "cell_type": "code",
   "execution_count": 27,
   "id": "c3f83084",
   "metadata": {},
   "outputs": [],
   "source": [
    "students.insert(2, [\"Rehan\", \"Wajid\", \"Nafees\", \"Ayan\"])"
   ]
  },
  {
   "cell_type": "code",
   "execution_count": 28,
   "id": "b6dbc337",
   "metadata": {},
   "outputs": [
    {
     "data": {
      "text/plain": [
       "['Asad',\n",
       " 'Ali',\n",
       " ['Rehan', 'Wajid', 'Nafees', 'Ayan'],\n",
       " 'Rehan',\n",
       " 'Mehfooz',\n",
       " 'Hassan']"
      ]
     },
     "execution_count": 28,
     "metadata": {},
     "output_type": "execute_result"
    }
   ],
   "source": [
    "students"
   ]
  },
  {
   "cell_type": "markdown",
   "id": "d0a33d56",
   "metadata": {},
   "source": [
    "# Delete or Remove memebrs from list\n",
    " - Two ways\n",
    "     - del  #Delete and no written\n",
    "     - remove  #Remove and no return\n",
    "     - pop  #Remove but return the remove value"
   ]
  },
  {
   "cell_type": "code",
   "execution_count": 31,
   "id": "2e1dde37",
   "metadata": {},
   "outputs": [
    {
     "data": {
      "text/plain": [
       "['Mehfooz', 12, 1000]"
      ]
     },
     "execution_count": 31,
     "metadata": {},
     "output_type": "execute_result"
    }
   ],
   "source": [
    "del miscList[2] #Delete the value\n",
    "miscList"
   ]
  },
  {
   "cell_type": "code",
   "execution_count": 32,
   "id": "cfb21a68",
   "metadata": {},
   "outputs": [
    {
     "data": {
      "text/plain": [
       "['Asad',\n",
       " 'Ali',\n",
       " ['Rehan', 'Wajid', 'Nafees', 'Ayan'],\n",
       " 'Rehan',\n",
       " 'Mehfooz',\n",
       " 'Hassan']"
      ]
     },
     "execution_count": 32,
     "metadata": {},
     "output_type": "execute_result"
    }
   ],
   "source": [
    "#Remore\n",
    "students"
   ]
  },
  {
   "cell_type": "code",
   "execution_count": 33,
   "id": "beb5db39",
   "metadata": {},
   "outputs": [
    {
     "data": {
      "text/plain": [
       "['Asad', 'Ali', ['Rehan', 'Wajid', 'Nafees', 'Ayan'], 'Mehfooz', 'Hassan']"
      ]
     },
     "execution_count": 33,
     "metadata": {},
     "output_type": "execute_result"
    }
   ],
   "source": [
    "students.remove(\"Rehan\")\n",
    "students"
   ]
  },
  {
   "cell_type": "code",
   "execution_count": 39,
   "id": "83e0ec58",
   "metadata": {},
   "outputs": [
    {
     "data": {
      "text/plain": [
       "['Asad',\n",
       " 'Ali',\n",
       " 'Ali',\n",
       " 'Ali',\n",
       " ['Rehan', 'Wajid', 'Nafees', 'Ayan'],\n",
       " 'Mehfooz',\n",
       " 'Hassan']"
      ]
     },
     "execution_count": 39,
     "metadata": {},
     "output_type": "execute_result"
    }
   ],
   "source": [
    "students.insert(1,'Ali')\n",
    "students"
   ]
  },
  {
   "cell_type": "code",
   "execution_count": 40,
   "id": "5e3953a3",
   "metadata": {},
   "outputs": [
    {
     "data": {
      "text/plain": [
       "['Asad',\n",
       " 'Ali',\n",
       " 'Ali',\n",
       " ['Rehan', 'Wajid', 'Nafees', 'Ayan'],\n",
       " 'Mehfooz',\n",
       " 'Hassan']"
      ]
     },
     "execution_count": 40,
     "metadata": {},
     "output_type": "execute_result"
    }
   ],
   "source": [
    "students.remove(\"Ali\")\n",
    "students"
   ]
  },
  {
   "cell_type": "code",
   "execution_count": 41,
   "id": "a184385b",
   "metadata": {},
   "outputs": [
    {
     "data": {
      "text/plain": [
       "['Asad',\n",
       " 'Ali',\n",
       " 'Ali',\n",
       " ['Rehan', 'Wajid', 'Nafees', 'Ayan'],\n",
       " 'Mehfooz',\n",
       " 'Hassan',\n",
       " 'Python']"
      ]
     },
     "execution_count": 41,
     "metadata": {},
     "output_type": "execute_result"
    }
   ],
   "source": [
    "students.insert(100,\"Python\")\n",
    "students"
   ]
  },
  {
   "cell_type": "code",
   "execution_count": 42,
   "id": "46ca1dfc",
   "metadata": {},
   "outputs": [
    {
     "ename": "IndexError",
     "evalue": "list index out of range",
     "output_type": "error",
     "traceback": [
      "\u001b[1;31m---------------------------------------------------------------------------\u001b[0m",
      "\u001b[1;31mIndexError\u001b[0m                                Traceback (most recent call last)",
      "\u001b[1;32m~\\AppData\\Local\\Temp/ipykernel_3372/3263128684.py\u001b[0m in \u001b[0;36m<module>\u001b[1;34m\u001b[0m\n\u001b[1;32m----> 1\u001b[1;33m \u001b[0mstudents\u001b[0m\u001b[1;33m[\u001b[0m\u001b[1;36m10\u001b[0m\u001b[1;33m]\u001b[0m\u001b[1;33m\u001b[0m\u001b[1;33m\u001b[0m\u001b[0m\n\u001b[0m",
      "\u001b[1;31mIndexError\u001b[0m: list index out of range"
     ]
    }
   ],
   "source": [
    "students[10]"
   ]
  },
  {
   "cell_type": "code",
   "execution_count": 44,
   "id": "5ace7905",
   "metadata": {},
   "outputs": [
    {
     "data": {
      "text/plain": [
       "'Python'"
      ]
     },
     "execution_count": 44,
     "metadata": {},
     "output_type": "execute_result"
    }
   ],
   "source": [
    "students[6]"
   ]
  },
  {
   "cell_type": "code",
   "execution_count": 45,
   "id": "7b4befb1",
   "metadata": {},
   "outputs": [
    {
     "data": {
      "text/plain": [
       "6"
      ]
     },
     "execution_count": 45,
     "metadata": {},
     "output_type": "execute_result"
    }
   ],
   "source": [
    "#Index\n",
    "students.index(\"Python\") #To know index value"
   ]
  },
  {
   "cell_type": "code",
   "execution_count": 49,
   "id": "ae0915c8",
   "metadata": {},
   "outputs": [
    {
     "ename": "ValueError",
     "evalue": "list.remove(x): x not in list",
     "output_type": "error",
     "traceback": [
      "\u001b[1;31m---------------------------------------------------------------------------\u001b[0m",
      "\u001b[1;31mValueError\u001b[0m                                Traceback (most recent call last)",
      "\u001b[1;32m~\\AppData\\Local\\Temp/ipykernel_3372/1789049439.py\u001b[0m in \u001b[0;36m<module>\u001b[1;34m\u001b[0m\n\u001b[1;32m----> 1\u001b[1;33m \u001b[0mstudents\u001b[0m\u001b[1;33m.\u001b[0m\u001b[0mremove\u001b[0m\u001b[1;33m(\u001b[0m\u001b[1;34m\"Python\"\u001b[0m\u001b[1;33m)\u001b[0m\u001b[1;33m\u001b[0m\u001b[1;33m\u001b[0m\u001b[0m\n\u001b[0m",
      "\u001b[1;31mValueError\u001b[0m: list.remove(x): x not in list"
     ]
    }
   ],
   "source": [
    "students.remove(\"Python\")"
   ]
  },
  {
   "cell_type": "code",
   "execution_count": 50,
   "id": "1e1def68",
   "metadata": {},
   "outputs": [
    {
     "data": {
      "text/plain": [
       "['Asad',\n",
       " 'Ali',\n",
       " 'Ali',\n",
       " ['Rehan', 'Wajid', 'Nafees', 'Ayan'],\n",
       " 'Mehfooz',\n",
       " 'Hassan']"
      ]
     },
     "execution_count": 50,
     "metadata": {},
     "output_type": "execute_result"
    }
   ],
   "source": [
    "students"
   ]
  },
  {
   "cell_type": "code",
   "execution_count": 51,
   "id": "ae474955",
   "metadata": {},
   "outputs": [
    {
     "data": {
      "text/plain": [
       "'Hassan'"
      ]
     },
     "execution_count": 51,
     "metadata": {},
     "output_type": "execute_result"
    }
   ],
   "source": [
    "students.pop()"
   ]
  },
  {
   "cell_type": "code",
   "execution_count": 53,
   "id": "8ab5d3a4",
   "metadata": {},
   "outputs": [
    {
     "name": "stdout",
     "output_type": "stream",
     "text": [
      "['Asad', 'Ali', 'Ali']\n"
     ]
    },
    {
     "data": {
      "text/plain": [
       "['Rehan', 'Wajid', 'Nafees', 'Ayan']"
      ]
     },
     "execution_count": 53,
     "metadata": {},
     "output_type": "execute_result"
    }
   ],
   "source": [
    "popped_val = students.pop()\n",
    "print(students)\n",
    "popped_val"
   ]
  },
  {
   "cell_type": "code",
   "execution_count": 54,
   "id": "83fc7a4a",
   "metadata": {},
   "outputs": [],
   "source": [
    "#Clear function\n",
    "\n",
    "miscList.clear()"
   ]
  },
  {
   "cell_type": "code",
   "execution_count": 55,
   "id": "eec5753a",
   "metadata": {},
   "outputs": [
    {
     "data": {
      "text/plain": [
       "[]"
      ]
     },
     "execution_count": 55,
     "metadata": {},
     "output_type": "execute_result"
    }
   ],
   "source": [
    "miscList"
   ]
  },
  {
   "cell_type": "markdown",
   "id": "3c5a88e7",
   "metadata": {},
   "source": [
    "# Copying a list\n",
    "   - Copy()\n",
    "   - [:]\n",
    "   - lista = listb"
   ]
  },
  {
   "cell_type": "code",
   "execution_count": 56,
   "id": "5e7ee4bd",
   "metadata": {},
   "outputs": [
    {
     "data": {
      "text/plain": [
       "['Asad', 'Ali', 'Ali']"
      ]
     },
     "execution_count": 56,
     "metadata": {},
     "output_type": "execute_result"
    }
   ],
   "source": [
    "students"
   ]
  },
  {
   "cell_type": "code",
   "execution_count": 57,
   "id": "41fbba13",
   "metadata": {},
   "outputs": [],
   "source": [
    "newst = students #Reference Copy"
   ]
  },
  {
   "cell_type": "code",
   "execution_count": 58,
   "id": "28785e77",
   "metadata": {},
   "outputs": [
    {
     "data": {
      "text/plain": [
       "['Asad', 'Ali', 'Ali']"
      ]
     },
     "execution_count": 58,
     "metadata": {},
     "output_type": "execute_result"
    }
   ],
   "source": [
    "newst"
   ]
  },
  {
   "cell_type": "code",
   "execution_count": 59,
   "id": "53c096d6",
   "metadata": {},
   "outputs": [],
   "source": [
    "students.remove(\"Ali\")"
   ]
  },
  {
   "cell_type": "code",
   "execution_count": 60,
   "id": "e541097c",
   "metadata": {},
   "outputs": [
    {
     "data": {
      "text/plain": [
       "['Asad', 'Ali']"
      ]
     },
     "execution_count": 60,
     "metadata": {},
     "output_type": "execute_result"
    }
   ],
   "source": [
    "students"
   ]
  },
  {
   "cell_type": "code",
   "execution_count": 61,
   "id": "8c36658a",
   "metadata": {},
   "outputs": [
    {
     "data": {
      "text/plain": [
       "['Asad', 'Ali']"
      ]
     },
     "execution_count": 61,
     "metadata": {},
     "output_type": "execute_result"
    }
   ],
   "source": [
    "newst"
   ]
  },
  {
   "cell_type": "code",
   "execution_count": 63,
   "id": "ac914aca",
   "metadata": {},
   "outputs": [],
   "source": [
    "newst.append(\"Mehfooz\")"
   ]
  },
  {
   "cell_type": "code",
   "execution_count": 64,
   "id": "1ef13910",
   "metadata": {},
   "outputs": [
    {
     "data": {
      "text/plain": [
       "['Asad', 'Ali', 'Mehfooz']"
      ]
     },
     "execution_count": 64,
     "metadata": {},
     "output_type": "execute_result"
    }
   ],
   "source": [
    "newst"
   ]
  },
  {
   "cell_type": "code",
   "execution_count": 66,
   "id": "50e93a3e",
   "metadata": {},
   "outputs": [],
   "source": [
    "mySt = students.copy()"
   ]
  },
  {
   "cell_type": "code",
   "execution_count": 67,
   "id": "618fee4d",
   "metadata": {},
   "outputs": [
    {
     "data": {
      "text/plain": [
       "['Asad', 'Ali', 'Mehfooz']"
      ]
     },
     "execution_count": 67,
     "metadata": {},
     "output_type": "execute_result"
    }
   ],
   "source": [
    "mySt"
   ]
  },
  {
   "cell_type": "code",
   "execution_count": 68,
   "id": "b6e9f22e",
   "metadata": {},
   "outputs": [],
   "source": [
    "students.remove(\"Ali\")"
   ]
  },
  {
   "cell_type": "code",
   "execution_count": 69,
   "id": "462fdea6",
   "metadata": {},
   "outputs": [
    {
     "data": {
      "text/plain": [
       "['Asad', 'Ali', 'Mehfooz']"
      ]
     },
     "execution_count": 69,
     "metadata": {},
     "output_type": "execute_result"
    }
   ],
   "source": [
    "mySt"
   ]
  },
  {
   "cell_type": "code",
   "execution_count": 70,
   "id": "ae5a1db6",
   "metadata": {},
   "outputs": [
    {
     "data": {
      "text/plain": [
       "['Asad', 'Mehfooz']"
      ]
     },
     "execution_count": 70,
     "metadata": {},
     "output_type": "execute_result"
    }
   ],
   "source": [
    "students"
   ]
  },
  {
   "cell_type": "code",
   "execution_count": null,
   "id": "33046e12",
   "metadata": {},
   "outputs": [],
   "source": [
    "#New Way\n",
    "yourSt = students"
   ]
  },
  {
   "cell_type": "code",
   "execution_count": 73,
   "id": "2776fb1a",
   "metadata": {},
   "outputs": [
    {
     "data": {
      "text/plain": [
       "1"
      ]
     },
     "execution_count": 73,
     "metadata": {},
     "output_type": "execute_result"
    }
   ],
   "source": [
    "students.count(\"Mehfooz\")"
   ]
  },
  {
   "cell_type": "code",
   "execution_count": 74,
   "id": "693edc0d",
   "metadata": {},
   "outputs": [],
   "source": [
    "name = 'Shahzad Ahsan'"
   ]
  },
  {
   "cell_type": "code",
   "execution_count": 75,
   "id": "86ec75f5",
   "metadata": {},
   "outputs": [
    {
     "data": {
      "text/plain": [
       "'h'"
      ]
     },
     "execution_count": 75,
     "metadata": {},
     "output_type": "execute_result"
    }
   ],
   "source": [
    "name[3]"
   ]
  },
  {
   "cell_type": "code",
   "execution_count": 77,
   "id": "ce002b4b",
   "metadata": {},
   "outputs": [
    {
     "data": {
      "text/plain": [
       "3"
      ]
     },
     "execution_count": 77,
     "metadata": {},
     "output_type": "execute_result"
    }
   ],
   "source": [
    "name.count('h')"
   ]
  },
  {
   "cell_type": "code",
   "execution_count": 78,
   "id": "7390d56f",
   "metadata": {},
   "outputs": [
    {
     "data": {
      "text/plain": [
       "['Asad', 'Mehfooz', 'Hello', 'Python']"
      ]
     },
     "execution_count": 78,
     "metadata": {},
     "output_type": "execute_result"
    }
   ],
   "source": [
    "#Extends\n",
    "students + [\"Hello\", \"Python\"]"
   ]
  },
  {
   "cell_type": "code",
   "execution_count": 79,
   "id": "8aa9d2b5",
   "metadata": {},
   "outputs": [],
   "source": [
    "students.extend([\"a\",'b','c'])"
   ]
  },
  {
   "cell_type": "code",
   "execution_count": 80,
   "id": "1226441e",
   "metadata": {},
   "outputs": [
    {
     "data": {
      "text/plain": [
       "['Asad', 'Mehfooz', 'a', 'b', 'c']"
      ]
     },
     "execution_count": 80,
     "metadata": {},
     "output_type": "execute_result"
    }
   ],
   "source": [
    "students"
   ]
  },
  {
   "cell_type": "code",
   "execution_count": 81,
   "id": "7cfeb215",
   "metadata": {},
   "outputs": [],
   "source": [
    "students.append([\"a\",'b','c'])"
   ]
  },
  {
   "cell_type": "code",
   "execution_count": 82,
   "id": "48f4a9ab",
   "metadata": {},
   "outputs": [
    {
     "data": {
      "text/plain": [
       "['Asad', 'Mehfooz', 'a', 'b', 'c', ['a', 'b', 'c']]"
      ]
     },
     "execution_count": 82,
     "metadata": {},
     "output_type": "execute_result"
    }
   ],
   "source": [
    "students"
   ]
  },
  {
   "cell_type": "code",
   "execution_count": 84,
   "id": "29f19e55",
   "metadata": {},
   "outputs": [],
   "source": [
    "students.extend(\"Pakistan\") #String Immutable and Iterable he"
   ]
  },
  {
   "cell_type": "code",
   "execution_count": 85,
   "id": "3046bc3a",
   "metadata": {},
   "outputs": [
    {
     "data": {
      "text/plain": [
       "['Asad',\n",
       " 'Mehfooz',\n",
       " 'a',\n",
       " 'b',\n",
       " 'c',\n",
       " ['a', 'b', 'c'],\n",
       " 'P',\n",
       " 'a',\n",
       " 'k',\n",
       " 'i',\n",
       " 's',\n",
       " 't',\n",
       " 'a',\n",
       " 'n']"
      ]
     },
     "execution_count": 85,
     "metadata": {},
     "output_type": "execute_result"
    }
   ],
   "source": [
    "students"
   ]
  },
  {
   "cell_type": "code",
   "execution_count": 86,
   "id": "702c4e6f",
   "metadata": {},
   "outputs": [],
   "source": [
    "students.extend([\"India\"])"
   ]
  },
  {
   "cell_type": "code",
   "execution_count": 87,
   "id": "61c9a96d",
   "metadata": {},
   "outputs": [
    {
     "data": {
      "text/plain": [
       "['Asad',\n",
       " 'Mehfooz',\n",
       " 'a',\n",
       " 'b',\n",
       " 'c',\n",
       " ['a', 'b', 'c'],\n",
       " 'P',\n",
       " 'a',\n",
       " 'k',\n",
       " 'i',\n",
       " 's',\n",
       " 't',\n",
       " 'a',\n",
       " 'n',\n",
       " 'India']"
      ]
     },
     "execution_count": 87,
     "metadata": {},
     "output_type": "execute_result"
    }
   ],
   "source": [
    "students"
   ]
  },
  {
   "cell_type": "code",
   "execution_count": 88,
   "id": "b8d9c26d",
   "metadata": {},
   "outputs": [],
   "source": [
    "students.extend(\"5044\")"
   ]
  },
  {
   "cell_type": "code",
   "execution_count": 89,
   "id": "6af3df7e",
   "metadata": {},
   "outputs": [
    {
     "data": {
      "text/plain": [
       "['Asad',\n",
       " 'Mehfooz',\n",
       " 'a',\n",
       " 'b',\n",
       " 'c',\n",
       " ['a', 'b', 'c'],\n",
       " 'P',\n",
       " 'a',\n",
       " 'k',\n",
       " 'i',\n",
       " 's',\n",
       " 't',\n",
       " 'a',\n",
       " 'n',\n",
       " 'India',\n",
       " '5',\n",
       " '0',\n",
       " '4',\n",
       " '4']"
      ]
     },
     "execution_count": 89,
     "metadata": {},
     "output_type": "execute_result"
    }
   ],
   "source": [
    "students"
   ]
  },
  {
   "cell_type": "markdown",
   "id": "5bf1d781",
   "metadata": {},
   "source": [
    "# Slicing\n",
    "   -"
   ]
  },
  {
   "cell_type": "code",
   "execution_count": 90,
   "id": "9c930898",
   "metadata": {},
   "outputs": [
    {
     "data": {
      "text/plain": [
       "44"
      ]
     },
     "execution_count": 90,
     "metadata": {},
     "output_type": "execute_result"
    }
   ],
   "source": [
    "#list se slice krenge to return value list ho hogi\n",
    "nums = [11, 22, 33, 44, 55, 66, 77, 88, 99]\n",
    "nums[3]  #indexing"
   ]
  },
  {
   "cell_type": "code",
   "execution_count": 91,
   "id": "3ed8aeea",
   "metadata": {},
   "outputs": [
    {
     "data": {
      "text/plain": [
       "[22]"
      ]
     },
     "execution_count": 91,
     "metadata": {},
     "output_type": "execute_result"
    }
   ],
   "source": [
    "#Return value will be in LIST\n",
    "nums[1:2] #Slicing"
   ]
  },
  {
   "cell_type": "code",
   "execution_count": 92,
   "id": "7b94361f",
   "metadata": {},
   "outputs": [],
   "source": [
    "#Indexing me reference krte hen, konsi value pick krni he\n",
    "#or Slicing  me complete list k throgh hm numbers pick krenge."
   ]
  },
  {
   "cell_type": "code",
   "execution_count": 93,
   "id": "9089032f",
   "metadata": {},
   "outputs": [],
   "source": [
    "nums2 = nums[:]"
   ]
  },
  {
   "cell_type": "code",
   "execution_count": 94,
   "id": "64f26be6",
   "metadata": {},
   "outputs": [
    {
     "data": {
      "text/plain": [
       "[11, 22, 33, 44, 55, 66, 77, 88, 99]"
      ]
     },
     "execution_count": 94,
     "metadata": {},
     "output_type": "execute_result"
    }
   ],
   "source": [
    "nums2"
   ]
  },
  {
   "cell_type": "code",
   "execution_count": 97,
   "id": "8effa3b8",
   "metadata": {},
   "outputs": [],
   "source": [
    "nums3 = nums[2:5]"
   ]
  },
  {
   "cell_type": "code",
   "execution_count": 98,
   "id": "62a65f43",
   "metadata": {},
   "outputs": [
    {
     "data": {
      "text/plain": [
       "[33, 44, 55]"
      ]
     },
     "execution_count": 98,
     "metadata": {},
     "output_type": "execute_result"
    }
   ],
   "source": [
    "nums3"
   ]
  },
  {
   "cell_type": "code",
   "execution_count": 99,
   "id": "f479326f",
   "metadata": {},
   "outputs": [
    {
     "data": {
      "text/plain": [
       "([11, 22, 33, 44, 55, 66], [11, 22, 33, 44, 55, 66])"
      ]
     },
     "execution_count": 99,
     "metadata": {},
     "output_type": "execute_result"
    }
   ],
   "source": [
    "nums[0:6], nums[:6]"
   ]
  },
  {
   "cell_type": "code",
   "execution_count": 100,
   "id": "d75f7bf2",
   "metadata": {},
   "outputs": [
    {
     "data": {
      "text/plain": [
       "([77, 88, 99], [77, 88, 99])"
      ]
     },
     "execution_count": 100,
     "metadata": {},
     "output_type": "execute_result"
    }
   ],
   "source": [
    "nums[6:9], nums[6:]"
   ]
  },
  {
   "cell_type": "code",
   "execution_count": 101,
   "id": "c84e2211",
   "metadata": {},
   "outputs": [
    {
     "data": {
      "text/plain": [
       "[77, 88, 99]"
      ]
     },
     "execution_count": 101,
     "metadata": {},
     "output_type": "execute_result"
    }
   ],
   "source": [
    "nums[6:300]"
   ]
  },
  {
   "cell_type": "code",
   "execution_count": 102,
   "id": "ba5522b5",
   "metadata": {},
   "outputs": [
    {
     "data": {
      "text/plain": [
       "([77, 88, 99], [77, 88])"
      ]
     },
     "execution_count": 102,
     "metadata": {},
     "output_type": "execute_result"
    }
   ],
   "source": [
    "nums[6:9], nums[6:-1]"
   ]
  },
  {
   "cell_type": "code",
   "execution_count": 103,
   "id": "a8fcba71",
   "metadata": {},
   "outputs": [
    {
     "data": {
      "text/plain": [
       "[]"
      ]
     },
     "execution_count": 103,
     "metadata": {},
     "output_type": "execute_result"
    }
   ],
   "source": [
    "nums[8:2]"
   ]
  },
  {
   "cell_type": "code",
   "execution_count": 104,
   "id": "ea7db908",
   "metadata": {},
   "outputs": [
    {
     "data": {
      "text/plain": [
       "[11, 22, 33, 44, 55, 66, 77, 88, 99]"
      ]
     },
     "execution_count": 104,
     "metadata": {},
     "output_type": "execute_result"
    }
   ],
   "source": [
    "nums"
   ]
  },
  {
   "cell_type": "code",
   "execution_count": 106,
   "id": "56467023",
   "metadata": {},
   "outputs": [
    {
     "data": {
      "text/plain": [
       "[]"
      ]
     },
     "execution_count": 106,
     "metadata": {},
     "output_type": "execute_result"
    }
   ],
   "source": [
    "nums[-1:-6]"
   ]
  },
  {
   "cell_type": "code",
   "execution_count": 107,
   "id": "7cb352a9",
   "metadata": {},
   "outputs": [
    {
     "data": {
      "text/plain": [
       "[11, 22, 33, 44, 55, 66]"
      ]
     },
     "execution_count": 107,
     "metadata": {},
     "output_type": "execute_result"
    }
   ],
   "source": [
    "   # start   end   step\n",
    "nums[0:6:1]\n"
   ]
  },
  {
   "cell_type": "code",
   "execution_count": 109,
   "id": "9271b477",
   "metadata": {},
   "outputs": [
    {
     "data": {
      "text/plain": [
       "[11, 33, 55, 77]"
      ]
     },
     "execution_count": 109,
     "metadata": {},
     "output_type": "execute_result"
    }
   ],
   "source": [
    "nums[0:8:2]\n"
   ]
  },
  {
   "cell_type": "code",
   "execution_count": 110,
   "id": "65bb3aa1",
   "metadata": {},
   "outputs": [
    {
     "data": {
      "text/plain": [
       "[11, 44, 77]"
      ]
     },
     "execution_count": 110,
     "metadata": {},
     "output_type": "execute_result"
    }
   ],
   "source": [
    "nums[::3]"
   ]
  },
  {
   "cell_type": "code",
   "execution_count": 112,
   "id": "6d406cda",
   "metadata": {},
   "outputs": [
    {
     "data": {
      "text/plain": [
       "[99, 77, 55, 33, 11]"
      ]
     },
     "execution_count": 112,
     "metadata": {},
     "output_type": "execute_result"
    }
   ],
   "source": [
    "nums[::-2]"
   ]
  },
  {
   "cell_type": "code",
   "execution_count": 113,
   "id": "2589bd11",
   "metadata": {},
   "outputs": [
    {
     "data": {
      "text/plain": [
       "[11, 22, 33, 44, 55, 66, 77, 88, 99]"
      ]
     },
     "execution_count": 113,
     "metadata": {},
     "output_type": "execute_result"
    }
   ],
   "source": [
    "nums"
   ]
  },
  {
   "cell_type": "code",
   "execution_count": 114,
   "id": "9a5de226",
   "metadata": {},
   "outputs": [
    {
     "data": {
      "text/plain": [
       "[77, 66, 55]"
      ]
     },
     "execution_count": 114,
     "metadata": {},
     "output_type": "execute_result"
    }
   ],
   "source": [
    "nums[6:3:-1]"
   ]
  },
  {
   "cell_type": "code",
   "execution_count": 115,
   "id": "dd4174f2",
   "metadata": {},
   "outputs": [
    {
     "data": {
      "text/plain": [
       "[11, 22, 33, 44, 55, 66, 77, 88, 99]"
      ]
     },
     "execution_count": 115,
     "metadata": {},
     "output_type": "execute_result"
    }
   ],
   "source": [
    "nums"
   ]
  },
  {
   "cell_type": "code",
   "execution_count": 116,
   "id": "022e97ad",
   "metadata": {},
   "outputs": [
    {
     "data": {
      "text/plain": [
       "[66, 77]"
      ]
     },
     "execution_count": 116,
     "metadata": {},
     "output_type": "execute_result"
    }
   ],
   "source": [
    "#Exam Questions\n",
    "nums[-4:7]"
   ]
  },
  {
   "cell_type": "code",
   "execution_count": 117,
   "id": "91d15f27",
   "metadata": {},
   "outputs": [
    {
     "data": {
      "text/plain": [
       "[]"
      ]
     },
     "execution_count": 117,
     "metadata": {},
     "output_type": "execute_result"
    }
   ],
   "source": [
    "nums[-4:7:-1]"
   ]
  },
  {
   "cell_type": "code",
   "execution_count": 118,
   "id": "8f73ccdc",
   "metadata": {},
   "outputs": [
    {
     "data": {
      "text/plain": [
       "[66, 77, 88]"
      ]
     },
     "execution_count": 118,
     "metadata": {},
     "output_type": "execute_result"
    }
   ],
   "source": [
    "nums[-4:-1]"
   ]
  },
  {
   "cell_type": "code",
   "execution_count": 124,
   "id": "3dac9a10",
   "metadata": {},
   "outputs": [
    {
     "data": {
      "text/plain": [
       "[11, 99]"
      ]
     },
     "execution_count": 124,
     "metadata": {},
     "output_type": "execute_result"
    }
   ],
   "source": [
    "nums[::8]"
   ]
  },
  {
   "cell_type": "markdown",
   "id": "18467bec",
   "metadata": {},
   "source": [
    "# Tuples\n",
    "   - Immutable\n",
    "   - Change ny hoti value\n",
    "   - ()"
   ]
  },
  {
   "cell_type": "code",
   "execution_count": 126,
   "id": "78eee58a",
   "metadata": {},
   "outputs": [],
   "source": [
    "atup = (2,3, 4,5,6,7,8,9) "
   ]
  },
  {
   "cell_type": "code",
   "execution_count": 127,
   "id": "d1baa29f",
   "metadata": {},
   "outputs": [
    {
     "data": {
      "text/plain": [
       "2"
      ]
     },
     "execution_count": 127,
     "metadata": {},
     "output_type": "execute_result"
    }
   ],
   "source": [
    "atup[0]"
   ]
  },
  {
   "cell_type": "markdown",
   "id": "8464846b",
   "metadata": {},
   "source": [
    "# Sets\n",
    "   - Curly Braces {}"
   ]
  },
  {
   "cell_type": "code",
   "execution_count": 128,
   "id": "de27b459",
   "metadata": {},
   "outputs": [
    {
     "data": {
      "text/plain": [
       "set"
      ]
     },
     "execution_count": 128,
     "metadata": {},
     "output_type": "execute_result"
    }
   ],
   "source": [
    "aset = {1,2,3,4,5,6,7,8,9}\n",
    "type(aset)"
   ]
  },
  {
   "cell_type": "code",
   "execution_count": 129,
   "id": "aa503f46",
   "metadata": {},
   "outputs": [
    {
     "data": {
      "text/plain": [
       "{1, 2, 3, 4, 5, 6, 7, 8, 9}"
      ]
     },
     "execution_count": 129,
     "metadata": {},
     "output_type": "execute_result"
    }
   ],
   "source": [
    "aset"
   ]
  },
  {
   "cell_type": "code",
   "execution_count": 130,
   "id": "0f2505c6",
   "metadata": {},
   "outputs": [],
   "source": [
    "alist = [1,2,3,4,5,6,7,8,9]"
   ]
  },
  {
   "cell_type": "code",
   "execution_count": 131,
   "id": "a6e8b7a6",
   "metadata": {},
   "outputs": [
    {
     "data": {
      "text/plain": [
       "{1, 2, 3, 4, 5, 6, 7, 8, 9}"
      ]
     },
     "execution_count": 131,
     "metadata": {},
     "output_type": "execute_result"
    }
   ],
   "source": [
    "set(alist)"
   ]
  },
  {
   "cell_type": "code",
   "execution_count": 132,
   "id": "8d90c53c",
   "metadata": {},
   "outputs": [
    {
     "data": {
      "text/plain": [
       "[1, 2, 3, 4, 5, 6, 7, 8, 9]"
      ]
     },
     "execution_count": 132,
     "metadata": {},
     "output_type": "execute_result"
    }
   ],
   "source": [
    "list(set(alist))"
   ]
  },
  {
   "cell_type": "code",
   "execution_count": null,
   "id": "c21099d4",
   "metadata": {},
   "outputs": [],
   "source": []
  }
 ],
 "metadata": {
  "kernelspec": {
   "display_name": "Python 3 (ipykernel)",
   "language": "python",
   "name": "python3"
  },
  "language_info": {
   "codemirror_mode": {
    "name": "ipython",
    "version": 3
   },
   "file_extension": ".py",
   "mimetype": "text/x-python",
   "name": "python",
   "nbconvert_exporter": "python",
   "pygments_lexer": "ipython3",
   "version": "3.9.7"
  }
 },
 "nbformat": 4,
 "nbformat_minor": 5
}
